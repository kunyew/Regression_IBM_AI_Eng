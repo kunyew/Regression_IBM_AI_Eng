{
    "cells": [
        {
            "cell_type": "markdown",
            "metadata": {},
            "source": "## First import the dataset which was downloaded to desktop into this watson studio notebook"
        },
        {
            "cell_type": "code",
            "execution_count": 1,
            "metadata": {},
            "outputs": [
                {
                    "data": {
                        "text/html": "<div>\n<style scoped>\n    .dataframe tbody tr th:only-of-type {\n        vertical-align: middle;\n    }\n\n    .dataframe tbody tr th {\n        vertical-align: top;\n    }\n\n    .dataframe thead th {\n        text-align: right;\n    }\n</style>\n<table border=\"1\" class=\"dataframe\">\n  <thead>\n    <tr style=\"text-align: right;\">\n      <th></th>\n      <th>Cement</th>\n      <th>Blast Furnace Slag</th>\n      <th>Fly Ash</th>\n      <th>Water</th>\n      <th>Superplasticizer</th>\n      <th>Coarse Aggregate</th>\n      <th>Fine Aggregate</th>\n      <th>Age</th>\n      <th>Strength</th>\n    </tr>\n  </thead>\n  <tbody>\n    <tr>\n      <th>0</th>\n      <td>540.0</td>\n      <td>0.0</td>\n      <td>0.0</td>\n      <td>162.0</td>\n      <td>2.5</td>\n      <td>1040.0</td>\n      <td>676.0</td>\n      <td>28</td>\n      <td>79.99</td>\n    </tr>\n    <tr>\n      <th>1</th>\n      <td>540.0</td>\n      <td>0.0</td>\n      <td>0.0</td>\n      <td>162.0</td>\n      <td>2.5</td>\n      <td>1055.0</td>\n      <td>676.0</td>\n      <td>28</td>\n      <td>61.89</td>\n    </tr>\n    <tr>\n      <th>2</th>\n      <td>332.5</td>\n      <td>142.5</td>\n      <td>0.0</td>\n      <td>228.0</td>\n      <td>0.0</td>\n      <td>932.0</td>\n      <td>594.0</td>\n      <td>270</td>\n      <td>40.27</td>\n    </tr>\n    <tr>\n      <th>3</th>\n      <td>332.5</td>\n      <td>142.5</td>\n      <td>0.0</td>\n      <td>228.0</td>\n      <td>0.0</td>\n      <td>932.0</td>\n      <td>594.0</td>\n      <td>365</td>\n      <td>41.05</td>\n    </tr>\n    <tr>\n      <th>4</th>\n      <td>198.6</td>\n      <td>132.4</td>\n      <td>0.0</td>\n      <td>192.0</td>\n      <td>0.0</td>\n      <td>978.4</td>\n      <td>825.5</td>\n      <td>360</td>\n      <td>44.30</td>\n    </tr>\n  </tbody>\n</table>\n</div>",
                        "text/plain": "   Cement  Blast Furnace Slag  Fly Ash  Water  Superplasticizer  \\\n0   540.0                 0.0      0.0  162.0               2.5   \n1   540.0                 0.0      0.0  162.0               2.5   \n2   332.5               142.5      0.0  228.0               0.0   \n3   332.5               142.5      0.0  228.0               0.0   \n4   198.6               132.4      0.0  192.0               0.0   \n\n   Coarse Aggregate  Fine Aggregate  Age  Strength  \n0            1040.0           676.0   28     79.99  \n1            1055.0           676.0   28     61.89  \n2             932.0           594.0  270     40.27  \n3             932.0           594.0  365     41.05  \n4             978.4           825.5  360     44.30  "
                    },
                    "execution_count": 1,
                    "metadata": {},
                    "output_type": "execute_result"
                }
            ],
            "source": "# The code was removed by Watson Studio for sharing."
        },
        {
            "cell_type": "markdown",
            "metadata": {},
            "source": "## Rename the dataset to concrete_data after import to notebook and check data for size and missing data if any"
        },
        {
            "cell_type": "code",
            "execution_count": 2,
            "metadata": {},
            "outputs": [
                {
                    "data": {
                        "text/plain": "(1030, 9)"
                    },
                    "execution_count": 2,
                    "metadata": {},
                    "output_type": "execute_result"
                }
            ],
            "source": "# make a copy of dataframe df_data_0 as concrete_data and check the number of rows and columns. \nconcrete_data = df_data_0\nconcrete_data.shape"
        },
        {
            "cell_type": "code",
            "execution_count": 3,
            "metadata": {},
            "outputs": [
                {
                    "data": {
                        "text/plain": "Cement                0\nBlast Furnace Slag    0\nFly Ash               0\nWater                 0\nSuperplasticizer      0\nCoarse Aggregate      0\nFine Aggregate        0\nAge                   0\nStrength              0\ndtype: int64"
                    },
                    "execution_count": 3,
                    "metadata": {},
                    "output_type": "execute_result"
                }
            ],
            "source": "# check and count for any missing data in the dataframe\nconcrete_data.isnull().sum()"
        },
        {
            "cell_type": "markdown",
            "metadata": {},
            "source": "## Set up target and predictors and split data into training and test data sets "
        },
        {
            "cell_type": "code",
            "execution_count": 4,
            "metadata": {},
            "outputs": [],
            "source": "# separate out the predictors from the target\npredictors = concrete_data.drop(columns='Strength')\ntarget = concrete_data['Strength']"
        },
        {
            "cell_type": "code",
            "execution_count": 5,
            "metadata": {},
            "outputs": [],
            "source": "#import module to split sample into training and test sets\nfrom sklearn.model_selection import train_test_split"
        },
        {
            "cell_type": "code",
            "execution_count": 6,
            "metadata": {},
            "outputs": [],
            "source": "# divide data set into training and test data sets on a 30% split for test dataset\n \nX_train, X_test, y_train, y_test = train_test_split(predictors, target, test_size= 0.3, random_state = 0)\n"
        },
        {
            "cell_type": "code",
            "execution_count": 7,
            "metadata": {},
            "outputs": [],
            "source": "# set up the features for the model\nn_cols = predictors.shape[1]"
        },
        {
            "cell_type": "markdown",
            "metadata": {},
            "source": "## Build and Compile ANN Model"
        },
        {
            "cell_type": "code",
            "execution_count": 8,
            "metadata": {},
            "outputs": [
                {
                    "name": "stderr",
                    "output_type": "stream",
                    "text": "Using TensorFlow backend.\n"
                }
            ],
            "source": "#Next three code cells build and compile model\nimport keras\nfrom keras.models import Sequential\nfrom keras.layers import Dense"
        },
        {
            "cell_type": "code",
            "execution_count": 9,
            "metadata": {},
            "outputs": [
                {
                    "name": "stdout",
                    "output_type": "stream",
                    "text": "WARNING:tensorflow:From /opt/conda/envs/Python36/lib/python3.6/site-packages/tensorflow/python/framework/op_def_library.py:263: colocate_with (from tensorflow.python.framework.ops) is deprecated and will be removed in a future version.\nInstructions for updating:\nColocations handled automatically by placer.\n"
                }
            ],
            "source": "model = Sequential()\nmodel.add(Dense(10, activation='relu',input_shape=(n_cols, ),))\nmodel.add(Dense(1))"
        },
        {
            "cell_type": "code",
            "execution_count": 10,
            "metadata": {},
            "outputs": [],
            "source": "model.compile(optimizer='adam',loss='mean_squared_error')\n"
        },
        {
            "cell_type": "markdown",
            "metadata": {},
            "source": "## For this Part B of project, we prepare a set of standardized train and test data sets for the predictors or features to train and evaluate model. So we use scikitlearn StandardScaler to achieve this."
        },
        {
            "cell_type": "code",
            "execution_count": 11,
            "metadata": {},
            "outputs": [
                {
                    "name": "stderr",
                    "output_type": "stream",
                    "text": "/opt/conda/envs/Python36/lib/python3.6/site-packages/sklearn/preprocessing/data.py:645: DataConversionWarning: Data with input dtype int64, float64 were all converted to float64 by StandardScaler.\n  return self.partial_fit(X, y)\n/opt/conda/envs/Python36/lib/python3.6/site-packages/sklearn/base.py:464: DataConversionWarning: Data with input dtype int64, float64 were all converted to float64 by StandardScaler.\n  return self.fit(X, **fit_params).transform(X)\n/opt/conda/envs/Python36/lib/python3.6/site-packages/ipykernel/__main__.py:5: DataConversionWarning: Data with input dtype int64, float64 were all converted to float64 by StandardScaler.\n"
                }
            ],
            "source": "# import StandardScaler from sklearn.preprocessing and perform data normalization or standardization\nfrom sklearn.preprocessing import StandardScaler\nscale = StandardScaler()\nX_train_s = scale.fit_transform(X_train)\nX_test_s = scale.transform(X_test)\n"
        },
        {
            "cell_type": "markdown",
            "metadata": {},
            "source": "## Train and Evaluate Model for one iteration to check it works"
        },
        {
            "cell_type": "code",
            "execution_count": 12,
            "metadata": {},
            "outputs": [
                {
                    "name": "stdout",
                    "output_type": "stream",
                    "text": "WARNING:tensorflow:From /opt/conda/envs/Python36/lib/python3.6/site-packages/tensorflow/python/ops/math_ops.py:3066: to_int32 (from tensorflow.python.ops.math_ops) is deprecated and will be removed in a future version.\nInstructions for updating:\nUse tf.cast instead.\n"
                },
                {
                    "data": {
                        "text/plain": "<keras.callbacks.History at 0x7fca450dde48>"
                    },
                    "execution_count": 12,
                    "metadata": {},
                    "output_type": "execute_result"
                }
            ],
            "source": "# Train model on stadardized training data\nmodel.fit( x=X_train_s, y=y_train, epochs=50, verbose=0)\n"
        },
        {
            "cell_type": "code",
            "execution_count": 13,
            "metadata": {},
            "outputs": [
                {
                    "name": "stdout",
                    "output_type": "stream",
                    "text": "309/309 [==============================] - 1s 4ms/step\ntest loss, test acc: 403.29160859438207\n"
                }
            ],
            "source": "# evaluate model on standardized test data\nresults = model.evaluate(X_test_s, y_test, batch_size=8)\nprint('test loss, test acc:', results)"
        },
        {
            "cell_type": "markdown",
            "metadata": {},
            "source": "## After successfully testing for one iteration of the model and evaluation above, we do next the 50 iterations as required in section B of submission."
        },
        {
            "cell_type": "code",
            "execution_count": 14,
            "metadata": {},
            "outputs": [
                {
                    "name": "stdout",
                    "output_type": "stream",
                    "text": "Epoch 1/50\n - 0s - loss: 420.5871\n"
                },
                {
                    "name": "stderr",
                    "output_type": "stream",
                    "text": "/opt/conda/envs/Python36/lib/python3.6/site-packages/sklearn/preprocessing/data.py:645: DataConversionWarning: Data with input dtype int64, float64 were all converted to float64 by StandardScaler.\n  return self.partial_fit(X, y)\n/opt/conda/envs/Python36/lib/python3.6/site-packages/sklearn/base.py:464: DataConversionWarning: Data with input dtype int64, float64 were all converted to float64 by StandardScaler.\n  return self.fit(X, **fit_params).transform(X)\n/opt/conda/envs/Python36/lib/python3.6/site-packages/ipykernel/__main__.py:8: DataConversionWarning: Data with input dtype int64, float64 were all converted to float64 by StandardScaler.\n"
                },
                {
                    "name": "stdout",
                    "output_type": "stream",
                    "text": "Epoch 2/50\n - 0s - loss: 404.3688\nEpoch 3/50\n - 0s - loss: 389.2288\nEpoch 4/50\n - 0s - loss: 375.2467\nEpoch 5/50\n - 0s - loss: 361.9625\nEpoch 6/50\n - 0s - loss: 349.8416\nEpoch 7/50\n - 0s - loss: 338.5889\nEpoch 8/50\n - 0s - loss: 328.1722\nEpoch 9/50\n - 0s - loss: 318.4843\nEpoch 10/50\n - 0s - loss: 309.6379\nEpoch 11/50\n - 0s - loss: 301.5303\nEpoch 12/50\n - 0s - loss: 293.7458\nEpoch 13/50\n - 0s - loss: 286.9777\nEpoch 14/50\n - 0s - loss: 280.6395\nEpoch 15/50\n - 0s - loss: 274.5761\nEpoch 16/50\n - 0s - loss: 269.3887\nEpoch 17/50\n - 0s - loss: 264.4279\nEpoch 18/50\n - 0s - loss: 259.8201\nEpoch 19/50\n - 1s - loss: 255.6304\nEpoch 20/50\n - 0s - loss: 251.5520\nEpoch 21/50\n - 1s - loss: 247.8295\nEpoch 22/50\n - 0s - loss: 244.3941\nEpoch 23/50\n - 0s - loss: 241.0413\nEpoch 24/50\n - 0s - loss: 237.8603\nEpoch 25/50\n - 0s - loss: 234.9323\nEpoch 26/50\n - 0s - loss: 231.9707\nEpoch 27/50\n - 0s - loss: 229.2154\nEpoch 28/50\n - 0s - loss: 226.5880\nEpoch 29/50\n - 0s - loss: 224.0656\nEpoch 30/50\n - 0s - loss: 221.6112\nEpoch 31/50\n - 0s - loss: 219.2758\nEpoch 32/50\n - 0s - loss: 216.9626\nEpoch 33/50\n - 0s - loss: 214.6572\nEpoch 34/50\n - 1s - loss: 212.5553\nEpoch 35/50\n - 0s - loss: 210.4823\nEpoch 36/50\n - 0s - loss: 208.3988\nEpoch 37/50\n - 0s - loss: 206.3755\nEpoch 38/50\n - 0s - loss: 204.4459\nEpoch 39/50\n - 0s - loss: 202.4317\nEpoch 40/50\n - 0s - loss: 200.3755\nEpoch 41/50\n - 0s - loss: 198.4477\nEpoch 42/50\n - 0s - loss: 196.5992\nEpoch 43/50\n - 0s - loss: 194.7234\nEpoch 44/50\n - 0s - loss: 192.8159\nEpoch 45/50\n - 0s - loss: 190.9499\nEpoch 46/50\n - 0s - loss: 189.1774\nEpoch 47/50\n - 0s - loss: 187.4869\nEpoch 48/50\n - 0s - loss: 185.7768\nEpoch 49/50\n - 0s - loss: 184.1646\nEpoch 50/50\n - 0s - loss: 182.4384\n309/309 [==============================] - 0s 621us/step\nEpoch 1/50\n - 0s - loss: 180.7511\n"
                },
                {
                    "name": "stderr",
                    "output_type": "stream",
                    "text": "/opt/conda/envs/Python36/lib/python3.6/site-packages/sklearn/preprocessing/data.py:645: DataConversionWarning: Data with input dtype int64, float64 were all converted to float64 by StandardScaler.\n  return self.partial_fit(X, y)\n/opt/conda/envs/Python36/lib/python3.6/site-packages/sklearn/base.py:464: DataConversionWarning: Data with input dtype int64, float64 were all converted to float64 by StandardScaler.\n  return self.fit(X, **fit_params).transform(X)\n/opt/conda/envs/Python36/lib/python3.6/site-packages/ipykernel/__main__.py:8: DataConversionWarning: Data with input dtype int64, float64 were all converted to float64 by StandardScaler.\n"
                },
                {
                    "name": "stdout",
                    "output_type": "stream",
                    "text": "Epoch 2/50\n - 0s - loss: 179.1863\nEpoch 3/50\n - 0s - loss: 177.6259\nEpoch 4/50\n - 0s - loss: 176.0955\nEpoch 5/50\n - 0s - loss: 174.5808\nEpoch 6/50\n - 0s - loss: 173.0469\nEpoch 7/50\n - 0s - loss: 171.6226\nEpoch 8/50\n - 0s - loss: 170.1424\nEpoch 9/50\n - 0s - loss: 168.7195\nEpoch 10/50\n - 0s - loss: 167.3598\nEpoch 11/50\n - 0s - loss: 165.9296\nEpoch 12/50\n - 1s - loss: 164.5727\nEpoch 13/50\n - 0s - loss: 163.2719\nEpoch 14/50\n - 0s - loss: 161.9239\nEpoch 15/50\n - 1s - loss: 160.6381\nEpoch 16/50\n - 0s - loss: 159.3720\nEpoch 17/50\n - 0s - loss: 158.0585\nEpoch 18/50\n - 0s - loss: 156.8387\nEpoch 19/50\n - 0s - loss: 155.6208\nEpoch 20/50\n - 0s - loss: 154.4283\nEpoch 21/50\n - 0s - loss: 153.1595\nEpoch 22/50\n - 0s - loss: 151.9798\nEpoch 23/50\n - 0s - loss: 150.8398\nEpoch 24/50\n - 0s - loss: 149.6679\nEpoch 25/50\n - 0s - loss: 148.4944\nEpoch 26/50\n - 0s - loss: 147.3838\nEpoch 27/50\n - 0s - loss: 146.2875\nEpoch 28/50\n - 0s - loss: 145.2087\nEpoch 29/50\n - 0s - loss: 144.1317\nEpoch 30/50\n - 0s - loss: 143.0718\nEpoch 31/50\n - 0s - loss: 142.1237\nEpoch 32/50\n - 0s - loss: 140.9642\nEpoch 33/50\n - 0s - loss: 139.9591\nEpoch 34/50\n - 0s - loss: 139.0226\nEpoch 35/50\n - 0s - loss: 137.9476\nEpoch 36/50\n - 0s - loss: 136.9065\nEpoch 37/50\n - 0s - loss: 135.9167\nEpoch 38/50\n - 0s - loss: 134.9784\nEpoch 39/50\n - 0s - loss: 134.0261\nEpoch 40/50\n - 0s - loss: 133.0527\nEpoch 41/50\n - 0s - loss: 132.0284\nEpoch 42/50\n - 0s - loss: 131.1407\nEpoch 43/50\n - 0s - loss: 130.1657\nEpoch 44/50\n - 0s - loss: 129.2830\nEpoch 45/50\n - 0s - loss: 128.4083\nEpoch 46/50\n - 0s - loss: 127.5118\nEpoch 47/50\n - 0s - loss: 126.5827\nEpoch 48/50\n - 0s - loss: 125.7291\nEpoch 49/50\n - 0s - loss: 124.8683\nEpoch 50/50\n - 0s - loss: 124.0627\n309/309 [==============================] - 0s 656us/step\nEpoch 1/50\n"
                },
                {
                    "name": "stderr",
                    "output_type": "stream",
                    "text": "/opt/conda/envs/Python36/lib/python3.6/site-packages/sklearn/preprocessing/data.py:645: DataConversionWarning: Data with input dtype int64, float64 were all converted to float64 by StandardScaler.\n  return self.partial_fit(X, y)\n/opt/conda/envs/Python36/lib/python3.6/site-packages/sklearn/base.py:464: DataConversionWarning: Data with input dtype int64, float64 were all converted to float64 by StandardScaler.\n  return self.fit(X, **fit_params).transform(X)\n/opt/conda/envs/Python36/lib/python3.6/site-packages/ipykernel/__main__.py:8: DataConversionWarning: Data with input dtype int64, float64 were all converted to float64 by StandardScaler.\n"
                },
                {
                    "name": "stdout",
                    "output_type": "stream",
                    "text": " - 0s - loss: 123.0912\nEpoch 2/50\n - 0s - loss: 122.2589\nEpoch 3/50\n - 0s - loss: 121.3806\nEpoch 4/50\n - 0s - loss: 120.4883\nEpoch 5/50\n - 0s - loss: 119.6144\nEpoch 6/50\n - 0s - loss: 118.8336\nEpoch 7/50\n - 0s - loss: 117.9332\nEpoch 8/50\n - 2s - loss: 117.0874\nEpoch 9/50\n - 1s - loss: 116.2604\nEpoch 10/50\n - 0s - loss: 115.5032\nEpoch 11/50\n - 0s - loss: 114.5937\nEpoch 12/50\n - 0s - loss: 113.6671\nEpoch 13/50\n - 0s - loss: 112.8565\nEpoch 14/50\n - 0s - loss: 111.9810\nEpoch 15/50\n - 0s - loss: 111.1168\nEpoch 16/50\n - 0s - loss: 110.3271\nEpoch 17/50\n - 0s - loss: 109.5372\nEpoch 18/50\n - 0s - loss: 108.7258\nEpoch 19/50\n - 0s - loss: 107.9184\nEpoch 20/50\n - 0s - loss: 107.1053\nEpoch 21/50\n - 0s - loss: 106.3417\nEpoch 22/50\n - 0s - loss: 105.5527\nEpoch 23/50\n - 0s - loss: 104.7949\nEpoch 24/50\n - 0s - loss: 104.1569\nEpoch 25/50\n - 0s - loss: 103.3494\nEpoch 26/50\n - 0s - loss: 102.5713\nEpoch 27/50\n - 0s - loss: 101.8630\nEpoch 28/50\n - 0s - loss: 100.9699\nEpoch 29/50\n - 0s - loss: 100.2488\nEpoch 30/50\n - 0s - loss: 99.4759\nEpoch 31/50\n - 0s - loss: 98.7863\nEpoch 32/50\n - 0s - loss: 98.0978\nEpoch 33/50\n - 0s - loss: 97.3928\nEpoch 34/50\n - 0s - loss: 96.7106\nEpoch 35/50\n - 0s - loss: 95.9863\nEpoch 36/50\n - 0s - loss: 95.2794\nEpoch 37/50\n - 0s - loss: 94.6815\nEpoch 38/50\n - 0s - loss: 93.9602\nEpoch 39/50\n - 0s - loss: 93.3693\nEpoch 40/50\n - 0s - loss: 92.6904\nEpoch 41/50\n - 0s - loss: 92.0543\nEpoch 42/50\n - 0s - loss: 91.3719\nEpoch 43/50\n - 0s - loss: 90.7378\nEpoch 44/50\n - 0s - loss: 90.0948\nEpoch 45/50\n - 0s - loss: 89.5129\nEpoch 46/50\n - 0s - loss: 88.9091\nEpoch 47/50\n - 0s - loss: 88.2114\nEpoch 48/50\n - 0s - loss: 87.6234\nEpoch 49/50\n - 0s - loss: 86.9780\nEpoch 50/50\n - 0s - loss: 86.3719\n309/309 [==============================] - 0s 576us/step\nEpoch 1/50\n"
                },
                {
                    "name": "stderr",
                    "output_type": "stream",
                    "text": "/opt/conda/envs/Python36/lib/python3.6/site-packages/sklearn/preprocessing/data.py:645: DataConversionWarning: Data with input dtype int64, float64 were all converted to float64 by StandardScaler.\n  return self.partial_fit(X, y)\n/opt/conda/envs/Python36/lib/python3.6/site-packages/sklearn/base.py:464: DataConversionWarning: Data with input dtype int64, float64 were all converted to float64 by StandardScaler.\n  return self.fit(X, **fit_params).transform(X)\n/opt/conda/envs/Python36/lib/python3.6/site-packages/ipykernel/__main__.py:8: DataConversionWarning: Data with input dtype int64, float64 were all converted to float64 by StandardScaler.\n"
                },
                {
                    "name": "stdout",
                    "output_type": "stream",
                    "text": " - 0s - loss: 85.7586\nEpoch 2/50\n - 0s - loss: 85.1221\nEpoch 3/50\n - 0s - loss: 84.5037\nEpoch 4/50\n - 1s - loss: 83.9560\nEpoch 5/50\n - 0s - loss: 83.2678\nEpoch 6/50\n - 1s - loss: 82.6733\nEpoch 7/50\n - 0s - loss: 82.0739\nEpoch 8/50\n - 0s - loss: 81.4345\nEpoch 9/50\n - 0s - loss: 80.8692\nEpoch 10/50\n - 0s - loss: 80.2636\nEpoch 11/50\n - 0s - loss: 79.7162\nEpoch 12/50\n - 0s - loss: 79.1033\nEpoch 13/50\n - 0s - loss: 78.5625\nEpoch 14/50\n - 0s - loss: 78.0013\nEpoch 15/50\n - 0s - loss: 77.4556\nEpoch 16/50\n - 0s - loss: 76.8835\nEpoch 17/50\n - 0s - loss: 76.3905\nEpoch 18/50\n - 0s - loss: 75.8355\nEpoch 19/50\n - 0s - loss: 75.3229\nEpoch 20/50\n - 0s - loss: 74.8204\nEpoch 21/50\n - 0s - loss: 74.2058\nEpoch 22/50\n - 0s - loss: 73.7210\nEpoch 23/50\n - 0s - loss: 73.1818\nEpoch 24/50\n - 0s - loss: 72.7794\nEpoch 25/50\n - 0s - loss: 72.2071\nEpoch 26/50\n - 0s - loss: 71.7513\nEpoch 27/50\n - 0s - loss: 71.2012\nEpoch 28/50\n - 0s - loss: 70.7010\nEpoch 29/50\n - 0s - loss: 70.2997\nEpoch 30/50\n - 0s - loss: 69.8575\nEpoch 31/50\n - 0s - loss: 69.2788\nEpoch 32/50\n - 1s - loss: 68.9125\nEpoch 33/50\n - 0s - loss: 68.5035\nEpoch 34/50\n - 0s - loss: 68.0757\nEpoch 35/50\n - 0s - loss: 67.5947\nEpoch 36/50\n - 0s - loss: 67.2307\nEpoch 37/50\n - 0s - loss: 66.7688\nEpoch 38/50\n - 0s - loss: 66.3843\nEpoch 39/50\n - 0s - loss: 66.0194\nEpoch 40/50\n - 0s - loss: 65.5612\nEpoch 41/50\n - 0s - loss: 65.1714\nEpoch 42/50\n - 0s - loss: 64.7795\nEpoch 43/50\n - 0s - loss: 64.4962\nEpoch 44/50\n - 0s - loss: 64.0476\nEpoch 45/50\n - 0s - loss: 63.7165\nEpoch 46/50\n - 0s - loss: 63.3739\nEpoch 47/50\n - 0s - loss: 63.1016\nEpoch 48/50\n - 0s - loss: 62.6721\nEpoch 49/50\n - 0s - loss: 62.3261\nEpoch 50/50\n - 0s - loss: 62.0169\n309/309 [==============================] - 1s 4ms/step\nEpoch 1/50\n"
                },
                {
                    "name": "stderr",
                    "output_type": "stream",
                    "text": "/opt/conda/envs/Python36/lib/python3.6/site-packages/sklearn/preprocessing/data.py:645: DataConversionWarning: Data with input dtype int64, float64 were all converted to float64 by StandardScaler.\n  return self.partial_fit(X, y)\n/opt/conda/envs/Python36/lib/python3.6/site-packages/sklearn/base.py:464: DataConversionWarning: Data with input dtype int64, float64 were all converted to float64 by StandardScaler.\n  return self.fit(X, **fit_params).transform(X)\n/opt/conda/envs/Python36/lib/python3.6/site-packages/ipykernel/__main__.py:8: DataConversionWarning: Data with input dtype int64, float64 were all converted to float64 by StandardScaler.\n"
                },
                {
                    "name": "stdout",
                    "output_type": "stream",
                    "text": " - 0s - loss: 61.6466\nEpoch 2/50\n - 1s - loss: 61.2959\nEpoch 3/50\n - 0s - loss: 60.9893\nEpoch 4/50\n - 0s - loss: 60.6916\nEpoch 5/50\n - 0s - loss: 60.2938\nEpoch 6/50\n - 0s - loss: 59.9644\nEpoch 7/50\n - 0s - loss: 59.6451\nEpoch 8/50\n - 0s - loss: 59.3364\nEpoch 9/50\n - 0s - loss: 58.9945\nEpoch 10/50\n - 0s - loss: 58.7316\nEpoch 11/50\n - 0s - loss: 58.3894\nEpoch 12/50\n - 0s - loss: 58.0784\nEpoch 13/50\n - 0s - loss: 57.8398\nEpoch 14/50\n - 0s - loss: 57.4205\nEpoch 15/50\n - 0s - loss: 57.2284\nEpoch 16/50\n - 0s - loss: 56.8234\nEpoch 17/50\n - 0s - loss: 56.6404\nEpoch 18/50\n - 0s - loss: 56.2988\nEpoch 19/50\n - 0s - loss: 56.0041\nEpoch 20/50\n - 0s - loss: 55.7261\nEpoch 21/50\n - 0s - loss: 55.3803\nEpoch 22/50\n - 0s - loss: 55.1439\nEpoch 23/50\n - 0s - loss: 54.8906\nEpoch 24/50\n - 0s - loss: 54.6502\nEpoch 25/50\n - 0s - loss: 54.3475\nEpoch 26/50\n - 0s - loss: 54.0544\nEpoch 27/50\n - 0s - loss: 53.8301\nEpoch 28/50\n - 0s - loss: 53.5562\nEpoch 29/50\n - 0s - loss: 53.4401\nEpoch 30/50\n - 0s - loss: 53.1848\nEpoch 31/50\n - 0s - loss: 52.9162\nEpoch 32/50\n - 0s - loss: 52.8360\nEpoch 33/50\n - 0s - loss: 52.4918\nEpoch 34/50\n - 0s - loss: 52.3380\nEpoch 35/50\n - 1s - loss: 52.0584\nEpoch 36/50\n - 0s - loss: 51.9309\nEpoch 37/50\n - 0s - loss: 51.7266\nEpoch 38/50\n - 0s - loss: 51.5235\nEpoch 39/50\n - 0s - loss: 51.2685\nEpoch 40/50\n - 0s - loss: 51.1446\nEpoch 41/50\n - 0s - loss: 50.8945\nEpoch 42/50\n - 0s - loss: 50.7476\nEpoch 43/50\n - 0s - loss: 50.5686\nEpoch 44/50\n - 0s - loss: 50.3035\nEpoch 45/50\n - 1s - loss: 50.2040\nEpoch 46/50\n - 0s - loss: 50.0218\nEpoch 47/50\n - 1s - loss: 49.8974\nEpoch 48/50\n - 0s - loss: 49.7719\nEpoch 49/50\n - 0s - loss: 49.5789\nEpoch 50/50\n - 0s - loss: 49.4599\n309/309 [==============================] - 0s 724us/step\nEpoch 1/50\n"
                },
                {
                    "name": "stderr",
                    "output_type": "stream",
                    "text": "/opt/conda/envs/Python36/lib/python3.6/site-packages/sklearn/preprocessing/data.py:645: DataConversionWarning: Data with input dtype int64, float64 were all converted to float64 by StandardScaler.\n  return self.partial_fit(X, y)\n/opt/conda/envs/Python36/lib/python3.6/site-packages/sklearn/base.py:464: DataConversionWarning: Data with input dtype int64, float64 were all converted to float64 by StandardScaler.\n  return self.fit(X, **fit_params).transform(X)\n/opt/conda/envs/Python36/lib/python3.6/site-packages/ipykernel/__main__.py:8: DataConversionWarning: Data with input dtype int64, float64 were all converted to float64 by StandardScaler.\n"
                },
                {
                    "name": "stdout",
                    "output_type": "stream",
                    "text": " - 0s - loss: 49.1897\nEpoch 2/50\n - 0s - loss: 49.1092\nEpoch 3/50\n - 0s - loss: 48.9267\nEpoch 4/50\n - 0s - loss: 48.7714\nEpoch 5/50\n - 0s - loss: 48.6273\nEpoch 6/50\n - 0s - loss: 48.4946\nEpoch 7/50\n - 0s - loss: 48.3335\nEpoch 8/50\n - 0s - loss: 48.1661\nEpoch 9/50\n - 0s - loss: 48.0580\nEpoch 10/50\n - 0s - loss: 47.8674\nEpoch 11/50\n - 0s - loss: 47.7540\nEpoch 12/50\n - 0s - loss: 47.6798\nEpoch 13/50\n - 0s - loss: 47.4940\nEpoch 14/50\n - 0s - loss: 47.4137\nEpoch 15/50\n - 0s - loss: 47.2902\nEpoch 16/50\n - 0s - loss: 47.1168\nEpoch 17/50\n - 0s - loss: 47.0218\nEpoch 18/50\n - 0s - loss: 46.9248\nEpoch 19/50\n - 0s - loss: 46.8027\nEpoch 20/50\n - 0s - loss: 46.7009\nEpoch 21/50\n - 0s - loss: 46.5293\nEpoch 22/50\n - 0s - loss: 46.4573\nEpoch 23/50\n - 0s - loss: 46.3594\nEpoch 24/50\n - 0s - loss: 46.2024\nEpoch 25/50\n - 0s - loss: 46.1359\nEpoch 26/50\n - 0s - loss: 45.9917\nEpoch 27/50\n - 0s - loss: 45.9273\nEpoch 28/50\n - 0s - loss: 45.8181\nEpoch 29/50\n - 0s - loss: 45.6281\nEpoch 30/50\n - 0s - loss: 45.5246\nEpoch 31/50\n - 0s - loss: 45.4658\nEpoch 32/50\n - 0s - loss: 45.3485\nEpoch 33/50\n - 0s - loss: 45.2141\nEpoch 34/50\n - 0s - loss: 45.1314\nEpoch 35/50\n - 1s - loss: 45.0393\nEpoch 36/50\n - 0s - loss: 44.9382\nEpoch 37/50\n - 0s - loss: 44.9149\nEpoch 38/50\n - 0s - loss: 44.7337\nEpoch 39/50\n - 1s - loss: 44.6554\nEpoch 40/50\n - 0s - loss: 44.5189\nEpoch 41/50\n - 1s - loss: 44.4396\nEpoch 42/50\n - 0s - loss: 44.3630\nEpoch 43/50\n - 0s - loss: 44.2275\nEpoch 44/50\n - 0s - loss: 44.1631\nEpoch 45/50\n - 0s - loss: 44.0242\nEpoch 46/50\n - 0s - loss: 43.9906\nEpoch 47/50\n - 0s - loss: 43.8939\nEpoch 48/50\n - 0s - loss: 43.7919\nEpoch 49/50\n - 0s - loss: 43.6813\nEpoch 50/50\n - 0s - loss: 43.6396\n309/309 [==============================] - 0s 701us/step\nEpoch 1/50\n"
                },
                {
                    "name": "stderr",
                    "output_type": "stream",
                    "text": "/opt/conda/envs/Python36/lib/python3.6/site-packages/sklearn/preprocessing/data.py:645: DataConversionWarning: Data with input dtype int64, float64 were all converted to float64 by StandardScaler.\n  return self.partial_fit(X, y)\n/opt/conda/envs/Python36/lib/python3.6/site-packages/sklearn/base.py:464: DataConversionWarning: Data with input dtype int64, float64 were all converted to float64 by StandardScaler.\n  return self.fit(X, **fit_params).transform(X)\n/opt/conda/envs/Python36/lib/python3.6/site-packages/ipykernel/__main__.py:8: DataConversionWarning: Data with input dtype int64, float64 were all converted to float64 by StandardScaler.\n"
                },
                {
                    "name": "stdout",
                    "output_type": "stream",
                    "text": " - 0s - loss: 43.5232\nEpoch 2/50\n - 0s - loss: 43.3878\nEpoch 3/50\n - 0s - loss: 43.3259\nEpoch 4/50\n - 0s - loss: 43.2630\nEpoch 5/50\n - 0s - loss: 43.1467\nEpoch 6/50\n - 0s - loss: 43.1359\nEpoch 7/50\n - 0s - loss: 43.0503\nEpoch 8/50\n - 0s - loss: 43.0021\nEpoch 9/50\n - 0s - loss: 42.8340\nEpoch 10/50\n - 0s - loss: 42.9940\nEpoch 11/50\n - 0s - loss: 42.8449\nEpoch 12/50\n - 0s - loss: 42.6468\nEpoch 13/50\n - 0s - loss: 42.5461\nEpoch 14/50\n - 0s - loss: 42.4775\nEpoch 15/50\n - 0s - loss: 42.4001\nEpoch 16/50\n - 0s - loss: 42.2970\nEpoch 17/50\n - 0s - loss: 42.2508\nEpoch 18/50\n - 0s - loss: 42.2280\nEpoch 19/50\n - 0s - loss: 42.1359\nEpoch 20/50\n - 0s - loss: 42.1358\nEpoch 21/50\n - 0s - loss: 42.0197\nEpoch 22/50\n - 0s - loss: 41.9400\nEpoch 23/50\n - 0s - loss: 41.8757\nEpoch 24/50\n - 0s - loss: 41.7509\nEpoch 25/50\n - 1s - loss: 41.7192\nEpoch 26/50\n - 0s - loss: 41.6551\nEpoch 27/50\n - 0s - loss: 41.6065\nEpoch 28/50\n - 0s - loss: 41.5805\nEpoch 29/50\n - 0s - loss: 41.4977\nEpoch 30/50\n - 0s - loss: 41.4067\nEpoch 31/50\n - 0s - loss: 41.3584\nEpoch 32/50\n - 1s - loss: 41.3054\nEpoch 33/50\n - 0s - loss: 41.2495\nEpoch 34/50\n - 1s - loss: 41.2223\nEpoch 35/50\n - 0s - loss: 41.0970\nEpoch 36/50\n - 0s - loss: 41.0357\nEpoch 37/50\n - 0s - loss: 41.0637\nEpoch 38/50\n - 0s - loss: 40.9934\nEpoch 39/50\n - 0s - loss: 40.8657\nEpoch 40/50\n - 0s - loss: 40.7734\nEpoch 41/50\n - 0s - loss: 40.8072\nEpoch 42/50\n - 0s - loss: 40.7055\nEpoch 43/50\n - 0s - loss: 40.6416\nEpoch 44/50\n - 0s - loss: 40.6302\nEpoch 45/50\n - 0s - loss: 40.6229\nEpoch 46/50\n - 0s - loss: 40.4827\nEpoch 47/50\n - 0s - loss: 40.4482\nEpoch 48/50\n - 0s - loss: 40.3852\nEpoch 49/50\n - 0s - loss: 40.3437\nEpoch 50/50\n - 0s - loss: 40.2932\n309/309 [==============================] - 0s 882us/step\nEpoch 1/50\n"
                },
                {
                    "name": "stderr",
                    "output_type": "stream",
                    "text": "/opt/conda/envs/Python36/lib/python3.6/site-packages/sklearn/preprocessing/data.py:645: DataConversionWarning: Data with input dtype int64, float64 were all converted to float64 by StandardScaler.\n  return self.partial_fit(X, y)\n/opt/conda/envs/Python36/lib/python3.6/site-packages/sklearn/base.py:464: DataConversionWarning: Data with input dtype int64, float64 were all converted to float64 by StandardScaler.\n  return self.fit(X, **fit_params).transform(X)\n/opt/conda/envs/Python36/lib/python3.6/site-packages/ipykernel/__main__.py:8: DataConversionWarning: Data with input dtype int64, float64 were all converted to float64 by StandardScaler.\n"
                },
                {
                    "name": "stdout",
                    "output_type": "stream",
                    "text": " - 0s - loss: 40.2115\nEpoch 2/50\n - 0s - loss: 40.2255\nEpoch 3/50\n - 0s - loss: 40.1288\nEpoch 4/50\n - 0s - loss: 40.1128\nEpoch 5/50\n - 0s - loss: 40.0497\nEpoch 6/50\n - 0s - loss: 40.0235\nEpoch 7/50\n - 0s - loss: 39.9382\nEpoch 8/50\n - 0s - loss: 39.9556\nEpoch 9/50\n - 0s - loss: 39.8274\nEpoch 10/50\n - 0s - loss: 39.8488\nEpoch 11/50\n - 0s - loss: 39.7810\nEpoch 12/50\n - 1s - loss: 39.7878\nEpoch 13/50\n - 0s - loss: 39.6681\nEpoch 14/50\n - 0s - loss: 39.6587\nEpoch 15/50\n - 0s - loss: 39.6336\nEpoch 16/50\n - 0s - loss: 39.6006\nEpoch 17/50\n - 0s - loss: 39.5734\nEpoch 18/50\n - 0s - loss: 39.5531\nEpoch 19/50\n - 0s - loss: 39.4638\nEpoch 20/50\n - 0s - loss: 39.4586\nEpoch 21/50\n - 0s - loss: 39.3858\nEpoch 22/50\n - 0s - loss: 39.3480\nEpoch 23/50\n - 0s - loss: 39.2874\nEpoch 24/50\n - 0s - loss: 39.2703\nEpoch 25/50\n - 1s - loss: 39.2036\nEpoch 26/50\n - 0s - loss: 39.2144\nEpoch 27/50\n - 1s - loss: 39.1715\nEpoch 28/50\n - 0s - loss: 39.1083\nEpoch 29/50\n - 0s - loss: 39.0772\nEpoch 30/50\n - 0s - loss: 39.1103\nEpoch 31/50\n - 0s - loss: 39.0418\nEpoch 32/50\n - 0s - loss: 39.0405\nEpoch 33/50\n - 0s - loss: 38.9754\nEpoch 34/50\n - 0s - loss: 38.9449\nEpoch 35/50\n - 0s - loss: 38.9083\nEpoch 36/50\n - 0s - loss: 38.8928\nEpoch 37/50\n - 0s - loss: 38.8404\nEpoch 38/50\n - 0s - loss: 38.7673\nEpoch 39/50\n - 0s - loss: 38.7550\nEpoch 40/50\n - 0s - loss: 38.7875\nEpoch 41/50\n - 0s - loss: 38.6910\nEpoch 42/50\n - 0s - loss: 38.7066\nEpoch 43/50\n - 0s - loss: 38.5956\nEpoch 44/50\n - 0s - loss: 38.5479\nEpoch 45/50\n - 0s - loss: 38.5454\nEpoch 46/50\n - 0s - loss: 38.5252\nEpoch 47/50\n - 0s - loss: 38.4594\nEpoch 48/50\n - 0s - loss: 38.4690\nEpoch 49/50\n - 0s - loss: 38.4012\nEpoch 50/50\n - 0s - loss: 38.4593\n309/309 [==============================] - 0s 573us/step\nEpoch 1/50\n"
                },
                {
                    "name": "stderr",
                    "output_type": "stream",
                    "text": "/opt/conda/envs/Python36/lib/python3.6/site-packages/sklearn/preprocessing/data.py:645: DataConversionWarning: Data with input dtype int64, float64 were all converted to float64 by StandardScaler.\n  return self.partial_fit(X, y)\n/opt/conda/envs/Python36/lib/python3.6/site-packages/sklearn/base.py:464: DataConversionWarning: Data with input dtype int64, float64 were all converted to float64 by StandardScaler.\n  return self.fit(X, **fit_params).transform(X)\n/opt/conda/envs/Python36/lib/python3.6/site-packages/ipykernel/__main__.py:8: DataConversionWarning: Data with input dtype int64, float64 were all converted to float64 by StandardScaler.\n"
                },
                {
                    "name": "stdout",
                    "output_type": "stream",
                    "text": " - 0s - loss: 38.3504\nEpoch 2/50\n - 0s - loss: 38.2678\nEpoch 3/50\n - 0s - loss: 38.3187\nEpoch 4/50\n - 0s - loss: 38.2053\nEpoch 5/50\n - 0s - loss: 38.1802\nEpoch 6/50\n - 0s - loss: 38.1725\nEpoch 7/50\n - 0s - loss: 38.0960\nEpoch 8/50\n - 0s - loss: 38.0750\nEpoch 9/50\n - 0s - loss: 38.0430\nEpoch 10/50\n - 0s - loss: 38.0255\nEpoch 11/50\n - 0s - loss: 37.9758\nEpoch 12/50\n - 0s - loss: 37.9779\nEpoch 13/50\n - 0s - loss: 37.9041\nEpoch 14/50\n - 0s - loss: 37.8560\nEpoch 15/50\n - 0s - loss: 37.8823\nEpoch 16/50\n - 0s - loss: 37.8375\nEpoch 17/50\n - 0s - loss: 37.7589\nEpoch 18/50\n - 0s - loss: 37.7435\nEpoch 19/50\n - 0s - loss: 37.6898\nEpoch 20/50\n - 0s - loss: 37.6725\nEpoch 21/50\n - 1s - loss: 37.6480\nEpoch 22/50\n - 0s - loss: 37.6319\nEpoch 23/50\n - 1s - loss: 37.5671\nEpoch 24/50\n - 1s - loss: 37.5478\nEpoch 25/50\n - 0s - loss: 37.5354\nEpoch 26/50\n - 0s - loss: 37.4448\nEpoch 27/50\n - 0s - loss: 37.4744\nEpoch 28/50\n - 0s - loss: 37.3684\nEpoch 29/50\n - 0s - loss: 37.4121\nEpoch 30/50\n - 0s - loss: 37.3978\nEpoch 31/50\n - 0s - loss: 37.3328\nEpoch 32/50\n - 0s - loss: 37.3151\nEpoch 33/50\n - 0s - loss: 37.2442\nEpoch 34/50\n - 0s - loss: 37.3011\nEpoch 35/50\n - 0s - loss: 37.2591\nEpoch 36/50\n - 0s - loss: 37.1931\nEpoch 37/50\n - 0s - loss: 37.1728\nEpoch 38/50\n - 0s - loss: 37.1573\nEpoch 39/50\n - 0s - loss: 37.1197\nEpoch 40/50\n - 0s - loss: 37.0826\nEpoch 41/50\n - 0s - loss: 37.1047\nEpoch 42/50\n - 0s - loss: 37.0351\nEpoch 43/50\n - 0s - loss: 37.0208\nEpoch 44/50\n - 0s - loss: 36.9560\nEpoch 45/50\n - 0s - loss: 36.9896\nEpoch 46/50\n - 0s - loss: 36.9359\nEpoch 47/50\n - 0s - loss: 36.9363\nEpoch 48/50\n - 0s - loss: 36.9032\nEpoch 49/50\n - 0s - loss: 36.8363\nEpoch 50/50\n - 0s - loss: 36.7994\n309/309 [==============================] - 0s 638us/step\nEpoch 1/50\n - 0s - loss: 36.7377\n"
                },
                {
                    "name": "stderr",
                    "output_type": "stream",
                    "text": "/opt/conda/envs/Python36/lib/python3.6/site-packages/sklearn/preprocessing/data.py:645: DataConversionWarning: Data with input dtype int64, float64 were all converted to float64 by StandardScaler.\n  return self.partial_fit(X, y)\n/opt/conda/envs/Python36/lib/python3.6/site-packages/sklearn/base.py:464: DataConversionWarning: Data with input dtype int64, float64 were all converted to float64 by StandardScaler.\n  return self.fit(X, **fit_params).transform(X)\n/opt/conda/envs/Python36/lib/python3.6/site-packages/ipykernel/__main__.py:8: DataConversionWarning: Data with input dtype int64, float64 were all converted to float64 by StandardScaler.\n"
                },
                {
                    "name": "stdout",
                    "output_type": "stream",
                    "text": "Epoch 2/50\n - 0s - loss: 36.7471\nEpoch 3/50\n - 0s - loss: 36.7586\nEpoch 4/50\n - 0s - loss: 36.7661\nEpoch 5/50\n - 0s - loss: 36.7773\nEpoch 6/50\n - 0s - loss: 36.6313\nEpoch 7/50\n - 0s - loss: 36.5960\nEpoch 8/50\n - 0s - loss: 36.6092\nEpoch 9/50\n - 0s - loss: 36.6460\nEpoch 10/50\n - 0s - loss: 36.5551\nEpoch 11/50\n - 0s - loss: 36.5468\nEpoch 12/50\n - 0s - loss: 36.4799\nEpoch 13/50\n - 0s - loss: 36.5268\nEpoch 14/50\n - 0s - loss: 36.5066\nEpoch 15/50\n - 0s - loss: 36.4556\nEpoch 16/50\n - 1s - loss: 36.4494\nEpoch 17/50\n - 0s - loss: 36.4152\nEpoch 18/50\n - 0s - loss: 36.3877\nEpoch 19/50\n - 1s - loss: 36.3632\nEpoch 20/50\n - 0s - loss: 36.3555\nEpoch 21/50\n - 0s - loss: 36.3706\nEpoch 22/50\n - 0s - loss: 36.2994\nEpoch 23/50\n - 0s - loss: 36.2735\nEpoch 24/50\n - 0s - loss: 36.2293\nEpoch 25/50\n - 0s - loss: 36.2355\nEpoch 26/50\n - 0s - loss: 36.1892\nEpoch 27/50\n - 0s - loss: 36.1808\nEpoch 28/50\n - 0s - loss: 36.1694\nEpoch 29/50\n - 0s - loss: 36.1524\nEpoch 30/50\n - 0s - loss: 36.1202\nEpoch 31/50\n - 0s - loss: 36.1429\nEpoch 32/50\n - 1s - loss: 36.0772\nEpoch 33/50\n - 0s - loss: 36.0798\nEpoch 34/50\n - 0s - loss: 36.1361\nEpoch 35/50\n - 0s - loss: 36.0681\nEpoch 36/50\n - 0s - loss: 36.0154\nEpoch 37/50\n - 0s - loss: 35.9868\nEpoch 38/50\n - 0s - loss: 35.9548\nEpoch 39/50\n - 0s - loss: 35.9494\nEpoch 40/50\n - 0s - loss: 35.8972\nEpoch 41/50\n - 0s - loss: 35.9200\nEpoch 42/50\n - 0s - loss: 35.8902\nEpoch 43/50\n - 0s - loss: 35.9169\nEpoch 44/50\n - 0s - loss: 35.8302\nEpoch 45/50\n - 0s - loss: 35.8068\nEpoch 46/50\n - 0s - loss: 35.7882\nEpoch 47/50\n - 0s - loss: 35.8402\nEpoch 48/50\n - 0s - loss: 35.8099\nEpoch 49/50\n - 0s - loss: 35.7487\nEpoch 50/50\n - 0s - loss: 35.7101\n309/309 [==============================] - 0s 602us/step\nEpoch 1/50\n"
                },
                {
                    "name": "stderr",
                    "output_type": "stream",
                    "text": "/opt/conda/envs/Python36/lib/python3.6/site-packages/sklearn/preprocessing/data.py:645: DataConversionWarning: Data with input dtype int64, float64 were all converted to float64 by StandardScaler.\n  return self.partial_fit(X, y)\n/opt/conda/envs/Python36/lib/python3.6/site-packages/sklearn/base.py:464: DataConversionWarning: Data with input dtype int64, float64 were all converted to float64 by StandardScaler.\n  return self.fit(X, **fit_params).transform(X)\n/opt/conda/envs/Python36/lib/python3.6/site-packages/ipykernel/__main__.py:8: DataConversionWarning: Data with input dtype int64, float64 were all converted to float64 by StandardScaler.\n"
                },
                {
                    "name": "stdout",
                    "output_type": "stream",
                    "text": " - 0s - loss: 35.6717\nEpoch 2/50\n - 0s - loss: 35.6242\nEpoch 3/50\n - 0s - loss: 35.6876\nEpoch 4/50\n - 0s - loss: 35.6071\nEpoch 5/50\n - 0s - loss: 35.5819\nEpoch 6/50\n - 0s - loss: 35.5956\nEpoch 7/50\n - 0s - loss: 35.6051\nEpoch 8/50\n - 1s - loss: 35.5046\nEpoch 9/50\n - 0s - loss: 35.5127\nEpoch 10/50\n - 1s - loss: 35.5300\nEpoch 11/50\n - 0s - loss: 35.5229\nEpoch 12/50\n - 0s - loss: 35.4035\nEpoch 13/50\n - 0s - loss: 35.4075\nEpoch 14/50\n - 0s - loss: 35.3854\nEpoch 15/50\n - 0s - loss: 35.4008\nEpoch 16/50\n - 0s - loss: 35.3914\nEpoch 17/50\n - 0s - loss: 35.3248\nEpoch 18/50\n - 0s - loss: 35.2777\nEpoch 19/50\n - 0s - loss: 35.2574\nEpoch 20/50\n - 0s - loss: 35.3353\nEpoch 21/50\n - 0s - loss: 35.3088\nEpoch 22/50\n - 0s - loss: 35.2546\nEpoch 23/50\n - 0s - loss: 35.2192\nEpoch 24/50\n - 0s - loss: 35.2147\nEpoch 25/50\n - 0s - loss: 35.1961\nEpoch 26/50\n - 0s - loss: 35.1176\nEpoch 27/50\n - 0s - loss: 35.1603\nEpoch 28/50\n - 0s - loss: 35.1103\nEpoch 29/50\n - 0s - loss: 35.1259\nEpoch 30/50\n - 0s - loss: 35.0733\nEpoch 31/50\n - 0s - loss: 35.0503\nEpoch 32/50\n - 0s - loss: 35.0392\nEpoch 33/50\n - 0s - loss: 35.0388\nEpoch 34/50\n - 0s - loss: 34.9400\nEpoch 35/50\n - 0s - loss: 34.9421\nEpoch 36/50\n - 0s - loss: 34.9261\nEpoch 37/50\n - 0s - loss: 34.8592\nEpoch 38/50\n - 0s - loss: 34.8755\nEpoch 39/50\n - 0s - loss: 34.8251\nEpoch 40/50\n - 0s - loss: 34.8352\nEpoch 41/50\n - 1s - loss: 34.7954\nEpoch 42/50\n - 0s - loss: 34.7975\nEpoch 43/50\n - 0s - loss: 34.7950\nEpoch 44/50\n - 0s - loss: 34.7515\nEpoch 45/50\n - 0s - loss: 34.7827\nEpoch 46/50\n - 0s - loss: 34.6882\nEpoch 47/50\n - 0s - loss: 34.6780\nEpoch 48/50\n - 0s - loss: 34.6306\nEpoch 49/50\n - 0s - loss: 34.6702\nEpoch 50/50\n - 0s - loss: 34.6317\n309/309 [==============================] - 0s 634us/step\nEpoch 1/50\n"
                },
                {
                    "name": "stderr",
                    "output_type": "stream",
                    "text": "/opt/conda/envs/Python36/lib/python3.6/site-packages/sklearn/preprocessing/data.py:645: DataConversionWarning: Data with input dtype int64, float64 were all converted to float64 by StandardScaler.\n  return self.partial_fit(X, y)\n/opt/conda/envs/Python36/lib/python3.6/site-packages/sklearn/base.py:464: DataConversionWarning: Data with input dtype int64, float64 were all converted to float64 by StandardScaler.\n  return self.fit(X, **fit_params).transform(X)\n/opt/conda/envs/Python36/lib/python3.6/site-packages/ipykernel/__main__.py:8: DataConversionWarning: Data with input dtype int64, float64 were all converted to float64 by StandardScaler.\n"
                },
                {
                    "name": "stdout",
                    "output_type": "stream",
                    "text": " - 0s - loss: 34.6286\nEpoch 2/50\n - 1s - loss: 34.6287\nEpoch 3/50\n - 0s - loss: 34.5860\nEpoch 4/50\n - 1s - loss: 34.5652\nEpoch 5/50\n - 0s - loss: 34.5625\nEpoch 6/50\n - 0s - loss: 34.5645\nEpoch 7/50\n - 0s - loss: 34.5051\nEpoch 8/50\n - 0s - loss: 34.4887\nEpoch 9/50\n - 0s - loss: 34.4843\nEpoch 10/50\n - 0s - loss: 34.4917\nEpoch 11/50\n - 0s - loss: 34.4545\nEpoch 12/50\n - 0s - loss: 34.4288\nEpoch 13/50\n - 0s - loss: 34.4203\nEpoch 14/50\n - 0s - loss: 34.4437\nEpoch 15/50\n - 0s - loss: 34.3352\nEpoch 16/50\n - 0s - loss: 34.3329\nEpoch 17/50\n - 0s - loss: 34.4123\nEpoch 18/50\n - 0s - loss: 34.3466\nEpoch 19/50\n - 0s - loss: 34.2973\nEpoch 20/50\n - 0s - loss: 34.3721\nEpoch 21/50\n - 0s - loss: 34.2784\nEpoch 22/50\n - 0s - loss: 34.2614\nEpoch 23/50\n - 0s - loss: 34.2978\nEpoch 24/50\n - 0s - loss: 34.2683\nEpoch 25/50\n - 0s - loss: 34.2504\nEpoch 26/50\n - 0s - loss: 34.1589\nEpoch 27/50\n - 0s - loss: 34.3425\nEpoch 28/50\n - 0s - loss: 34.1230\nEpoch 29/50\n - 0s - loss: 34.1345\nEpoch 30/50\n - 0s - loss: 34.1320\nEpoch 31/50\n - 0s - loss: 34.1637\nEpoch 32/50\n - 0s - loss: 34.1140\nEpoch 33/50\n - 0s - loss: 34.0915\nEpoch 34/50\n - 0s - loss: 34.1431\nEpoch 35/50\n - 0s - loss: 34.0836\nEpoch 36/50\n - 0s - loss: 34.0794\nEpoch 37/50\n - 0s - loss: 34.0567\nEpoch 38/50\n - 0s - loss: 34.0411\nEpoch 39/50\n - 0s - loss: 34.0038\nEpoch 40/50\n - 0s - loss: 34.0094\nEpoch 41/50\n - 0s - loss: 34.0107\nEpoch 42/50\n - 1s - loss: 34.0215\nEpoch 43/50\n - 0s - loss: 34.0017\nEpoch 44/50\n - 0s - loss: 33.9867\nEpoch 45/50\n - 0s - loss: 33.9294\nEpoch 46/50\n - 1s - loss: 33.9418\nEpoch 47/50\n - 0s - loss: 33.9004\nEpoch 48/50\n - 1s - loss: 33.8609\nEpoch 49/50\n - 0s - loss: 33.8809\nEpoch 50/50\n - 0s - loss: 33.9984\n309/309 [==============================] - 0s 588us/step\nEpoch 1/50\n - 0s - loss: 33.8609\n"
                },
                {
                    "name": "stderr",
                    "output_type": "stream",
                    "text": "/opt/conda/envs/Python36/lib/python3.6/site-packages/sklearn/preprocessing/data.py:645: DataConversionWarning: Data with input dtype int64, float64 were all converted to float64 by StandardScaler.\n  return self.partial_fit(X, y)\n/opt/conda/envs/Python36/lib/python3.6/site-packages/sklearn/base.py:464: DataConversionWarning: Data with input dtype int64, float64 were all converted to float64 by StandardScaler.\n  return self.fit(X, **fit_params).transform(X)\n/opt/conda/envs/Python36/lib/python3.6/site-packages/ipykernel/__main__.py:8: DataConversionWarning: Data with input dtype int64, float64 were all converted to float64 by StandardScaler.\n"
                },
                {
                    "name": "stdout",
                    "output_type": "stream",
                    "text": "Epoch 2/50\n - 0s - loss: 33.8239\nEpoch 3/50\n - 0s - loss: 33.8011\nEpoch 4/50\n - 0s - loss: 33.8010\nEpoch 5/50\n - 0s - loss: 33.8152\nEpoch 6/50\n - 0s - loss: 33.7919\nEpoch 7/50\n - 0s - loss: 33.7087\nEpoch 8/50\n - 0s - loss: 33.7414\nEpoch 9/50\n - 0s - loss: 33.7589\nEpoch 10/50\n - 0s - loss: 33.7014\nEpoch 11/50\n - 0s - loss: 33.7966\nEpoch 12/50\n - 0s - loss: 33.6376\nEpoch 13/50\n - 0s - loss: 33.6855\nEpoch 14/50\n - 0s - loss: 33.6366\nEpoch 15/50\n - 0s - loss: 33.6276\nEpoch 16/50\n - 0s - loss: 33.6116\nEpoch 17/50\n - 0s - loss: 33.5712\nEpoch 18/50\n - 0s - loss: 33.5899\nEpoch 19/50\n - 0s - loss: 33.5693\nEpoch 20/50\n - 0s - loss: 33.5783\nEpoch 21/50\n - 0s - loss: 33.5560\nEpoch 22/50\n - 0s - loss: 33.5553\nEpoch 23/50\n - 0s - loss: 33.5379\nEpoch 24/50\n - 0s - loss: 33.5029\nEpoch 25/50\n - 0s - loss: 33.4513\nEpoch 26/50\n - 0s - loss: 33.4454\nEpoch 27/50\n - 0s - loss: 33.4223\nEpoch 28/50\n - 0s - loss: 33.4576\nEpoch 29/50\n - 0s - loss: 33.3676\nEpoch 30/50\n - 0s - loss: 33.4568\nEpoch 31/50\n - 0s - loss: 33.3952\nEpoch 32/50\n - 0s - loss: 33.3186\nEpoch 33/50\n - 0s - loss: 33.3154\nEpoch 34/50\n - 0s - loss: 33.3082\nEpoch 35/50\n - 0s - loss: 33.3544\nEpoch 36/50\n - 0s - loss: 33.2448\nEpoch 37/50\n - 0s - loss: 33.2582\nEpoch 38/50\n - 0s - loss: 33.2976\nEpoch 39/50\n - 0s - loss: 33.2278\nEpoch 40/50\n - 0s - loss: 33.1949\nEpoch 41/50\n - 0s - loss: 33.2174\nEpoch 42/50\n - 0s - loss: 33.1918\nEpoch 43/50\n - 1s - loss: 33.1361\nEpoch 44/50\n - 0s - loss: 33.1352\nEpoch 45/50\n - 0s - loss: 33.1096\nEpoch 46/50\n - 1s - loss: 33.1273\nEpoch 47/50\n - 0s - loss: 33.0768\nEpoch 48/50\n - 0s - loss: 33.0556\nEpoch 49/50\n - 0s - loss: 33.0673\nEpoch 50/50\n - 0s - loss: 33.0845\n309/309 [==============================] - 0s 586us/step\nEpoch 1/50\n - 0s - loss: 33.0792\n"
                },
                {
                    "name": "stderr",
                    "output_type": "stream",
                    "text": "/opt/conda/envs/Python36/lib/python3.6/site-packages/sklearn/preprocessing/data.py:645: DataConversionWarning: Data with input dtype int64, float64 were all converted to float64 by StandardScaler.\n  return self.partial_fit(X, y)\n/opt/conda/envs/Python36/lib/python3.6/site-packages/sklearn/base.py:464: DataConversionWarning: Data with input dtype int64, float64 were all converted to float64 by StandardScaler.\n  return self.fit(X, **fit_params).transform(X)\n/opt/conda/envs/Python36/lib/python3.6/site-packages/ipykernel/__main__.py:8: DataConversionWarning: Data with input dtype int64, float64 were all converted to float64 by StandardScaler.\n"
                },
                {
                    "name": "stdout",
                    "output_type": "stream",
                    "text": "Epoch 2/50\n - 0s - loss: 32.9945\nEpoch 3/50\n - 0s - loss: 33.0641\nEpoch 4/50\n - 0s - loss: 33.0193\nEpoch 5/50\n - 0s - loss: 33.0743\nEpoch 6/50\n - 0s - loss: 32.9222\nEpoch 7/50\n - 0s - loss: 32.9659\nEpoch 8/50\n - 0s - loss: 32.9072\nEpoch 9/50\n - 0s - loss: 32.9375\nEpoch 10/50\n - 0s - loss: 32.9578\nEpoch 11/50\n - 0s - loss: 32.8949\nEpoch 12/50\n - 1s - loss: 32.8796\nEpoch 13/50\n - 0s - loss: 32.8848\nEpoch 14/50\n - 0s - loss: 32.8714\nEpoch 15/50\n - 0s - loss: 32.8853\nEpoch 16/50\n - 0s - loss: 32.8506\nEpoch 17/50\n - 0s - loss: 32.8132\nEpoch 18/50\n - 0s - loss: 32.8008\nEpoch 19/50\n - 0s - loss: 32.8529\nEpoch 20/50\n - 0s - loss: 32.7611\nEpoch 21/50\n - 0s - loss: 32.7974\nEpoch 22/50\n - 0s - loss: 32.7634\nEpoch 23/50\n - 0s - loss: 32.7609\nEpoch 24/50\n - 0s - loss: 32.7756\nEpoch 25/50\n - 0s - loss: 32.7132\nEpoch 26/50\n - 0s - loss: 32.7633\nEpoch 27/50\n - 0s - loss: 32.7289\nEpoch 28/50\n - 0s - loss: 32.7295\nEpoch 29/50\n - 0s - loss: 32.6720\nEpoch 30/50\n - 0s - loss: 32.6843\nEpoch 31/50\n - 0s - loss: 32.6875\nEpoch 32/50\n - 0s - loss: 32.6921\nEpoch 33/50\n - 0s - loss: 32.6440\nEpoch 34/50\n - 0s - loss: 32.7365\nEpoch 35/50\n - 1s - loss: 32.6433\nEpoch 36/50\n - 0s - loss: 32.6013\nEpoch 37/50\n - 0s - loss: 32.6892\nEpoch 38/50\n - 0s - loss: 32.6414\nEpoch 39/50\n - 1s - loss: 32.5440\nEpoch 40/50\n - 0s - loss: 32.5781\nEpoch 41/50\n - 1s - loss: 32.5893\nEpoch 42/50\n - 0s - loss: 32.6515\nEpoch 43/50\n - 0s - loss: 32.5608\nEpoch 44/50\n - 0s - loss: 32.5427\nEpoch 45/50\n - 0s - loss: 32.5618\nEpoch 46/50\n - 0s - loss: 32.4635\nEpoch 47/50\n - 0s - loss: 32.4750\nEpoch 48/50\n - 0s - loss: 32.5014\nEpoch 49/50\n - 0s - loss: 32.4433\nEpoch 50/50\n - 0s - loss: 32.5039\n309/309 [==============================] - 0s 611us/step\nEpoch 1/50\n"
                },
                {
                    "name": "stderr",
                    "output_type": "stream",
                    "text": "/opt/conda/envs/Python36/lib/python3.6/site-packages/sklearn/preprocessing/data.py:645: DataConversionWarning: Data with input dtype int64, float64 were all converted to float64 by StandardScaler.\n  return self.partial_fit(X, y)\n/opt/conda/envs/Python36/lib/python3.6/site-packages/sklearn/base.py:464: DataConversionWarning: Data with input dtype int64, float64 were all converted to float64 by StandardScaler.\n  return self.fit(X, **fit_params).transform(X)\n/opt/conda/envs/Python36/lib/python3.6/site-packages/ipykernel/__main__.py:8: DataConversionWarning: Data with input dtype int64, float64 were all converted to float64 by StandardScaler.\n"
                },
                {
                    "name": "stdout",
                    "output_type": "stream",
                    "text": " - 0s - loss: 32.4762\nEpoch 2/50\n - 0s - loss: 32.5122\nEpoch 3/50\n - 0s - loss: 32.3828\nEpoch 4/50\n - 0s - loss: 32.4417\nEpoch 5/50\n - 0s - loss: 32.3649\nEpoch 6/50\n - 0s - loss: 32.3611\nEpoch 7/50\n - 0s - loss: 32.4162\nEpoch 8/50\n - 0s - loss: 32.4058\nEpoch 9/50\n - 0s - loss: 32.3650\nEpoch 10/50\n - 0s - loss: 32.3741\nEpoch 11/50\n - 0s - loss: 32.3925\nEpoch 12/50\n - 0s - loss: 32.3477\nEpoch 13/50\n - 0s - loss: 32.3475\nEpoch 14/50\n - 0s - loss: 32.4320\nEpoch 15/50\n - 1s - loss: 32.3027\nEpoch 16/50\n - 0s - loss: 32.2494\nEpoch 17/50\n - 0s - loss: 32.2971\nEpoch 18/50\n - 0s - loss: 32.2412\nEpoch 19/50\n - 0s - loss: 32.2614\nEpoch 20/50\n - 0s - loss: 32.2121\nEpoch 21/50\n - 0s - loss: 32.1882\nEpoch 22/50\n - 0s - loss: 32.1921\nEpoch 23/50\n - 0s - loss: 32.2126\nEpoch 24/50\n - 0s - loss: 32.1259\nEpoch 25/50\n - 0s - loss: 32.1509\nEpoch 26/50\n - 0s - loss: 32.1543\nEpoch 27/50\n - 0s - loss: 32.2119\nEpoch 28/50\n - 0s - loss: 32.1221\nEpoch 29/50\n - 0s - loss: 32.1285\nEpoch 30/50\n - 0s - loss: 32.0698\nEpoch 31/50\n - 0s - loss: 32.1293\nEpoch 32/50\n - 0s - loss: 32.0962\nEpoch 33/50\n - 1s - loss: 32.1349\nEpoch 34/50\n - 1s - loss: 32.0261\nEpoch 35/50\n - 0s - loss: 31.9908\nEpoch 36/50\n - 0s - loss: 32.1472\nEpoch 37/50\n - 0s - loss: 32.0127\nEpoch 38/50\n - 0s - loss: 31.9894\nEpoch 39/50\n - 0s - loss: 32.0006\nEpoch 40/50\n - 0s - loss: 31.9656\nEpoch 41/50\n - 0s - loss: 31.9833\nEpoch 42/50\n - 0s - loss: 31.9293\nEpoch 43/50\n - 0s - loss: 31.9422\nEpoch 44/50\n - 0s - loss: 32.0258\nEpoch 45/50\n - 0s - loss: 31.9774\nEpoch 46/50\n - 0s - loss: 31.9100\nEpoch 47/50\n - 0s - loss: 31.9288\nEpoch 48/50\n - 0s - loss: 31.8399\nEpoch 49/50\n - 0s - loss: 31.8849\nEpoch 50/50\n - 0s - loss: 31.9130\n309/309 [==============================] - 0s 591us/step\nEpoch 1/50\n"
                },
                {
                    "name": "stderr",
                    "output_type": "stream",
                    "text": "/opt/conda/envs/Python36/lib/python3.6/site-packages/sklearn/preprocessing/data.py:645: DataConversionWarning: Data with input dtype int64, float64 were all converted to float64 by StandardScaler.\n  return self.partial_fit(X, y)\n/opt/conda/envs/Python36/lib/python3.6/site-packages/sklearn/base.py:464: DataConversionWarning: Data with input dtype int64, float64 were all converted to float64 by StandardScaler.\n  return self.fit(X, **fit_params).transform(X)\n/opt/conda/envs/Python36/lib/python3.6/site-packages/ipykernel/__main__.py:8: DataConversionWarning: Data with input dtype int64, float64 were all converted to float64 by StandardScaler.\n"
                },
                {
                    "name": "stdout",
                    "output_type": "stream",
                    "text": " - 0s - loss: 31.8614\nEpoch 2/50\n - 0s - loss: 31.8338\nEpoch 3/50\n - 0s - loss: 31.8483\nEpoch 4/50\n - 0s - loss: 31.8402\nEpoch 5/50\n - 0s - loss: 31.8134\nEpoch 6/50\n - 0s - loss: 31.8151\nEpoch 7/50\n - 0s - loss: 31.7417\nEpoch 8/50\n - 0s - loss: 31.7488\nEpoch 9/50\n - 0s - loss: 31.7400\nEpoch 10/50\n - 0s - loss: 31.7367\nEpoch 11/50\n - 0s - loss: 31.7189\nEpoch 12/50\n - 0s - loss: 31.7155\nEpoch 13/50\n - 0s - loss: 31.7668\nEpoch 14/50\n - 0s - loss: 31.7198\nEpoch 15/50\n - 0s - loss: 31.7308\nEpoch 16/50\n - 0s - loss: 31.7722\nEpoch 17/50\n - 0s - loss: 31.7000\nEpoch 18/50\n - 0s - loss: 31.6078\nEpoch 19/50\n - 0s - loss: 31.6500\nEpoch 20/50\n - 0s - loss: 31.6313\nEpoch 21/50\n - 0s - loss: 31.5541\nEpoch 22/50\n - 0s - loss: 31.5881\nEpoch 23/50\n - 0s - loss: 31.5806\nEpoch 24/50\n - 0s - loss: 31.5555\nEpoch 25/50\n - 0s - loss: 31.5864\nEpoch 26/50\n - 0s - loss: 31.6642\nEpoch 27/50\n - 0s - loss: 31.5102\nEpoch 28/50\n - 0s - loss: 31.4706\nEpoch 29/50\n - 1s - loss: 31.4692\nEpoch 30/50\n - 1s - loss: 31.4285\nEpoch 31/50\n - 0s - loss: 31.4845\nEpoch 32/50\n - 0s - loss: 31.4403\nEpoch 33/50\n - 0s - loss: 31.5057\nEpoch 34/50\n - 0s - loss: 31.4031\nEpoch 35/50\n - 0s - loss: 31.4611\nEpoch 36/50\n - 0s - loss: 31.3848\nEpoch 37/50\n - 0s - loss: 31.3718\nEpoch 38/50\n - 0s - loss: 31.4095\nEpoch 39/50\n - 0s - loss: 31.3467\nEpoch 40/50\n - 0s - loss: 31.4325\nEpoch 41/50\n - 0s - loss: 31.3416\nEpoch 42/50\n - 0s - loss: 31.3190\nEpoch 43/50\n - 0s - loss: 31.4351\nEpoch 44/50\n - 0s - loss: 31.3944\nEpoch 45/50\n - 0s - loss: 31.3375\nEpoch 46/50\n - 0s - loss: 31.3247\nEpoch 47/50\n - 0s - loss: 31.3531\nEpoch 48/50\n - 0s - loss: 31.3009\nEpoch 49/50\n - 0s - loss: 31.3024\nEpoch 50/50\n - 0s - loss: 31.2970\n309/309 [==============================] - 0s 621us/step\nEpoch 1/50\n"
                },
                {
                    "name": "stderr",
                    "output_type": "stream",
                    "text": "/opt/conda/envs/Python36/lib/python3.6/site-packages/sklearn/preprocessing/data.py:645: DataConversionWarning: Data with input dtype int64, float64 were all converted to float64 by StandardScaler.\n  return self.partial_fit(X, y)\n/opt/conda/envs/Python36/lib/python3.6/site-packages/sklearn/base.py:464: DataConversionWarning: Data with input dtype int64, float64 were all converted to float64 by StandardScaler.\n  return self.fit(X, **fit_params).transform(X)\n/opt/conda/envs/Python36/lib/python3.6/site-packages/ipykernel/__main__.py:8: DataConversionWarning: Data with input dtype int64, float64 were all converted to float64 by StandardScaler.\n"
                },
                {
                    "name": "stdout",
                    "output_type": "stream",
                    "text": " - 0s - loss: 31.3423\nEpoch 2/50\n - 0s - loss: 31.3068\nEpoch 3/50\n - 0s - loss: 31.2387\nEpoch 4/50\n - 0s - loss: 31.2729\nEpoch 5/50\n - 0s - loss: 31.1951\nEpoch 6/50\n - 0s - loss: 31.2085\nEpoch 7/50\n - 0s - loss: 31.2158\nEpoch 8/50\n - 0s - loss: 31.2317\nEpoch 9/50\n - 0s - loss: 31.2541\nEpoch 10/50\n - 0s - loss: 31.1771\nEpoch 11/50\n - 0s - loss: 31.2594\nEpoch 12/50\n - 0s - loss: 31.1297\nEpoch 13/50\n - 0s - loss: 31.2177\nEpoch 14/50\n - 0s - loss: 31.1349\nEpoch 15/50\n - 0s - loss: 31.1732\nEpoch 16/50\n - 0s - loss: 31.1434\nEpoch 17/50\n - 0s - loss: 31.0596\nEpoch 18/50\n - 0s - loss: 31.0826\nEpoch 19/50\n - 0s - loss: 31.0645\nEpoch 20/50\n - 0s - loss: 31.1467\nEpoch 21/50\n - 0s - loss: 31.0862\nEpoch 22/50\n - 0s - loss: 31.0536\nEpoch 23/50\n - 1s - loss: 31.0152\nEpoch 24/50\n - 0s - loss: 30.9860\nEpoch 25/50\n - 1s - loss: 31.0024\nEpoch 26/50\n - 0s - loss: 30.9933\nEpoch 27/50\n - 0s - loss: 31.0477\nEpoch 28/50\n - 0s - loss: 31.0313\nEpoch 29/50\n - 0s - loss: 30.9973\nEpoch 30/50\n - 0s - loss: 31.0022\nEpoch 31/50\n - 0s - loss: 31.0377\nEpoch 32/50\n - 0s - loss: 30.9657\nEpoch 33/50\n - 0s - loss: 30.9170\nEpoch 34/50\n - 0s - loss: 30.9052\nEpoch 35/50\n - 0s - loss: 30.9797\nEpoch 36/50\n - 0s - loss: 31.0192\nEpoch 37/50\n - 0s - loss: 30.8614\nEpoch 38/50\n - 0s - loss: 30.8519\nEpoch 39/50\n - 0s - loss: 30.8835\nEpoch 40/50\n - 0s - loss: 30.9206\nEpoch 41/50\n - 0s - loss: 30.8430\nEpoch 42/50\n - 1s - loss: 30.9531\nEpoch 43/50\n - 0s - loss: 30.8039\nEpoch 44/50\n - 0s - loss: 30.8014\nEpoch 45/50\n - 0s - loss: 30.7901\nEpoch 46/50\n - 0s - loss: 30.7951\nEpoch 47/50\n - 0s - loss: 30.8188\nEpoch 48/50\n - 0s - loss: 30.7543\nEpoch 49/50\n - 0s - loss: 30.8038\nEpoch 50/50\n - 0s - loss: 30.7844\n309/309 [==============================] - 0s 631us/step\nEpoch 1/50\n - 0s - loss: 30.8036\n"
                },
                {
                    "name": "stderr",
                    "output_type": "stream",
                    "text": "/opt/conda/envs/Python36/lib/python3.6/site-packages/sklearn/preprocessing/data.py:645: DataConversionWarning: Data with input dtype int64, float64 were all converted to float64 by StandardScaler.\n  return self.partial_fit(X, y)\n/opt/conda/envs/Python36/lib/python3.6/site-packages/sklearn/base.py:464: DataConversionWarning: Data with input dtype int64, float64 were all converted to float64 by StandardScaler.\n  return self.fit(X, **fit_params).transform(X)\n/opt/conda/envs/Python36/lib/python3.6/site-packages/ipykernel/__main__.py:8: DataConversionWarning: Data with input dtype int64, float64 were all converted to float64 by StandardScaler.\n"
                },
                {
                    "name": "stdout",
                    "output_type": "stream",
                    "text": "Epoch 2/50\n - 0s - loss: 30.7617\nEpoch 3/50\n - 0s - loss: 30.7283\nEpoch 4/50\n - 0s - loss: 30.7363\nEpoch 5/50\n - 0s - loss: 30.7459\nEpoch 6/50\n - 0s - loss: 30.7452\nEpoch 7/50\n - 0s - loss: 30.7261\nEpoch 8/50\n - 0s - loss: 30.7203\nEpoch 9/50\n - 0s - loss: 30.7052\nEpoch 10/50\n - 0s - loss: 30.7260\nEpoch 11/50\n - 0s - loss: 30.6828\nEpoch 12/50\n - 0s - loss: 30.6527\nEpoch 13/50\n - 0s - loss: 30.6290\nEpoch 14/50\n - 0s - loss: 30.7753\nEpoch 15/50\n - 0s - loss: 30.6588\nEpoch 16/50\n - 1s - loss: 30.6657\nEpoch 17/50\n - 0s - loss: 30.6362\nEpoch 18/50\n - 1s - loss: 30.6481\nEpoch 19/50\n - 0s - loss: 30.7206\nEpoch 20/50\n - 0s - loss: 30.5938\nEpoch 21/50\n - 0s - loss: 30.6618\nEpoch 22/50\n - 0s - loss: 30.6118\nEpoch 23/50\n - 0s - loss: 30.5490\nEpoch 24/50\n - 0s - loss: 30.5711\nEpoch 25/50\n - 0s - loss: 30.5303\nEpoch 26/50\n - 0s - loss: 30.5544\nEpoch 27/50\n - 0s - loss: 30.5176\nEpoch 28/50\n - 1s - loss: 30.5185\nEpoch 29/50\n - 0s - loss: 30.5052\nEpoch 30/50\n - 0s - loss: 30.5168\nEpoch 31/50\n - 0s - loss: 30.5183\nEpoch 32/50\n - 0s - loss: 30.5477\nEpoch 33/50\n - 0s - loss: 30.4777\nEpoch 34/50\n - 0s - loss: 30.5224\nEpoch 35/50\n - 0s - loss: 30.4436\nEpoch 36/50\n - 0s - loss: 30.4694\nEpoch 37/50\n - 0s - loss: 30.4273\nEpoch 38/50\n - 0s - loss: 30.4243\nEpoch 39/50\n - 0s - loss: 30.4427\nEpoch 40/50\n - 0s - loss: 30.4829\nEpoch 41/50\n - 0s - loss: 30.4601\nEpoch 42/50\n - 0s - loss: 30.3875\nEpoch 43/50\n - 0s - loss: 30.4480\nEpoch 44/50\n - 0s - loss: 30.4008\nEpoch 45/50\n - 0s - loss: 30.3602\nEpoch 46/50\n - 0s - loss: 30.3481\nEpoch 47/50\n - 0s - loss: 30.3528\nEpoch 48/50\n - 0s - loss: 30.3788\nEpoch 49/50\n - 0s - loss: 30.3356\nEpoch 50/50\n - 0s - loss: 30.4519\n309/309 [==============================] - 0s 650us/step\nEpoch 1/50\n"
                },
                {
                    "name": "stderr",
                    "output_type": "stream",
                    "text": "/opt/conda/envs/Python36/lib/python3.6/site-packages/sklearn/preprocessing/data.py:645: DataConversionWarning: Data with input dtype int64, float64 were all converted to float64 by StandardScaler.\n  return self.partial_fit(X, y)\n/opt/conda/envs/Python36/lib/python3.6/site-packages/sklearn/base.py:464: DataConversionWarning: Data with input dtype int64, float64 were all converted to float64 by StandardScaler.\n  return self.fit(X, **fit_params).transform(X)\n/opt/conda/envs/Python36/lib/python3.6/site-packages/ipykernel/__main__.py:8: DataConversionWarning: Data with input dtype int64, float64 were all converted to float64 by StandardScaler.\n"
                },
                {
                    "name": "stdout",
                    "output_type": "stream",
                    "text": " - 0s - loss: 30.3192\nEpoch 2/50\n - 0s - loss: 30.3383\nEpoch 3/50\n - 0s - loss: 30.3423\nEpoch 4/50\n - 0s - loss: 30.2980\nEpoch 5/50\n - 0s - loss: 30.3187\nEpoch 6/50\n - 0s - loss: 30.3330\nEpoch 7/50\n - 0s - loss: 30.2948\nEpoch 8/50\n - 0s - loss: 30.3230\nEpoch 9/50\n - 0s - loss: 30.3195\nEpoch 10/50\n - 1s - loss: 30.2930\nEpoch 11/50\n - 0s - loss: 30.3115\nEpoch 12/50\n - 1s - loss: 30.2580\nEpoch 13/50\n - 0s - loss: 30.2661\nEpoch 14/50\n - 0s - loss: 30.2351\nEpoch 15/50\n - 0s - loss: 30.2669\nEpoch 16/50\n - 0s - loss: 30.2425\nEpoch 17/50\n - 0s - loss: 30.2550\nEpoch 18/50\n - 0s - loss: 30.2361\nEpoch 19/50\n - 0s - loss: 30.3622\nEpoch 20/50\n - 0s - loss: 30.2085\nEpoch 21/50\n - 0s - loss: 30.2290\nEpoch 22/50\n - 0s - loss: 30.1987\nEpoch 23/50\n - 0s - loss: 30.2782\nEpoch 24/50\n - 0s - loss: 30.1642\nEpoch 25/50\n - 0s - loss: 30.1792\nEpoch 26/50\n - 0s - loss: 30.1873\nEpoch 27/50\n - 0s - loss: 30.1924\nEpoch 28/50\n - 0s - loss: 30.1470\nEpoch 29/50\n - 0s - loss: 30.1614\nEpoch 30/50\n - 0s - loss: 30.1298\nEpoch 31/50\n - 0s - loss: 30.1506\nEpoch 32/50\n - 0s - loss: 30.1206\nEpoch 33/50\n - 0s - loss: 30.1229\nEpoch 34/50\n - 1s - loss: 30.1302\nEpoch 35/50\n - 0s - loss: 30.2363\nEpoch 36/50\n - 0s - loss: 30.2214\nEpoch 37/50\n - 0s - loss: 30.1486\nEpoch 38/50\n - 0s - loss: 30.1121\nEpoch 39/50\n - 0s - loss: 30.1495\nEpoch 40/50\n - 0s - loss: 30.1885\nEpoch 41/50\n - 0s - loss: 30.0679\nEpoch 42/50\n - 0s - loss: 30.0859\nEpoch 43/50\n - 0s - loss: 30.0923\nEpoch 44/50\n - 0s - loss: 30.0497\nEpoch 45/50\n - 0s - loss: 30.1039\nEpoch 46/50\n - 0s - loss: 30.0411\nEpoch 47/50\n - 0s - loss: 30.0683\nEpoch 48/50\n - 0s - loss: 30.0372\nEpoch 49/50\n - 0s - loss: 30.0994\nEpoch 50/50\n - 0s - loss: 30.0280\n309/309 [==============================] - 0s 645us/step\nEpoch 1/50\n"
                },
                {
                    "name": "stderr",
                    "output_type": "stream",
                    "text": "/opt/conda/envs/Python36/lib/python3.6/site-packages/sklearn/preprocessing/data.py:645: DataConversionWarning: Data with input dtype int64, float64 were all converted to float64 by StandardScaler.\n  return self.partial_fit(X, y)\n/opt/conda/envs/Python36/lib/python3.6/site-packages/sklearn/base.py:464: DataConversionWarning: Data with input dtype int64, float64 were all converted to float64 by StandardScaler.\n  return self.fit(X, **fit_params).transform(X)\n/opt/conda/envs/Python36/lib/python3.6/site-packages/ipykernel/__main__.py:8: DataConversionWarning: Data with input dtype int64, float64 were all converted to float64 by StandardScaler.\n"
                },
                {
                    "name": "stdout",
                    "output_type": "stream",
                    "text": " - 0s - loss: 30.0067\nEpoch 2/50\n - 1s - loss: 30.0621\nEpoch 3/50\n - 0s - loss: 30.0088\nEpoch 4/50\n - 1s - loss: 30.0301\nEpoch 5/50\n - 0s - loss: 30.0766\nEpoch 6/50\n - 0s - loss: 30.0253\nEpoch 7/50\n - 0s - loss: 30.0498\nEpoch 8/50\n - 0s - loss: 29.9642\nEpoch 9/50\n - 0s - loss: 29.9905\nEpoch 10/50\n - 0s - loss: 29.9506\nEpoch 11/50\n - 0s - loss: 30.0238\nEpoch 12/50\n - 0s - loss: 29.9471\nEpoch 13/50\n - 0s - loss: 30.0208\nEpoch 14/50\n - 0s - loss: 29.9604\nEpoch 15/50\n - 0s - loss: 29.9821\nEpoch 16/50\n - 0s - loss: 29.9574\nEpoch 17/50\n - 0s - loss: 30.0261\nEpoch 18/50\n - 0s - loss: 29.9341\nEpoch 19/50\n - 0s - loss: 29.9563\nEpoch 20/50\n - 0s - loss: 29.9437\nEpoch 21/50\n - 0s - loss: 30.0239\nEpoch 22/50\n - 0s - loss: 29.9080\nEpoch 23/50\n - 0s - loss: 29.8846\nEpoch 24/50\n - 0s - loss: 29.8532\nEpoch 25/50\n - 0s - loss: 29.9068\nEpoch 26/50\n - 0s - loss: 29.8505\nEpoch 27/50\n - 0s - loss: 29.8698\nEpoch 28/50\n - 0s - loss: 29.8654\nEpoch 29/50\n - 0s - loss: 29.8334\nEpoch 30/50\n - 0s - loss: 29.8392\nEpoch 31/50\n - 0s - loss: 29.8546\nEpoch 32/50\n - 0s - loss: 29.8174\nEpoch 33/50\n - 0s - loss: 29.8037\nEpoch 34/50\n - 0s - loss: 29.8120\nEpoch 35/50\n - 0s - loss: 29.8236\nEpoch 36/50\n - 0s - loss: 29.7880\nEpoch 37/50\n - 0s - loss: 29.7787\nEpoch 38/50\n - 0s - loss: 29.8169\nEpoch 39/50\n - 0s - loss: 29.7524\nEpoch 40/50\n - 0s - loss: 29.9160\nEpoch 41/50\n - 0s - loss: 29.7343\nEpoch 42/50\n - 0s - loss: 29.7648\nEpoch 43/50\n - 0s - loss: 29.8270\nEpoch 44/50\n - 0s - loss: 29.7476\nEpoch 45/50\n - 0s - loss: 29.7322\nEpoch 46/50\n - 0s - loss: 29.7508\nEpoch 47/50\n - 0s - loss: 29.7391\nEpoch 48/50\n - 2s - loss: 29.7180\nEpoch 49/50\n - 1s - loss: 29.7458\nEpoch 50/50\n - 0s - loss: 29.7084\n309/309 [==============================] - 0s 644us/step\nEpoch 1/50\n"
                },
                {
                    "name": "stderr",
                    "output_type": "stream",
                    "text": "/opt/conda/envs/Python36/lib/python3.6/site-packages/sklearn/preprocessing/data.py:645: DataConversionWarning: Data with input dtype int64, float64 were all converted to float64 by StandardScaler.\n  return self.partial_fit(X, y)\n/opt/conda/envs/Python36/lib/python3.6/site-packages/sklearn/base.py:464: DataConversionWarning: Data with input dtype int64, float64 were all converted to float64 by StandardScaler.\n  return self.fit(X, **fit_params).transform(X)\n/opt/conda/envs/Python36/lib/python3.6/site-packages/ipykernel/__main__.py:8: DataConversionWarning: Data with input dtype int64, float64 were all converted to float64 by StandardScaler.\n"
                },
                {
                    "name": "stdout",
                    "output_type": "stream",
                    "text": " - 0s - loss: 29.6718\nEpoch 2/50\n - 0s - loss: 29.6843\nEpoch 3/50\n - 0s - loss: 29.7049\nEpoch 4/50\n - 0s - loss: 29.6598\nEpoch 5/50\n - 0s - loss: 29.7051\nEpoch 6/50\n - 0s - loss: 29.6088\nEpoch 7/50\n - 0s - loss: 29.6373\nEpoch 8/50\n - 0s - loss: 29.6649\nEpoch 9/50\n - 0s - loss: 29.6064\nEpoch 10/50\n - 0s - loss: 29.6311\nEpoch 11/50\n - 0s - loss: 29.5828\nEpoch 12/50\n - 0s - loss: 29.5628\nEpoch 13/50\n - 0s - loss: 29.6376\nEpoch 14/50\n - 0s - loss: 29.5884\nEpoch 15/50\n - 0s - loss: 29.5719\nEpoch 16/50\n - 0s - loss: 29.5920\nEpoch 17/50\n - 0s - loss: 29.5910\nEpoch 18/50\n - 0s - loss: 29.5645\nEpoch 19/50\n - 0s - loss: 29.6137\nEpoch 20/50\n - 0s - loss: 29.5462\nEpoch 21/50\n - 0s - loss: 29.5640\nEpoch 22/50\n - 0s - loss: 29.5463\nEpoch 23/50\n - 0s - loss: 29.5578\nEpoch 24/50\n - 0s - loss: 29.5740\nEpoch 25/50\n - 0s - loss: 29.5523\nEpoch 26/50\n - 0s - loss: 29.5117\nEpoch 27/50\n - 0s - loss: 29.4889\nEpoch 28/50\n - 0s - loss: 29.5703\nEpoch 29/50\n - 0s - loss: 29.5334\nEpoch 30/50\n - 0s - loss: 29.4886\nEpoch 31/50\n - 0s - loss: 29.5017\nEpoch 32/50\n - 0s - loss: 29.4830\nEpoch 33/50\n - 0s - loss: 29.4636\nEpoch 34/50\n - 0s - loss: 29.4257\nEpoch 35/50\n - 0s - loss: 29.5121\nEpoch 36/50\n - 0s - loss: 29.4317\nEpoch 37/50\n - 0s - loss: 29.4779\nEpoch 38/50\n - 0s - loss: 29.4321\nEpoch 39/50\n - 0s - loss: 29.4819\nEpoch 40/50\n - 0s - loss: 29.4673\nEpoch 41/50\n - 0s - loss: 29.4067\nEpoch 42/50\n - 0s - loss: 29.4047\nEpoch 43/50\n - 1s - loss: 29.3864\nEpoch 44/50\n - 0s - loss: 29.4164\nEpoch 45/50\n - 1s - loss: 29.3651\nEpoch 46/50\n - 0s - loss: 29.3489\nEpoch 47/50\n - 0s - loss: 29.3784\nEpoch 48/50\n - 0s - loss: 29.3572\nEpoch 49/50\n - 0s - loss: 29.3923\nEpoch 50/50\n - 0s - loss: 29.3240\n309/309 [==============================] - 0s 611us/step\nEpoch 1/50\n"
                },
                {
                    "name": "stderr",
                    "output_type": "stream",
                    "text": "/opt/conda/envs/Python36/lib/python3.6/site-packages/sklearn/preprocessing/data.py:645: DataConversionWarning: Data with input dtype int64, float64 were all converted to float64 by StandardScaler.\n  return self.partial_fit(X, y)\n/opt/conda/envs/Python36/lib/python3.6/site-packages/sklearn/base.py:464: DataConversionWarning: Data with input dtype int64, float64 were all converted to float64 by StandardScaler.\n  return self.fit(X, **fit_params).transform(X)\n/opt/conda/envs/Python36/lib/python3.6/site-packages/ipykernel/__main__.py:8: DataConversionWarning: Data with input dtype int64, float64 were all converted to float64 by StandardScaler.\n"
                },
                {
                    "name": "stdout",
                    "output_type": "stream",
                    "text": " - 0s - loss: 29.3297\nEpoch 2/50\n - 0s - loss: 29.3568\nEpoch 3/50\n - 0s - loss: 29.3427\nEpoch 4/50\n - 0s - loss: 29.3443\nEpoch 5/50\n - 0s - loss: 29.3228\nEpoch 6/50\n - 0s - loss: 29.3100\nEpoch 7/50\n - 0s - loss: 29.3500\nEpoch 8/50\n - 0s - loss: 29.3654\nEpoch 9/50\n - 0s - loss: 29.3015\nEpoch 10/50\n - 0s - loss: 29.2706\nEpoch 11/50\n - 0s - loss: 29.2446\nEpoch 12/50\n - 0s - loss: 29.2665\nEpoch 13/50\n - 0s - loss: 29.2790\nEpoch 14/50\n - 0s - loss: 29.3266\nEpoch 15/50\n - 0s - loss: 29.2713\nEpoch 16/50\n - 0s - loss: 29.2502\nEpoch 17/50\n - 0s - loss: 29.2970\nEpoch 18/50\n - 0s - loss: 29.2092\nEpoch 19/50\n - 0s - loss: 29.2354\nEpoch 20/50\n - 0s - loss: 29.2518\nEpoch 21/50\n - 0s - loss: 29.1903\nEpoch 22/50\n - 0s - loss: 29.2132\nEpoch 23/50\n - 0s - loss: 29.2339\nEpoch 24/50\n - 0s - loss: 29.2037\nEpoch 25/50\n - 0s - loss: 29.2045\nEpoch 26/50\n - 0s - loss: 29.1785\nEpoch 27/50\n - 0s - loss: 29.1634\nEpoch 28/50\n - 0s - loss: 29.2104\nEpoch 29/50\n - 0s - loss: 29.1988\nEpoch 30/50\n - 0s - loss: 29.1455\nEpoch 31/50\n - 0s - loss: 29.1830\nEpoch 32/50\n - 0s - loss: 29.2291\nEpoch 33/50\n - 0s - loss: 29.1944\nEpoch 34/50\n - 0s - loss: 29.1507\nEpoch 35/50\n - 0s - loss: 29.1449\nEpoch 36/50\n - 0s - loss: 29.1138\nEpoch 37/50\n - 0s - loss: 29.1146\nEpoch 38/50\n - 0s - loss: 29.0979\nEpoch 39/50\n - 1s - loss: 29.1513\nEpoch 40/50\n - 0s - loss: 29.1007\nEpoch 41/50\n - 1s - loss: 29.1240\nEpoch 42/50\n - 0s - loss: 29.1278\nEpoch 43/50\n - 0s - loss: 29.0468\nEpoch 44/50\n - 0s - loss: 29.0763\nEpoch 45/50\n - 0s - loss: 29.0485\nEpoch 46/50\n - 0s - loss: 29.0463\nEpoch 47/50\n - 0s - loss: 29.0481\nEpoch 48/50\n - 1s - loss: 29.0546\nEpoch 49/50\n - 0s - loss: 29.0107\nEpoch 50/50\n - 0s - loss: 29.0271\n309/309 [==============================] - 0s 647us/step\nEpoch 1/50\n"
                },
                {
                    "name": "stderr",
                    "output_type": "stream",
                    "text": "/opt/conda/envs/Python36/lib/python3.6/site-packages/sklearn/preprocessing/data.py:645: DataConversionWarning: Data with input dtype int64, float64 were all converted to float64 by StandardScaler.\n  return self.partial_fit(X, y)\n/opt/conda/envs/Python36/lib/python3.6/site-packages/sklearn/base.py:464: DataConversionWarning: Data with input dtype int64, float64 were all converted to float64 by StandardScaler.\n  return self.fit(X, **fit_params).transform(X)\n/opt/conda/envs/Python36/lib/python3.6/site-packages/ipykernel/__main__.py:8: DataConversionWarning: Data with input dtype int64, float64 were all converted to float64 by StandardScaler.\n"
                },
                {
                    "name": "stdout",
                    "output_type": "stream",
                    "text": " - 0s - loss: 29.1131\nEpoch 2/50\n - 0s - loss: 29.1235\nEpoch 3/50\n - 0s - loss: 29.0215\nEpoch 4/50\n - 0s - loss: 29.0170\nEpoch 5/50\n - 0s - loss: 29.0064\nEpoch 6/50\n - 0s - loss: 29.0294\nEpoch 7/50\n - 0s - loss: 29.0300\nEpoch 8/50\n - 0s - loss: 29.0052\nEpoch 9/50\n - 0s - loss: 28.9859\nEpoch 10/50\n - 0s - loss: 29.0054\nEpoch 11/50\n - 0s - loss: 29.0161\nEpoch 12/50\n - 0s - loss: 28.9642\nEpoch 13/50\n - 0s - loss: 28.9525\nEpoch 14/50\n - 0s - loss: 28.9896\nEpoch 15/50\n - 0s - loss: 29.0332\nEpoch 16/50\n - 0s - loss: 28.9463\nEpoch 17/50\n - 0s - loss: 28.9356\nEpoch 18/50\n - 0s - loss: 28.9299\nEpoch 19/50\n - 0s - loss: 28.9531\nEpoch 20/50\n - 0s - loss: 28.9382\nEpoch 21/50\n - 0s - loss: 28.9493\nEpoch 22/50\n - 0s - loss: 28.9303\nEpoch 23/50\n - 0s - loss: 28.9196\nEpoch 24/50\n - 0s - loss: 28.9351\nEpoch 25/50\n - 0s - loss: 28.9165\nEpoch 26/50\n - 0s - loss: 28.9082\nEpoch 27/50\n - 0s - loss: 28.8903\nEpoch 28/50\n - 0s - loss: 28.9398\nEpoch 29/50\n - 0s - loss: 28.8966\nEpoch 30/50\n - 0s - loss: 28.8729\nEpoch 31/50\n - 0s - loss: 28.9031\nEpoch 32/50\n - 0s - loss: 28.9051\nEpoch 33/50\n - 0s - loss: 28.8874\nEpoch 34/50\n - 1s - loss: 28.8950\nEpoch 35/50\n - 0s - loss: 28.9303\nEpoch 36/50\n - 1s - loss: 28.8757\nEpoch 37/50\n - 0s - loss: 28.8601\nEpoch 38/50\n - 0s - loss: 28.8724\nEpoch 39/50\n - 0s - loss: 28.8803\nEpoch 40/50\n - 0s - loss: 28.8610\nEpoch 41/50\n - 0s - loss: 28.8589\nEpoch 42/50\n - 0s - loss: 28.8180\nEpoch 43/50\n - 0s - loss: 28.9285\nEpoch 44/50\n - 0s - loss: 28.8519\nEpoch 45/50\n - 0s - loss: 28.8527\nEpoch 46/50\n - 0s - loss: 28.8835\nEpoch 47/50\n - 0s - loss: 28.8418\nEpoch 48/50\n - 0s - loss: 28.8318\nEpoch 49/50\n - 0s - loss: 28.8109\nEpoch 50/50\n - 0s - loss: 28.8030\n309/309 [==============================] - 0s 515us/step\nEpoch 1/50\n"
                },
                {
                    "name": "stderr",
                    "output_type": "stream",
                    "text": "/opt/conda/envs/Python36/lib/python3.6/site-packages/sklearn/preprocessing/data.py:645: DataConversionWarning: Data with input dtype int64, float64 were all converted to float64 by StandardScaler.\n  return self.partial_fit(X, y)\n/opt/conda/envs/Python36/lib/python3.6/site-packages/sklearn/base.py:464: DataConversionWarning: Data with input dtype int64, float64 were all converted to float64 by StandardScaler.\n  return self.fit(X, **fit_params).transform(X)\n/opt/conda/envs/Python36/lib/python3.6/site-packages/ipykernel/__main__.py:8: DataConversionWarning: Data with input dtype int64, float64 were all converted to float64 by StandardScaler.\n"
                },
                {
                    "name": "stdout",
                    "output_type": "stream",
                    "text": " - 0s - loss: 28.8705\nEpoch 2/50\n - 0s - loss: 28.7799\nEpoch 3/50\n - 0s - loss: 28.7824\nEpoch 4/50\n - 0s - loss: 28.8335\nEpoch 5/50\n - 0s - loss: 28.8071\nEpoch 6/50\n - 1s - loss: 28.7930\nEpoch 7/50\n - 0s - loss: 28.8328\nEpoch 8/50\n - 0s - loss: 28.8101\nEpoch 9/50\n - 0s - loss: 28.7843\nEpoch 10/50\n - 0s - loss: 28.8134\nEpoch 11/50\n - 0s - loss: 28.8169\nEpoch 12/50\n - 0s - loss: 28.7599\nEpoch 13/50\n - 0s - loss: 28.8084\nEpoch 14/50\n - 0s - loss: 28.7635\nEpoch 15/50\n - 0s - loss: 28.7858\nEpoch 16/50\n - 0s - loss: 28.7549\nEpoch 17/50\n - 0s - loss: 28.7225\nEpoch 18/50\n - 0s - loss: 28.6963\nEpoch 19/50\n - 0s - loss: 28.7048\nEpoch 20/50\n - 0s - loss: 28.7350\nEpoch 21/50\n - 0s - loss: 28.7246\nEpoch 22/50\n - 0s - loss: 28.7335\nEpoch 23/50\n - 0s - loss: 28.7128\nEpoch 24/50\n - 0s - loss: 28.7080\nEpoch 25/50\n - 0s - loss: 28.7400\nEpoch 26/50\n - 0s - loss: 28.6742\nEpoch 27/50\n - 0s - loss: 28.6715\nEpoch 28/50\n - 1s - loss: 28.7122\nEpoch 29/50\n - 0s - loss: 28.7070\nEpoch 30/50\n - 1s - loss: 28.6777\nEpoch 31/50\n - 0s - loss: 28.6747\nEpoch 32/50\n - 0s - loss: 28.7266\nEpoch 33/50\n - 0s - loss: 28.7377\nEpoch 34/50\n - 0s - loss: 28.7303\nEpoch 35/50\n - 0s - loss: 28.6215\nEpoch 36/50\n - 0s - loss: 28.6432\nEpoch 37/50\n - 0s - loss: 28.6297\nEpoch 38/50\n - 0s - loss: 28.6395\nEpoch 39/50\n - 0s - loss: 28.6357\nEpoch 40/50\n - 0s - loss: 28.6348\nEpoch 41/50\n - 0s - loss: 28.6426\nEpoch 42/50\n - 0s - loss: 28.6268\nEpoch 43/50\n - 0s - loss: 28.6703\nEpoch 44/50\n - 0s - loss: 28.5784\nEpoch 45/50\n - 0s - loss: 28.6163\nEpoch 46/50\n - 0s - loss: 28.6954\nEpoch 47/50\n - 0s - loss: 28.5973\nEpoch 48/50\n - 0s - loss: 28.6119\nEpoch 49/50\n - 0s - loss: 28.6133\nEpoch 50/50\n - 0s - loss: 28.5534\n309/309 [==============================] - 0s 648us/step\nEpoch 1/50\n"
                },
                {
                    "name": "stderr",
                    "output_type": "stream",
                    "text": "/opt/conda/envs/Python36/lib/python3.6/site-packages/sklearn/preprocessing/data.py:645: DataConversionWarning: Data with input dtype int64, float64 were all converted to float64 by StandardScaler.\n  return self.partial_fit(X, y)\n/opt/conda/envs/Python36/lib/python3.6/site-packages/sklearn/base.py:464: DataConversionWarning: Data with input dtype int64, float64 were all converted to float64 by StandardScaler.\n  return self.fit(X, **fit_params).transform(X)\n/opt/conda/envs/Python36/lib/python3.6/site-packages/ipykernel/__main__.py:8: DataConversionWarning: Data with input dtype int64, float64 were all converted to float64 by StandardScaler.\n"
                },
                {
                    "name": "stdout",
                    "output_type": "stream",
                    "text": " - 0s - loss: 28.5644\nEpoch 2/50\n - 0s - loss: 28.5520\nEpoch 3/50\n - 0s - loss: 28.5878\nEpoch 4/50\n - 0s - loss: 28.5535\nEpoch 5/50\n - 0s - loss: 28.5804\nEpoch 6/50\n - 0s - loss: 28.5652\nEpoch 7/50\n - 0s - loss: 28.5160\nEpoch 8/50\n - 0s - loss: 28.5349\nEpoch 9/50\n - 0s - loss: 28.5521\nEpoch 10/50\n - 0s - loss: 28.5179\nEpoch 11/50\n - 0s - loss: 28.5013\nEpoch 12/50\n - 0s - loss: 28.5180\nEpoch 13/50\n - 0s - loss: 28.6084\nEpoch 14/50\n - 0s - loss: 28.4515\nEpoch 15/50\n - 0s - loss: 28.5777\nEpoch 16/50\n - 0s - loss: 28.4903\nEpoch 17/50\n - 0s - loss: 28.4708\nEpoch 18/50\n - 0s - loss: 28.5082\nEpoch 19/50\n - 0s - loss: 28.4797\nEpoch 20/50\n - 0s - loss: 28.5303\nEpoch 21/50\n - 0s - loss: 28.4977\nEpoch 22/50\n - 0s - loss: 28.5123\nEpoch 23/50\n - 0s - loss: 28.4601\nEpoch 24/50\n - 1s - loss: 28.4915\nEpoch 25/50\n - 1s - loss: 28.5233\nEpoch 26/50\n - 0s - loss: 28.4831\nEpoch 27/50\n - 0s - loss: 28.5166\nEpoch 28/50\n - 0s - loss: 28.4453\nEpoch 29/50\n - 0s - loss: 28.4572\nEpoch 30/50\n - 0s - loss: 28.4181\nEpoch 31/50\n - 0s - loss: 28.4390\nEpoch 32/50\n - 0s - loss: 28.4525\nEpoch 33/50\n - 0s - loss: 28.4811\nEpoch 34/50\n - 0s - loss: 28.4505\nEpoch 35/50\n - 0s - loss: 28.4789\nEpoch 36/50\n - 0s - loss: 28.4388\nEpoch 37/50\n - 0s - loss: 28.4285\nEpoch 38/50\n - 0s - loss: 28.4230\nEpoch 39/50\n - 0s - loss: 28.4293\nEpoch 40/50\n - 0s - loss: 28.3947\nEpoch 41/50\n - 0s - loss: 28.4505\nEpoch 42/50\n - 0s - loss: 28.4593\nEpoch 43/50\n - 0s - loss: 28.3842\nEpoch 44/50\n - 0s - loss: 28.4029\nEpoch 45/50\n - 0s - loss: 28.4914\nEpoch 46/50\n - 0s - loss: 28.3595\nEpoch 47/50\n - 0s - loss: 28.4387\nEpoch 48/50\n - 0s - loss: 28.4356\nEpoch 49/50\n - 0s - loss: 28.4191\nEpoch 50/50\n - 0s - loss: 28.4038\n309/309 [==============================] - 0s 560us/step\nEpoch 1/50\n"
                },
                {
                    "name": "stderr",
                    "output_type": "stream",
                    "text": "/opt/conda/envs/Python36/lib/python3.6/site-packages/sklearn/preprocessing/data.py:645: DataConversionWarning: Data with input dtype int64, float64 were all converted to float64 by StandardScaler.\n  return self.partial_fit(X, y)\n/opt/conda/envs/Python36/lib/python3.6/site-packages/sklearn/base.py:464: DataConversionWarning: Data with input dtype int64, float64 were all converted to float64 by StandardScaler.\n  return self.fit(X, **fit_params).transform(X)\n/opt/conda/envs/Python36/lib/python3.6/site-packages/ipykernel/__main__.py:8: DataConversionWarning: Data with input dtype int64, float64 were all converted to float64 by StandardScaler.\n"
                },
                {
                    "name": "stdout",
                    "output_type": "stream",
                    "text": " - 0s - loss: 28.4116\nEpoch 2/50\n - 0s - loss: 28.3759\nEpoch 3/50\n - 0s - loss: 28.3663\nEpoch 4/50\n - 0s - loss: 28.3526\nEpoch 5/50\n - 0s - loss: 28.4098\nEpoch 6/50\n - 0s - loss: 28.3596\nEpoch 7/50\n - 0s - loss: 28.3405\nEpoch 8/50\n - 0s - loss: 28.3344\nEpoch 9/50\n - 0s - loss: 28.4207\nEpoch 10/50\n - 0s - loss: 28.4264\nEpoch 11/50\n - 0s - loss: 28.3223\nEpoch 12/50\n - 0s - loss: 28.3339\nEpoch 13/50\n - 0s - loss: 28.3873\nEpoch 14/50\n - 0s - loss: 28.3689\nEpoch 15/50\n - 0s - loss: 28.3215\nEpoch 16/50\n - 0s - loss: 28.4142\nEpoch 17/50\n - 0s - loss: 28.4289\nEpoch 18/50\n - 0s - loss: 28.3228\nEpoch 19/50\n - 1s - loss: 28.3020\nEpoch 20/50\n - 0s - loss: 28.3871\nEpoch 21/50\n - 1s - loss: 28.3502\nEpoch 22/50\n - 0s - loss: 28.3047\nEpoch 23/50\n - 0s - loss: 28.2723\nEpoch 24/50\n - 0s - loss: 28.2957\nEpoch 25/50\n - 0s - loss: 28.2627\nEpoch 26/50\n - 0s - loss: 28.2745\nEpoch 27/50\n - 0s - loss: 28.2868\nEpoch 28/50\n - 0s - loss: 28.3110\nEpoch 29/50\n - 0s - loss: 28.2987\nEpoch 30/50\n - 0s - loss: 28.2831\nEpoch 31/50\n - 0s - loss: 28.2745\nEpoch 32/50\n - 0s - loss: 28.2613\nEpoch 33/50\n - 0s - loss: 28.2548\nEpoch 34/50\n - 0s - loss: 28.2823\nEpoch 35/50\n - 0s - loss: 28.2419\nEpoch 36/50\n - 0s - loss: 28.2805\nEpoch 37/50\n - 0s - loss: 28.2992\nEpoch 38/50\n - 0s - loss: 28.2385\nEpoch 39/50\n - 1s - loss: 28.2430\nEpoch 40/50\n - 0s - loss: 28.2643\nEpoch 41/50\n - 0s - loss: 28.2994\nEpoch 42/50\n - 0s - loss: 28.2224\nEpoch 43/50\n - 0s - loss: 28.2491\nEpoch 44/50\n - 0s - loss: 28.1815\nEpoch 45/50\n - 0s - loss: 28.2147\nEpoch 46/50\n - 0s - loss: 28.2308\nEpoch 47/50\n - 0s - loss: 28.2125\nEpoch 48/50\n - 0s - loss: 28.2634\nEpoch 49/50\n - 0s - loss: 28.2562\nEpoch 50/50\n - 0s - loss: 28.2599\n309/309 [==============================] - 0s 815us/step\nEpoch 1/50\n"
                },
                {
                    "name": "stderr",
                    "output_type": "stream",
                    "text": "/opt/conda/envs/Python36/lib/python3.6/site-packages/sklearn/preprocessing/data.py:645: DataConversionWarning: Data with input dtype int64, float64 were all converted to float64 by StandardScaler.\n  return self.partial_fit(X, y)\n/opt/conda/envs/Python36/lib/python3.6/site-packages/sklearn/base.py:464: DataConversionWarning: Data with input dtype int64, float64 were all converted to float64 by StandardScaler.\n  return self.fit(X, **fit_params).transform(X)\n/opt/conda/envs/Python36/lib/python3.6/site-packages/ipykernel/__main__.py:8: DataConversionWarning: Data with input dtype int64, float64 were all converted to float64 by StandardScaler.\n"
                },
                {
                    "name": "stdout",
                    "output_type": "stream",
                    "text": " - 0s - loss: 28.1922\nEpoch 2/50\n - 0s - loss: 28.1681\nEpoch 3/50\n - 0s - loss: 28.2448\nEpoch 4/50\n - 0s - loss: 28.1586\nEpoch 5/50\n - 0s - loss: 28.1844\nEpoch 6/50\n - 0s - loss: 28.1404\nEpoch 7/50\n - 0s - loss: 28.1720\nEpoch 8/50\n - 0s - loss: 28.2132\nEpoch 9/50\n - 0s - loss: 28.1888\nEpoch 10/50\n - 0s - loss: 28.1637\nEpoch 11/50\n - 1s - loss: 28.1477\nEpoch 12/50\n - 0s - loss: 28.1526\nEpoch 13/50\n - 1s - loss: 28.1421\nEpoch 14/50\n - 0s - loss: 28.1684\nEpoch 15/50\n - 0s - loss: 28.1561\nEpoch 16/50\n - 0s - loss: 28.1657\nEpoch 17/50\n - 0s - loss: 28.1733\nEpoch 18/50\n - 0s - loss: 28.1339\nEpoch 19/50\n - 0s - loss: 28.1428\nEpoch 20/50\n - 0s - loss: 28.1383\nEpoch 21/50\n - 0s - loss: 28.0809\nEpoch 22/50\n - 0s - loss: 28.1424\nEpoch 23/50\n - 0s - loss: 28.0860\nEpoch 24/50\n - 0s - loss: 28.1308\nEpoch 25/50\n - 0s - loss: 28.1159\nEpoch 26/50\n - 0s - loss: 28.0833\nEpoch 27/50\n - 0s - loss: 28.1639\nEpoch 28/50\n - 0s - loss: 28.1113\nEpoch 29/50\n - 1s - loss: 28.1096\nEpoch 30/50\n - 0s - loss: 28.1312\nEpoch 31/50\n - 0s - loss: 28.1147\nEpoch 32/50\n - 0s - loss: 28.0891\nEpoch 33/50\n - 0s - loss: 28.1595\nEpoch 34/50\n - 0s - loss: 28.0908\nEpoch 35/50\n - 0s - loss: 28.1489\nEpoch 36/50\n - 0s - loss: 28.1194\nEpoch 37/50\n - 0s - loss: 28.0962\nEpoch 38/50\n - 0s - loss: 28.0667\nEpoch 39/50\n - 0s - loss: 28.1256\nEpoch 40/50\n - 0s - loss: 28.1169\nEpoch 41/50\n - 0s - loss: 28.0925\nEpoch 42/50\n - 0s - loss: 28.1240\nEpoch 43/50\n - 0s - loss: 28.0970\nEpoch 44/50\n - 0s - loss: 28.0873\nEpoch 45/50\n - 0s - loss: 28.0460\nEpoch 46/50\n - 0s - loss: 28.0407\nEpoch 47/50\n - 0s - loss: 28.0773\nEpoch 48/50\n - 0s - loss: 28.0426\nEpoch 49/50\n - 0s - loss: 28.0637\nEpoch 50/50\n - 0s - loss: 28.0601\n309/309 [==============================] - 0s 662us/step\nEpoch 1/50\n"
                },
                {
                    "name": "stderr",
                    "output_type": "stream",
                    "text": "/opt/conda/envs/Python36/lib/python3.6/site-packages/sklearn/preprocessing/data.py:645: DataConversionWarning: Data with input dtype int64, float64 were all converted to float64 by StandardScaler.\n  return self.partial_fit(X, y)\n/opt/conda/envs/Python36/lib/python3.6/site-packages/sklearn/base.py:464: DataConversionWarning: Data with input dtype int64, float64 were all converted to float64 by StandardScaler.\n  return self.fit(X, **fit_params).transform(X)\n/opt/conda/envs/Python36/lib/python3.6/site-packages/ipykernel/__main__.py:8: DataConversionWarning: Data with input dtype int64, float64 were all converted to float64 by StandardScaler.\n"
                },
                {
                    "name": "stdout",
                    "output_type": "stream",
                    "text": " - 0s - loss: 28.0469\nEpoch 2/50\n - 0s - loss: 28.0250\nEpoch 3/50\n - 0s - loss: 28.0642\nEpoch 4/50\n - 0s - loss: 28.1055\nEpoch 5/50\n - 0s - loss: 28.0491\nEpoch 6/50\n - 0s - loss: 28.0276\nEpoch 7/50\n - 2s - loss: 28.0040\nEpoch 8/50\n - 0s - loss: 28.1940\nEpoch 9/50\n - 1s - loss: 28.0611\nEpoch 10/50\n - 0s - loss: 28.0332\nEpoch 11/50\n - 0s - loss: 28.0704\nEpoch 12/50\n - 0s - loss: 28.0224\nEpoch 13/50\n - 0s - loss: 28.0447\nEpoch 14/50\n - 0s - loss: 27.9954\nEpoch 15/50\n - 0s - loss: 28.0167\nEpoch 16/50\n - 0s - loss: 28.0221\nEpoch 17/50\n - 0s - loss: 28.0180\nEpoch 18/50\n - 0s - loss: 28.1006\nEpoch 19/50\n - 0s - loss: 28.0726\nEpoch 20/50\n - 1s - loss: 27.9539\nEpoch 21/50\n - 0s - loss: 27.9943\nEpoch 22/50\n - 0s - loss: 28.0046\nEpoch 23/50\n - 0s - loss: 28.0085\nEpoch 24/50\n - 0s - loss: 27.9942\nEpoch 25/50\n - 0s - loss: 28.0481\nEpoch 26/50\n - 0s - loss: 27.9914\nEpoch 27/50\n - 0s - loss: 27.9978\nEpoch 28/50\n - 0s - loss: 28.0285\nEpoch 29/50\n - 0s - loss: 28.0231\nEpoch 30/50\n - 0s - loss: 27.9998\nEpoch 31/50\n - 0s - loss: 27.9870\nEpoch 32/50\n - 0s - loss: 27.9494\nEpoch 33/50\n - 0s - loss: 27.9694\nEpoch 34/50\n - 0s - loss: 27.9325\nEpoch 35/50\n - 0s - loss: 28.0132\nEpoch 36/50\n - 0s - loss: 27.9640\nEpoch 37/50\n - 0s - loss: 28.0009\nEpoch 38/50\n - 0s - loss: 27.9495\nEpoch 39/50\n - 0s - loss: 27.9611\nEpoch 40/50\n - 0s - loss: 27.9329\nEpoch 41/50\n - 0s - loss: 27.9630\nEpoch 42/50\n - 0s - loss: 27.9086\nEpoch 43/50\n - 0s - loss: 27.9826\nEpoch 44/50\n - 0s - loss: 27.9740\nEpoch 45/50\n - 0s - loss: 27.9268\nEpoch 46/50\n - 0s - loss: 27.9557\nEpoch 47/50\n - 0s - loss: 27.9642\nEpoch 48/50\n - 0s - loss: 27.9090\nEpoch 49/50\n - 0s - loss: 27.9456\nEpoch 50/50\n - 0s - loss: 27.9106\n309/309 [==============================] - 0s 713us/step\nEpoch 1/50\n"
                },
                {
                    "name": "stderr",
                    "output_type": "stream",
                    "text": "/opt/conda/envs/Python36/lib/python3.6/site-packages/sklearn/preprocessing/data.py:645: DataConversionWarning: Data with input dtype int64, float64 were all converted to float64 by StandardScaler.\n  return self.partial_fit(X, y)\n/opt/conda/envs/Python36/lib/python3.6/site-packages/sklearn/base.py:464: DataConversionWarning: Data with input dtype int64, float64 were all converted to float64 by StandardScaler.\n  return self.fit(X, **fit_params).transform(X)\n/opt/conda/envs/Python36/lib/python3.6/site-packages/ipykernel/__main__.py:8: DataConversionWarning: Data with input dtype int64, float64 were all converted to float64 by StandardScaler.\n"
                },
                {
                    "name": "stdout",
                    "output_type": "stream",
                    "text": " - 1s - loss: 27.9640\nEpoch 2/50\n - 0s - loss: 27.9414\nEpoch 3/50\n - 1s - loss: 27.8923\nEpoch 4/50\n - 0s - loss: 27.9097\nEpoch 5/50\n - 0s - loss: 27.9345\nEpoch 6/50\n - 0s - loss: 27.9656\nEpoch 7/50\n - 0s - loss: 27.9818\nEpoch 8/50\n - 0s - loss: 27.8981\nEpoch 9/50\n - 0s - loss: 27.9045\nEpoch 10/50\n - 0s - loss: 27.9481\nEpoch 11/50\n - 0s - loss: 27.8620\nEpoch 12/50\n - 0s - loss: 27.8891\nEpoch 13/50\n - 0s - loss: 27.8941\nEpoch 14/50\n - 1s - loss: 27.9190\nEpoch 15/50\n - 0s - loss: 27.8514\nEpoch 16/50\n - 0s - loss: 27.8726\nEpoch 17/50\n - 0s - loss: 27.9166\nEpoch 18/50\n - 0s - loss: 27.8967\nEpoch 19/50\n - 0s - loss: 27.9071\nEpoch 20/50\n - 0s - loss: 27.8706\nEpoch 21/50\n - 0s - loss: 27.8220\nEpoch 22/50\n - 0s - loss: 27.8710\nEpoch 23/50\n - 0s - loss: 27.8493\nEpoch 24/50\n - 0s - loss: 27.8378\nEpoch 25/50\n - 0s - loss: 27.8450\nEpoch 26/50\n - 0s - loss: 27.8595\nEpoch 27/50\n - 0s - loss: 27.8969\nEpoch 28/50\n - 0s - loss: 27.8580\nEpoch 29/50\n - 0s - loss: 27.8738\nEpoch 30/50\n - 0s - loss: 27.8693\nEpoch 31/50\n - 0s - loss: 27.8368\nEpoch 32/50\n - 0s - loss: 27.8940\nEpoch 33/50\n - 0s - loss: 27.8698\nEpoch 34/50\n - 0s - loss: 27.8545\nEpoch 35/50\n - 0s - loss: 27.8464\nEpoch 36/50\n - 0s - loss: 27.8163\nEpoch 37/50\n - 0s - loss: 27.8338\nEpoch 38/50\n - 0s - loss: 27.8249\nEpoch 39/50\n - 0s - loss: 27.8280\nEpoch 40/50\n - 0s - loss: 27.8275\nEpoch 41/50\n - 0s - loss: 27.8229\nEpoch 42/50\n - 0s - loss: 27.8174\nEpoch 43/50\n - 0s - loss: 27.8664\nEpoch 44/50\n - 0s - loss: 27.8570\nEpoch 45/50\n - 0s - loss: 27.8090\nEpoch 46/50\n - 1s - loss: 27.8097\nEpoch 47/50\n - 0s - loss: 27.8272\nEpoch 48/50\n - 1s - loss: 27.8491\nEpoch 49/50\n - 0s - loss: 27.8219\nEpoch 50/50\n - 0s - loss: 27.9106\n309/309 [==============================] - 0s 578us/step\nEpoch 1/50\n - 0s - loss: 27.8064\n"
                },
                {
                    "name": "stderr",
                    "output_type": "stream",
                    "text": "/opt/conda/envs/Python36/lib/python3.6/site-packages/sklearn/preprocessing/data.py:645: DataConversionWarning: Data with input dtype int64, float64 were all converted to float64 by StandardScaler.\n  return self.partial_fit(X, y)\n/opt/conda/envs/Python36/lib/python3.6/site-packages/sklearn/base.py:464: DataConversionWarning: Data with input dtype int64, float64 were all converted to float64 by StandardScaler.\n  return self.fit(X, **fit_params).transform(X)\n/opt/conda/envs/Python36/lib/python3.6/site-packages/ipykernel/__main__.py:8: DataConversionWarning: Data with input dtype int64, float64 were all converted to float64 by StandardScaler.\n"
                },
                {
                    "name": "stdout",
                    "output_type": "stream",
                    "text": "Epoch 2/50\n - 0s - loss: 27.8115\nEpoch 3/50\n - 0s - loss: 27.8016\nEpoch 4/50\n - 0s - loss: 27.8542\nEpoch 5/50\n - 0s - loss: 27.7611\nEpoch 6/50\n - 0s - loss: 27.7920\nEpoch 7/50\n - 0s - loss: 27.7838\nEpoch 8/50\n - 0s - loss: 27.7944\nEpoch 9/50\n - 0s - loss: 27.8260\nEpoch 10/50\n - 0s - loss: 27.7768\nEpoch 11/50\n - 0s - loss: 27.8284\nEpoch 12/50\n - 0s - loss: 27.7943\nEpoch 13/50\n - 0s - loss: 27.7820\nEpoch 14/50\n - 0s - loss: 27.8017\nEpoch 15/50\n - 0s - loss: 27.8282\nEpoch 16/50\n - 0s - loss: 27.7633\nEpoch 17/50\n - 0s - loss: 27.7646\nEpoch 18/50\n - 1s - loss: 27.8134\nEpoch 19/50\n - 0s - loss: 27.7843\nEpoch 20/50\n - 0s - loss: 27.7224\nEpoch 21/50\n - 0s - loss: 27.7617\nEpoch 22/50\n - 0s - loss: 27.7429\nEpoch 23/50\n - 0s - loss: 27.7357\nEpoch 24/50\n - 0s - loss: 27.8003\nEpoch 25/50\n - 0s - loss: 27.7366\nEpoch 26/50\n - 0s - loss: 27.7441\nEpoch 27/50\n - 0s - loss: 27.7432\nEpoch 28/50\n - 0s - loss: 27.7711\nEpoch 29/50\n - 0s - loss: 27.7551\nEpoch 30/50\n - 0s - loss: 27.7012\nEpoch 31/50\n - 0s - loss: 27.7366\nEpoch 32/50\n - 0s - loss: 27.7578\nEpoch 33/50\n - 0s - loss: 27.8325\nEpoch 34/50\n - 0s - loss: 27.7290\nEpoch 35/50\n - 0s - loss: 27.7277\nEpoch 36/50\n - 0s - loss: 27.7564\nEpoch 37/50\n - 0s - loss: 27.7598\nEpoch 38/50\n - 0s - loss: 27.6733\nEpoch 39/50\n - 0s - loss: 27.7199\nEpoch 40/50\n - 0s - loss: 27.7232\nEpoch 41/50\n - 1s - loss: 27.7286\nEpoch 42/50\n - 0s - loss: 27.6969\nEpoch 43/50\n - 1s - loss: 27.7352\nEpoch 44/50\n - 0s - loss: 27.7697\nEpoch 45/50\n - 0s - loss: 27.7707\nEpoch 46/50\n - 0s - loss: 27.7751\nEpoch 47/50\n - 0s - loss: 27.7800\nEpoch 48/50\n - 0s - loss: 27.7395\nEpoch 49/50\n - 0s - loss: 27.6959\nEpoch 50/50\n - 0s - loss: 27.6911\n309/309 [==============================] - 0s 576us/step\nEpoch 1/50\n"
                },
                {
                    "name": "stderr",
                    "output_type": "stream",
                    "text": "/opt/conda/envs/Python36/lib/python3.6/site-packages/sklearn/preprocessing/data.py:645: DataConversionWarning: Data with input dtype int64, float64 were all converted to float64 by StandardScaler.\n  return self.partial_fit(X, y)\n/opt/conda/envs/Python36/lib/python3.6/site-packages/sklearn/base.py:464: DataConversionWarning: Data with input dtype int64, float64 were all converted to float64 by StandardScaler.\n  return self.fit(X, **fit_params).transform(X)\n/opt/conda/envs/Python36/lib/python3.6/site-packages/ipykernel/__main__.py:8: DataConversionWarning: Data with input dtype int64, float64 were all converted to float64 by StandardScaler.\n"
                },
                {
                    "name": "stdout",
                    "output_type": "stream",
                    "text": " - 0s - loss: 27.6949\nEpoch 2/50\n - 0s - loss: 27.6557\nEpoch 3/50\n - 0s - loss: 27.6688\nEpoch 4/50\n - 0s - loss: 27.7311\nEpoch 5/50\n - 0s - loss: 27.7213\nEpoch 6/50\n - 0s - loss: 27.6499\nEpoch 7/50\n - 0s - loss: 27.6865\nEpoch 8/50\n - 0s - loss: 27.6979\nEpoch 9/50\n - 0s - loss: 27.6469\nEpoch 10/50\n - 0s - loss: 27.7102\nEpoch 11/50\n - 0s - loss: 27.6647\nEpoch 12/50\n - 0s - loss: 27.7629\nEpoch 13/50\n - 0s - loss: 27.6499\nEpoch 14/50\n - 0s - loss: 27.6363\nEpoch 15/50\n - 0s - loss: 27.6727\nEpoch 16/50\n - 0s - loss: 27.6466\nEpoch 17/50\n - 0s - loss: 27.6792\nEpoch 18/50\n - 0s - loss: 27.7005\nEpoch 19/50\n - 0s - loss: 27.7004\nEpoch 20/50\n - 0s - loss: 27.6560\nEpoch 21/50\n - 0s - loss: 27.6028\nEpoch 22/50\n - 0s - loss: 27.6609\nEpoch 23/50\n - 0s - loss: 27.7032\nEpoch 24/50\n - 0s - loss: 27.6165\nEpoch 25/50\n - 0s - loss: 27.6701\nEpoch 26/50\n - 0s - loss: 27.6012\nEpoch 27/50\n - 0s - loss: 27.6641\nEpoch 28/50\n - 0s - loss: 27.6489\nEpoch 29/50\n - 1s - loss: 27.5979\nEpoch 30/50\n - 0s - loss: 27.6998\nEpoch 31/50\n - 0s - loss: 27.6283\nEpoch 32/50\n - 0s - loss: 27.7166\nEpoch 33/50\n - 0s - loss: 27.6046\nEpoch 34/50\n - 0s - loss: 27.6457\nEpoch 35/50\n - 1s - loss: 27.6257\nEpoch 36/50\n - 0s - loss: 27.5977\nEpoch 37/50\n - 1s - loss: 27.6498\nEpoch 38/50\n - 0s - loss: 27.6209\nEpoch 39/50\n - 0s - loss: 27.6478\nEpoch 40/50\n - 0s - loss: 27.6260\nEpoch 41/50\n - 0s - loss: 27.6156\nEpoch 42/50\n - 0s - loss: 27.6526\nEpoch 43/50\n - 0s - loss: 27.6230\nEpoch 44/50\n - 0s - loss: 27.5928\nEpoch 45/50\n - 0s - loss: 27.6679\nEpoch 46/50\n - 0s - loss: 27.5991\nEpoch 47/50\n - 0s - loss: 27.6019\nEpoch 48/50\n - 0s - loss: 27.6120\nEpoch 49/50\n - 0s - loss: 27.5965\nEpoch 50/50\n - 0s - loss: 27.6213\n309/309 [==============================] - 0s 641us/step\nEpoch 1/50\n"
                },
                {
                    "name": "stderr",
                    "output_type": "stream",
                    "text": "/opt/conda/envs/Python36/lib/python3.6/site-packages/sklearn/preprocessing/data.py:645: DataConversionWarning: Data with input dtype int64, float64 were all converted to float64 by StandardScaler.\n  return self.partial_fit(X, y)\n/opt/conda/envs/Python36/lib/python3.6/site-packages/sklearn/base.py:464: DataConversionWarning: Data with input dtype int64, float64 were all converted to float64 by StandardScaler.\n  return self.fit(X, **fit_params).transform(X)\n/opt/conda/envs/Python36/lib/python3.6/site-packages/ipykernel/__main__.py:8: DataConversionWarning: Data with input dtype int64, float64 were all converted to float64 by StandardScaler.\n"
                },
                {
                    "name": "stdout",
                    "output_type": "stream",
                    "text": " - 0s - loss: 27.5904\nEpoch 2/50\n - 0s - loss: 27.6495\nEpoch 3/50\n - 0s - loss: 27.6528\nEpoch 4/50\n - 0s - loss: 27.5929\nEpoch 5/50\n - 0s - loss: 27.6362\nEpoch 6/50\n - 0s - loss: 27.5534\nEpoch 7/50\n - 0s - loss: 27.5967\nEpoch 8/50\n - 0s - loss: 27.6336\nEpoch 9/50\n - 0s - loss: 27.5828\nEpoch 10/50\n - 0s - loss: 27.5980\nEpoch 11/50\n - 0s - loss: 27.5868\nEpoch 12/50\n - 0s - loss: 27.6077\nEpoch 13/50\n - 0s - loss: 27.5422\nEpoch 14/50\n - 0s - loss: 27.6331\nEpoch 15/50\n - 0s - loss: 27.5607\nEpoch 16/50\n - 0s - loss: 27.6121\nEpoch 17/50\n - 0s - loss: 27.6144\nEpoch 18/50\n - 0s - loss: 27.5412\nEpoch 19/50\n - 0s - loss: 27.6264\nEpoch 20/50\n - 0s - loss: 27.6082\nEpoch 21/50\n - 0s - loss: 27.5685\nEpoch 22/50\n - 0s - loss: 27.5404\nEpoch 23/50\n - 0s - loss: 27.5311\nEpoch 24/50\n - 0s - loss: 27.5314\nEpoch 25/50\n - 0s - loss: 27.5315\nEpoch 26/50\n - 0s - loss: 27.5323\nEpoch 27/50\n - 0s - loss: 27.5389\nEpoch 28/50\n - 0s - loss: 27.5097\nEpoch 29/50\n - 0s - loss: 27.5700\nEpoch 30/50\n - 0s - loss: 27.6045\nEpoch 31/50\n - 0s - loss: 27.5835\nEpoch 32/50\n - 1s - loss: 27.6234\nEpoch 33/50\n - 0s - loss: 27.5980\nEpoch 34/50\n - 1s - loss: 27.5003\nEpoch 35/50\n - 0s - loss: 27.5218\nEpoch 36/50\n - 0s - loss: 27.5553\nEpoch 37/50\n - 0s - loss: 27.5008\nEpoch 38/50\n - 0s - loss: 27.5080\nEpoch 39/50\n - 0s - loss: 27.5348\nEpoch 40/50\n - 0s - loss: 27.5137\nEpoch 41/50\n - 0s - loss: 27.4874\nEpoch 42/50\n - 0s - loss: 27.5176\nEpoch 43/50\n - 0s - loss: 27.5259\nEpoch 44/50\n - 1s - loss: 27.4808\nEpoch 45/50\n - 0s - loss: 27.5007\nEpoch 46/50\n - 0s - loss: 27.5701\nEpoch 47/50\n - 0s - loss: 27.5658\nEpoch 48/50\n - 0s - loss: 27.4831\nEpoch 49/50\n - 0s - loss: 27.4880\nEpoch 50/50\n - 0s - loss: 27.4667\n309/309 [==============================] - 0s 722us/step\nEpoch 1/50\n"
                },
                {
                    "name": "stderr",
                    "output_type": "stream",
                    "text": "/opt/conda/envs/Python36/lib/python3.6/site-packages/sklearn/preprocessing/data.py:645: DataConversionWarning: Data with input dtype int64, float64 were all converted to float64 by StandardScaler.\n  return self.partial_fit(X, y)\n/opt/conda/envs/Python36/lib/python3.6/site-packages/sklearn/base.py:464: DataConversionWarning: Data with input dtype int64, float64 were all converted to float64 by StandardScaler.\n  return self.fit(X, **fit_params).transform(X)\n/opt/conda/envs/Python36/lib/python3.6/site-packages/ipykernel/__main__.py:8: DataConversionWarning: Data with input dtype int64, float64 were all converted to float64 by StandardScaler.\n"
                },
                {
                    "name": "stdout",
                    "output_type": "stream",
                    "text": " - 0s - loss: 27.4930\nEpoch 2/50\n - 0s - loss: 27.5673\nEpoch 3/50\n - 0s - loss: 27.5657\nEpoch 4/50\n - 0s - loss: 27.5176\nEpoch 5/50\n - 0s - loss: 27.5068\nEpoch 6/50\n - 0s - loss: 27.4833\nEpoch 7/50\n - 0s - loss: 27.4814\nEpoch 8/50\n - 0s - loss: 27.4733\nEpoch 9/50\n - 0s - loss: 27.4766\nEpoch 10/50\n - 0s - loss: 27.5116\nEpoch 11/50\n - 0s - loss: 27.4600\nEpoch 12/50\n - 0s - loss: 27.4809\nEpoch 13/50\n - 0s - loss: 27.5006\nEpoch 14/50\n - 0s - loss: 27.4679\nEpoch 15/50\n - 0s - loss: 27.5279\nEpoch 16/50\n - 0s - loss: 27.4324\nEpoch 17/50\n - 0s - loss: 27.4583\nEpoch 18/50\n - 0s - loss: 27.5065\nEpoch 19/50\n - 0s - loss: 27.5309\nEpoch 20/50\n - 0s - loss: 27.5421\nEpoch 21/50\n - 0s - loss: 27.4654\nEpoch 22/50\n - 0s - loss: 27.4556\nEpoch 23/50\n - 0s - loss: 27.5054\nEpoch 24/50\n - 0s - loss: 27.5307\nEpoch 25/50\n - 1s - loss: 27.4532\nEpoch 26/50\n - 0s - loss: 27.4814\nEpoch 27/50\n - 1s - loss: 27.4566\nEpoch 28/50\n - 0s - loss: 27.4521\nEpoch 29/50\n - 0s - loss: 27.4643\nEpoch 30/50\n - 0s - loss: 27.4701\nEpoch 31/50\n - 0s - loss: 27.4404\nEpoch 32/50\n - 0s - loss: 27.4445\nEpoch 33/50\n - 0s - loss: 27.4971\nEpoch 34/50\n - 0s - loss: 27.4379\nEpoch 35/50\n - 0s - loss: 27.4269\nEpoch 36/50\n - 0s - loss: 27.4383\nEpoch 37/50\n - 0s - loss: 27.4597\nEpoch 38/50\n - 0s - loss: 27.5089\nEpoch 39/50\n - 0s - loss: 27.4791\nEpoch 40/50\n - 0s - loss: 27.4543\nEpoch 41/50\n - 0s - loss: 27.4740\nEpoch 42/50\n - 0s - loss: 27.4316\nEpoch 43/50\n - 0s - loss: 27.4346\nEpoch 44/50\n - 0s - loss: 27.4355\nEpoch 45/50\n - 0s - loss: 27.4184\nEpoch 46/50\n - 0s - loss: 27.4173\nEpoch 47/50\n - 0s - loss: 27.3974\nEpoch 48/50\n - 0s - loss: 27.4520\nEpoch 49/50\n - 0s - loss: 27.5040\nEpoch 50/50\n - 0s - loss: 27.5441\n309/309 [==============================] - 0s 586us/step\nEpoch 1/50\n - 0s - loss: 27.4166\nEpoch 2/50\n"
                },
                {
                    "name": "stderr",
                    "output_type": "stream",
                    "text": "/opt/conda/envs/Python36/lib/python3.6/site-packages/sklearn/preprocessing/data.py:645: DataConversionWarning: Data with input dtype int64, float64 were all converted to float64 by StandardScaler.\n  return self.partial_fit(X, y)\n/opt/conda/envs/Python36/lib/python3.6/site-packages/sklearn/base.py:464: DataConversionWarning: Data with input dtype int64, float64 were all converted to float64 by StandardScaler.\n  return self.fit(X, **fit_params).transform(X)\n/opt/conda/envs/Python36/lib/python3.6/site-packages/ipykernel/__main__.py:8: DataConversionWarning: Data with input dtype int64, float64 were all converted to float64 by StandardScaler.\n"
                },
                {
                    "name": "stdout",
                    "output_type": "stream",
                    "text": " - 0s - loss: 27.4267\nEpoch 3/50\n - 0s - loss: 27.4945\nEpoch 4/50\n - 0s - loss: 27.4578\nEpoch 5/50\n - 0s - loss: 27.3872\nEpoch 6/50\n - 0s - loss: 27.4524\nEpoch 7/50\n - 0s - loss: 27.4046\nEpoch 8/50\n - 0s - loss: 27.4252\nEpoch 9/50\n - 0s - loss: 27.5110\nEpoch 10/50\n - 0s - loss: 27.3639\nEpoch 11/50\n - 0s - loss: 27.4054\nEpoch 12/50\n - 0s - loss: 27.4492\nEpoch 13/50\n - 0s - loss: 27.5089\nEpoch 14/50\n - 1s - loss: 27.3718\nEpoch 15/50\n - 0s - loss: 27.3794\nEpoch 16/50\n - 0s - loss: 27.3538\nEpoch 17/50\n - 0s - loss: 27.4231\nEpoch 18/50\n - 0s - loss: 27.3962\nEpoch 19/50\n - 0s - loss: 27.4187\nEpoch 20/50\n - 1s - loss: 27.3834\nEpoch 21/50\n - 1s - loss: 27.3978\nEpoch 22/50\n - 0s - loss: 27.3850\nEpoch 23/50\n - 0s - loss: 27.3634\nEpoch 24/50\n - 0s - loss: 27.3455\nEpoch 25/50\n - 0s - loss: 27.4385\nEpoch 26/50\n - 0s - loss: 27.3535\nEpoch 27/50\n - 0s - loss: 27.3847\nEpoch 28/50\n - 0s - loss: 27.3487\nEpoch 29/50\n - 0s - loss: 27.3715\nEpoch 30/50\n - 0s - loss: 27.3481\nEpoch 31/50\n - 0s - loss: 27.3506\nEpoch 32/50\n - 0s - loss: 27.3494\nEpoch 33/50\n - 0s - loss: 27.3420\nEpoch 34/50\n - 0s - loss: 27.3303\nEpoch 35/50\n - 0s - loss: 27.3315\nEpoch 36/50\n - 0s - loss: 27.3723\nEpoch 37/50\n - 0s - loss: 27.4028\nEpoch 38/50\n - 0s - loss: 27.3735\nEpoch 39/50\n - 0s - loss: 27.3879\nEpoch 40/50\n - 0s - loss: 27.2988\nEpoch 41/50\n - 0s - loss: 27.3550\nEpoch 42/50\n - 0s - loss: 27.3679\nEpoch 43/50\n - 0s - loss: 27.3396\nEpoch 44/50\n - 0s - loss: 27.3523\nEpoch 45/50\n - 0s - loss: 27.3406\nEpoch 46/50\n - 0s - loss: 27.3879\nEpoch 47/50\n - 0s - loss: 27.2913\nEpoch 48/50\n - 0s - loss: 27.3400\nEpoch 49/50\n - 0s - loss: 27.3581\nEpoch 50/50\n - 0s - loss: 27.3561\n309/309 [==============================] - 0s 658us/step\nEpoch 1/50\n - 0s - loss: 27.3332\n"
                },
                {
                    "name": "stderr",
                    "output_type": "stream",
                    "text": "/opt/conda/envs/Python36/lib/python3.6/site-packages/sklearn/preprocessing/data.py:645: DataConversionWarning: Data with input dtype int64, float64 were all converted to float64 by StandardScaler.\n  return self.partial_fit(X, y)\n/opt/conda/envs/Python36/lib/python3.6/site-packages/sklearn/base.py:464: DataConversionWarning: Data with input dtype int64, float64 were all converted to float64 by StandardScaler.\n  return self.fit(X, **fit_params).transform(X)\n/opt/conda/envs/Python36/lib/python3.6/site-packages/ipykernel/__main__.py:8: DataConversionWarning: Data with input dtype int64, float64 were all converted to float64 by StandardScaler.\n"
                },
                {
                    "name": "stdout",
                    "output_type": "stream",
                    "text": "Epoch 2/50\n - 0s - loss: 27.3318\nEpoch 3/50\n - 0s - loss: 27.3332\nEpoch 4/50\n - 0s - loss: 27.3592\nEpoch 5/50\n - 0s - loss: 27.3959\nEpoch 6/50\n - 0s - loss: 27.3245\nEpoch 7/50\n - 0s - loss: 27.3292\nEpoch 8/50\n - 0s - loss: 27.3359\nEpoch 9/50\n - 0s - loss: 27.3579\nEpoch 10/50\n - 0s - loss: 27.3817\nEpoch 11/50\n - 0s - loss: 27.3053\nEpoch 12/50\n - 0s - loss: 27.3012\nEpoch 13/50\n - 0s - loss: 27.3469\nEpoch 14/50\n - 0s - loss: 27.3713\nEpoch 15/50\n - 0s - loss: 27.3329\nEpoch 16/50\n - 1s - loss: 27.2897\nEpoch 17/50\n - 0s - loss: 27.3170\nEpoch 18/50\n - 1s - loss: 27.2896\nEpoch 19/50\n - 0s - loss: 27.3121\nEpoch 20/50\n - 0s - loss: 27.3505\nEpoch 21/50\n - 0s - loss: 27.3227\nEpoch 22/50\n - 0s - loss: 27.2667\nEpoch 23/50\n - 0s - loss: 27.3363\nEpoch 24/50\n - 0s - loss: 27.2879\nEpoch 25/50\n - 0s - loss: 27.2426\nEpoch 26/50\n - 0s - loss: 27.3182\nEpoch 27/50\n - 0s - loss: 27.2997\nEpoch 28/50\n - 0s - loss: 27.2785\nEpoch 29/50\n - 0s - loss: 27.2674\nEpoch 30/50\n - 0s - loss: 27.3198\nEpoch 31/50\n - 0s - loss: 27.2586\nEpoch 32/50\n - 0s - loss: 27.2534\nEpoch 33/50\n - 0s - loss: 27.2709\nEpoch 34/50\n - 0s - loss: 27.2538\nEpoch 35/50\n - 0s - loss: 27.3014\nEpoch 36/50\n - 0s - loss: 27.2766\nEpoch 37/50\n - 0s - loss: 27.2830\nEpoch 38/50\n - 0s - loss: 27.2816\nEpoch 39/50\n - 0s - loss: 27.3255\nEpoch 40/50\n - 0s - loss: 27.2466\nEpoch 41/50\n - 0s - loss: 27.3435\nEpoch 42/50\n - 0s - loss: 27.2512\nEpoch 43/50\n - 0s - loss: 27.2890\nEpoch 44/50\n - 0s - loss: 27.2644\nEpoch 45/50\n - 0s - loss: 27.2661\nEpoch 46/50\n - 0s - loss: 27.2445\nEpoch 47/50\n - 0s - loss: 27.2588\nEpoch 48/50\n - 0s - loss: 27.2732\nEpoch 49/50\n - 0s - loss: 27.2646\nEpoch 50/50\n - 0s - loss: 27.2290\n309/309 [==============================] - 0s 645us/step\nEpoch 1/50\n - 0s - loss: 27.2332\nEpoch 2/50\n"
                },
                {
                    "name": "stderr",
                    "output_type": "stream",
                    "text": "/opt/conda/envs/Python36/lib/python3.6/site-packages/sklearn/preprocessing/data.py:645: DataConversionWarning: Data with input dtype int64, float64 were all converted to float64 by StandardScaler.\n  return self.partial_fit(X, y)\n/opt/conda/envs/Python36/lib/python3.6/site-packages/sklearn/base.py:464: DataConversionWarning: Data with input dtype int64, float64 were all converted to float64 by StandardScaler.\n  return self.fit(X, **fit_params).transform(X)\n/opt/conda/envs/Python36/lib/python3.6/site-packages/ipykernel/__main__.py:8: DataConversionWarning: Data with input dtype int64, float64 were all converted to float64 by StandardScaler.\n"
                },
                {
                    "name": "stdout",
                    "output_type": "stream",
                    "text": " - 0s - loss: 27.3205\nEpoch 3/50\n - 0s - loss: 27.2529\nEpoch 4/50\n - 0s - loss: 27.3582\nEpoch 5/50\n - 0s - loss: 27.3291\nEpoch 6/50\n - 0s - loss: 27.1971\nEpoch 7/50\n - 0s - loss: 27.2241\nEpoch 8/50\n - 0s - loss: 27.2375\nEpoch 9/50\n - 0s - loss: 27.3026\nEpoch 10/50\n - 0s - loss: 27.2533\nEpoch 11/50\n - 1s - loss: 27.2581\nEpoch 12/50\n - 0s - loss: 27.2853\nEpoch 13/50\n - 0s - loss: 27.2165\nEpoch 14/50\n - 1s - loss: 27.2354\nEpoch 15/50\n - 0s - loss: 27.2410\nEpoch 16/50\n - 0s - loss: 27.2152\nEpoch 17/50\n - 0s - loss: 27.1965\nEpoch 18/50\n - 0s - loss: 27.2307\nEpoch 19/50\n - 0s - loss: 27.2146\nEpoch 20/50\n - 0s - loss: 27.2144\nEpoch 21/50\n - 0s - loss: 27.2206\nEpoch 22/50\n - 0s - loss: 27.2673\nEpoch 23/50\n - 0s - loss: 27.2147\nEpoch 24/50\n - 0s - loss: 27.2622\nEpoch 25/50\n - 0s - loss: 27.2020\nEpoch 26/50\n - 0s - loss: 27.2435\nEpoch 27/50\n - 0s - loss: 27.1693\nEpoch 28/50\n - 0s - loss: 27.1783\nEpoch 29/50\n - 0s - loss: 27.2064\nEpoch 30/50\n - 0s - loss: 27.1835\nEpoch 31/50\n - 0s - loss: 27.2425\nEpoch 32/50\n - 0s - loss: 27.1895\nEpoch 33/50\n - 0s - loss: 27.2348\nEpoch 34/50\n - 0s - loss: 27.1992\nEpoch 35/50\n - 0s - loss: 27.1928\nEpoch 36/50\n - 0s - loss: 27.2155\nEpoch 37/50\n - 0s - loss: 27.2336\nEpoch 38/50\n - 0s - loss: 27.1747\nEpoch 39/50\n - 0s - loss: 27.2093\nEpoch 40/50\n - 0s - loss: 27.2655\nEpoch 41/50\n - 1s - loss: 27.1973\nEpoch 42/50\n - 0s - loss: 27.1852\nEpoch 43/50\n - 0s - loss: 27.1736\nEpoch 44/50\n - 0s - loss: 27.1464\nEpoch 45/50\n - 0s - loss: 27.1717\nEpoch 46/50\n - 0s - loss: 27.2063\nEpoch 47/50\n - 0s - loss: 27.1530\nEpoch 48/50\n - 0s - loss: 27.2068\nEpoch 49/50\n - 0s - loss: 27.1749\nEpoch 50/50\n - 0s - loss: 27.1422\n309/309 [==============================] - 0s 700us/step\nEpoch 1/50\n - 0s - loss: 27.1656\n"
                },
                {
                    "name": "stderr",
                    "output_type": "stream",
                    "text": "/opt/conda/envs/Python36/lib/python3.6/site-packages/sklearn/preprocessing/data.py:645: DataConversionWarning: Data with input dtype int64, float64 were all converted to float64 by StandardScaler.\n  return self.partial_fit(X, y)\n/opt/conda/envs/Python36/lib/python3.6/site-packages/sklearn/base.py:464: DataConversionWarning: Data with input dtype int64, float64 were all converted to float64 by StandardScaler.\n  return self.fit(X, **fit_params).transform(X)\n/opt/conda/envs/Python36/lib/python3.6/site-packages/ipykernel/__main__.py:8: DataConversionWarning: Data with input dtype int64, float64 were all converted to float64 by StandardScaler.\n"
                },
                {
                    "name": "stdout",
                    "output_type": "stream",
                    "text": "Epoch 2/50\n - 0s - loss: 27.1642\nEpoch 3/50\n - 0s - loss: 27.1645\nEpoch 4/50\n - 0s - loss: 27.1742\nEpoch 5/50\n - 1s - loss: 27.1938\nEpoch 6/50\n - 0s - loss: 27.1893\nEpoch 7/50\n - 1s - loss: 27.2040\nEpoch 8/50\n - 0s - loss: 27.1298\nEpoch 9/50\n - 0s - loss: 27.1536\nEpoch 10/50\n - 0s - loss: 27.1553\nEpoch 11/50\n - 0s - loss: 27.2050\nEpoch 12/50\n - 0s - loss: 27.1697\nEpoch 13/50\n - 0s - loss: 27.1836\nEpoch 14/50\n - 0s - loss: 27.1839\nEpoch 15/50\n - 0s - loss: 27.1490\nEpoch 16/50\n - 0s - loss: 27.1866\nEpoch 17/50\n - 0s - loss: 27.1533\nEpoch 18/50\n - 0s - loss: 27.1215\nEpoch 19/50\n - 0s - loss: 27.1522\nEpoch 20/50\n - 0s - loss: 27.1400\nEpoch 21/50\n - 0s - loss: 27.1305\nEpoch 22/50\n - 0s - loss: 27.1407\nEpoch 23/50\n - 0s - loss: 27.1672\nEpoch 24/50\n - 0s - loss: 27.1447\nEpoch 25/50\n - 0s - loss: 27.1131\nEpoch 26/50\n - 0s - loss: 27.1680\nEpoch 27/50\n - 0s - loss: 27.1211\nEpoch 28/50\n - 0s - loss: 27.1238\nEpoch 29/50\n - 0s - loss: 27.2414\nEpoch 30/50\n - 0s - loss: 27.1541\nEpoch 31/50\n - 0s - loss: 27.1416\nEpoch 32/50\n - 0s - loss: 27.1426\nEpoch 33/50\n - 0s - loss: 27.1362\nEpoch 34/50\n - 0s - loss: 27.1301\nEpoch 35/50\n - 0s - loss: 27.1844\nEpoch 36/50\n - 0s - loss: 27.1477\nEpoch 37/50\n - 0s - loss: 27.2503\nEpoch 38/50\n - 0s - loss: 27.1111\nEpoch 39/50\n - 0s - loss: 27.1503\nEpoch 40/50\n - 0s - loss: 27.1151\nEpoch 41/50\n - 0s - loss: 27.1506\nEpoch 42/50\n - 0s - loss: 27.0970\nEpoch 43/50\n - 0s - loss: 27.1005\nEpoch 44/50\n - 0s - loss: 27.0858\nEpoch 45/50\n - 0s - loss: 27.0852\nEpoch 46/50\n - 0s - loss: 27.1023\nEpoch 47/50\n - 0s - loss: 27.1307\nEpoch 48/50\n - 0s - loss: 27.0720\nEpoch 49/50\n - 0s - loss: 27.0925\nEpoch 50/50\n - 0s - loss: 27.0565\n309/309 [==============================] - 2s 8ms/step\nEpoch 1/50\n"
                },
                {
                    "name": "stderr",
                    "output_type": "stream",
                    "text": "/opt/conda/envs/Python36/lib/python3.6/site-packages/sklearn/preprocessing/data.py:645: DataConversionWarning: Data with input dtype int64, float64 were all converted to float64 by StandardScaler.\n  return self.partial_fit(X, y)\n/opt/conda/envs/Python36/lib/python3.6/site-packages/sklearn/base.py:464: DataConversionWarning: Data with input dtype int64, float64 were all converted to float64 by StandardScaler.\n  return self.fit(X, **fit_params).transform(X)\n/opt/conda/envs/Python36/lib/python3.6/site-packages/ipykernel/__main__.py:8: DataConversionWarning: Data with input dtype int64, float64 were all converted to float64 by StandardScaler.\n"
                },
                {
                    "name": "stdout",
                    "output_type": "stream",
                    "text": " - 0s - loss: 27.1078\nEpoch 2/50\n - 0s - loss: 27.0515\nEpoch 3/50\n - 0s - loss: 27.1212\nEpoch 4/50\n - 0s - loss: 27.0394\nEpoch 5/50\n - 0s - loss: 27.0960\nEpoch 6/50\n - 0s - loss: 27.0615\nEpoch 7/50\n - 0s - loss: 27.1050\nEpoch 8/50\n - 0s - loss: 27.0658\nEpoch 9/50\n - 0s - loss: 27.0495\nEpoch 10/50\n - 0s - loss: 27.0672\nEpoch 11/50\n - 0s - loss: 27.0517\nEpoch 12/50\n - 0s - loss: 27.1225\nEpoch 13/50\n - 0s - loss: 27.0580\nEpoch 14/50\n - 0s - loss: 27.0802\nEpoch 15/50\n - 0s - loss: 27.0695\nEpoch 16/50\n - 0s - loss: 27.1222\nEpoch 17/50\n - 0s - loss: 27.1073\nEpoch 18/50\n - 0s - loss: 27.0476\nEpoch 19/50\n - 0s - loss: 27.0621\nEpoch 20/50\n - 0s - loss: 27.0646\nEpoch 21/50\n - 0s - loss: 27.0303\nEpoch 22/50\n - 0s - loss: 27.0224\nEpoch 23/50\n - 0s - loss: 27.0794\nEpoch 24/50\n - 0s - loss: 27.0286\nEpoch 25/50\n - 0s - loss: 27.0550\nEpoch 26/50\n - 0s - loss: 26.9923\nEpoch 27/50\n - 0s - loss: 27.0760\nEpoch 28/50\n - 0s - loss: 27.0403\nEpoch 29/50\n - 0s - loss: 27.0371\nEpoch 30/50\n - 0s - loss: 27.0301\nEpoch 31/50\n - 0s - loss: 27.0014\nEpoch 32/50\n - 0s - loss: 27.0287\nEpoch 33/50\n - 0s - loss: 27.0949\nEpoch 34/50\n - 0s - loss: 26.9946\nEpoch 35/50\n - 0s - loss: 26.9913\nEpoch 36/50\n - 0s - loss: 27.0105\nEpoch 37/50\n - 0s - loss: 27.0161\nEpoch 38/50\n - 0s - loss: 27.0012\nEpoch 39/50\n - 0s - loss: 26.9981\nEpoch 40/50\n - 0s - loss: 26.9939\nEpoch 41/50\n - 0s - loss: 27.0496\nEpoch 42/50\n - 0s - loss: 27.0486\nEpoch 43/50\n - 0s - loss: 27.0009\nEpoch 44/50\n - 0s - loss: 26.9991\nEpoch 45/50\n - 0s - loss: 27.0164\nEpoch 46/50\n - 1s - loss: 27.0220\nEpoch 47/50\n - 0s - loss: 26.9652\nEpoch 48/50\n - 1s - loss: 27.0017\nEpoch 49/50\n - 0s - loss: 26.9792\nEpoch 50/50\n - 0s - loss: 26.9870\n309/309 [==============================] - 0s 576us/step\nEpoch 1/50\n"
                },
                {
                    "name": "stderr",
                    "output_type": "stream",
                    "text": "/opt/conda/envs/Python36/lib/python3.6/site-packages/sklearn/preprocessing/data.py:645: DataConversionWarning: Data with input dtype int64, float64 were all converted to float64 by StandardScaler.\n  return self.partial_fit(X, y)\n/opt/conda/envs/Python36/lib/python3.6/site-packages/sklearn/base.py:464: DataConversionWarning: Data with input dtype int64, float64 were all converted to float64 by StandardScaler.\n  return self.fit(X, **fit_params).transform(X)\n/opt/conda/envs/Python36/lib/python3.6/site-packages/ipykernel/__main__.py:8: DataConversionWarning: Data with input dtype int64, float64 were all converted to float64 by StandardScaler.\n"
                },
                {
                    "name": "stdout",
                    "output_type": "stream",
                    "text": " - 0s - loss: 27.0124\nEpoch 2/50\n - 0s - loss: 26.9953\nEpoch 3/50\n - 0s - loss: 27.0063\nEpoch 4/50\n - 0s - loss: 26.9826\nEpoch 5/50\n - 0s - loss: 26.9924\nEpoch 6/50\n - 0s - loss: 27.0658\nEpoch 7/50\n - 0s - loss: 26.9909\nEpoch 8/50\n - 0s - loss: 27.0093\nEpoch 9/50\n - 0s - loss: 26.9607\nEpoch 10/50\n - 0s - loss: 26.9828\nEpoch 11/50\n - 0s - loss: 26.9806\nEpoch 12/50\n - 0s - loss: 26.9874\nEpoch 13/50\n - 1s - loss: 26.9835\nEpoch 14/50\n - 0s - loss: 26.9778\nEpoch 15/50\n - 0s - loss: 26.9985\nEpoch 16/50\n - 0s - loss: 26.9249\nEpoch 17/50\n - 0s - loss: 26.9905\nEpoch 18/50\n - 0s - loss: 26.9675\nEpoch 19/50\n - 0s - loss: 27.0788\nEpoch 20/50\n - 0s - loss: 26.9402\nEpoch 21/50\n - 0s - loss: 26.9640\nEpoch 22/50\n - 0s - loss: 26.9581\nEpoch 23/50\n - 0s - loss: 26.9165\nEpoch 24/50\n - 0s - loss: 26.9405\nEpoch 25/50\n - 0s - loss: 26.9284\nEpoch 26/50\n - 0s - loss: 27.0008\nEpoch 27/50\n - 0s - loss: 26.9329\nEpoch 28/50\n - 0s - loss: 26.9449\nEpoch 29/50\n - 0s - loss: 26.9823\nEpoch 30/50\n - 0s - loss: 26.9491\nEpoch 31/50\n - 0s - loss: 26.9610\nEpoch 32/50\n - 0s - loss: 26.9890\nEpoch 33/50\n - 0s - loss: 26.9670\nEpoch 34/50\n - 0s - loss: 26.9954\nEpoch 35/50\n - 0s - loss: 26.8969\nEpoch 36/50\n - 0s - loss: 26.9378\nEpoch 37/50\n - 0s - loss: 26.9410\nEpoch 38/50\n - 0s - loss: 26.9482\nEpoch 39/50\n - 0s - loss: 26.9111\nEpoch 40/50\n - 1s - loss: 26.9426\nEpoch 41/50\n - 0s - loss: 26.9045\nEpoch 42/50\n - 1s - loss: 26.9812\nEpoch 43/50\n - 0s - loss: 26.9386\nEpoch 44/50\n - 0s - loss: 26.8935\nEpoch 45/50\n - 0s - loss: 26.9113\nEpoch 46/50\n - 0s - loss: 26.9286\nEpoch 47/50\n - 0s - loss: 26.9066\nEpoch 48/50\n - 0s - loss: 26.9938\nEpoch 49/50\n - 0s - loss: 26.9261\nEpoch 50/50\n - 0s - loss: 26.9099\n309/309 [==============================] - 0s 584us/step\nEpoch 1/50\n"
                },
                {
                    "name": "stderr",
                    "output_type": "stream",
                    "text": "/opt/conda/envs/Python36/lib/python3.6/site-packages/sklearn/preprocessing/data.py:645: DataConversionWarning: Data with input dtype int64, float64 were all converted to float64 by StandardScaler.\n  return self.partial_fit(X, y)\n/opt/conda/envs/Python36/lib/python3.6/site-packages/sklearn/base.py:464: DataConversionWarning: Data with input dtype int64, float64 were all converted to float64 by StandardScaler.\n  return self.fit(X, **fit_params).transform(X)\n/opt/conda/envs/Python36/lib/python3.6/site-packages/ipykernel/__main__.py:8: DataConversionWarning: Data with input dtype int64, float64 were all converted to float64 by StandardScaler.\n"
                },
                {
                    "name": "stdout",
                    "output_type": "stream",
                    "text": " - 0s - loss: 26.9257\nEpoch 2/50\n - 0s - loss: 26.8849\nEpoch 3/50\n - 0s - loss: 26.8836\nEpoch 4/50\n - 0s - loss: 26.8904\nEpoch 5/50\n - 0s - loss: 26.9116\nEpoch 6/50\n - 0s - loss: 26.9217\nEpoch 7/50\n - 0s - loss: 26.9330\nEpoch 8/50\n - 0s - loss: 26.8579\nEpoch 9/50\n - 0s - loss: 26.9490\nEpoch 10/50\n - 0s - loss: 26.8602\nEpoch 11/50\n - 0s - loss: 26.8823\nEpoch 12/50\n - 0s - loss: 26.8618\nEpoch 13/50\n - 0s - loss: 26.8965\nEpoch 14/50\n - 0s - loss: 26.8889\nEpoch 15/50\n - 0s - loss: 26.9164\nEpoch 16/50\n - 0s - loss: 26.9192\nEpoch 17/50\n - 0s - loss: 26.8869\nEpoch 18/50\n - 0s - loss: 26.9282\nEpoch 19/50\n - 0s - loss: 26.9916\nEpoch 20/50\n - 0s - loss: 26.9123\nEpoch 21/50\n - 0s - loss: 26.8973\nEpoch 22/50\n - 0s - loss: 26.9029\nEpoch 23/50\n - 0s - loss: 26.9161\nEpoch 24/50\n - 0s - loss: 26.9993\nEpoch 25/50\n - 0s - loss: 26.8628\nEpoch 26/50\n - 0s - loss: 26.8681\nEpoch 27/50\n - 0s - loss: 26.9146\nEpoch 28/50\n - 0s - loss: 26.8511\nEpoch 29/50\n - 0s - loss: 26.9608\nEpoch 30/50\n - 0s - loss: 26.8304\nEpoch 31/50\n - 0s - loss: 26.8770\nEpoch 32/50\n - 0s - loss: 26.8739\nEpoch 33/50\n - 0s - loss: 26.8584\nEpoch 34/50\n - 0s - loss: 26.8735\nEpoch 35/50\n - 0s - loss: 26.8649\nEpoch 36/50\n - 1s - loss: 26.8868\nEpoch 37/50\n - 0s - loss: 26.9026\nEpoch 38/50\n - 1s - loss: 26.8734\nEpoch 39/50\n - 0s - loss: 26.8882\nEpoch 40/50\n - 0s - loss: 26.8135\nEpoch 41/50\n - 0s - loss: 26.9128\nEpoch 42/50\n - 0s - loss: 26.8401\nEpoch 43/50\n - 0s - loss: 26.7981\nEpoch 44/50\n - 0s - loss: 26.8606\nEpoch 45/50\n - 0s - loss: 26.8693\nEpoch 46/50\n - 0s - loss: 26.8479\nEpoch 47/50\n - 0s - loss: 26.8453\nEpoch 48/50\n - 0s - loss: 26.8864\nEpoch 49/50\n - 0s - loss: 26.8166\nEpoch 50/50\n - 0s - loss: 26.8587\n309/309 [==============================] - 0s 702us/step\nEpoch 1/50\n - 0s - loss: 26.8242\n"
                },
                {
                    "name": "stderr",
                    "output_type": "stream",
                    "text": "/opt/conda/envs/Python36/lib/python3.6/site-packages/sklearn/preprocessing/data.py:645: DataConversionWarning: Data with input dtype int64, float64 were all converted to float64 by StandardScaler.\n  return self.partial_fit(X, y)\n/opt/conda/envs/Python36/lib/python3.6/site-packages/sklearn/base.py:464: DataConversionWarning: Data with input dtype int64, float64 were all converted to float64 by StandardScaler.\n  return self.fit(X, **fit_params).transform(X)\n/opt/conda/envs/Python36/lib/python3.6/site-packages/ipykernel/__main__.py:8: DataConversionWarning: Data with input dtype int64, float64 were all converted to float64 by StandardScaler.\n"
                },
                {
                    "name": "stdout",
                    "output_type": "stream",
                    "text": "Epoch 2/50\n - 0s - loss: 26.8275\nEpoch 3/50\n - 0s - loss: 26.8773\nEpoch 4/50\n - 0s - loss: 26.8209\nEpoch 5/50\n - 0s - loss: 26.8116\nEpoch 6/50\n - 0s - loss: 26.9230\nEpoch 7/50\n - 0s - loss: 26.8458\nEpoch 8/50\n - 0s - loss: 26.8646\nEpoch 9/50\n - 0s - loss: 26.8348\nEpoch 10/50\n - 0s - loss: 26.8781\nEpoch 11/50\n - 0s - loss: 26.8170\nEpoch 12/50\n - 0s - loss: 26.9876\nEpoch 13/50\n - 0s - loss: 26.8161\nEpoch 14/50\n - 0s - loss: 26.8204\nEpoch 15/50\n - 0s - loss: 26.8253\nEpoch 16/50\n - 0s - loss: 26.8337\nEpoch 17/50\n - 0s - loss: 26.8348\nEpoch 18/50\n - 0s - loss: 26.8739\nEpoch 19/50\n - 0s - loss: 26.8443\nEpoch 20/50\n - 0s - loss: 26.8060\nEpoch 21/50\n - 0s - loss: 26.7956\nEpoch 22/50\n - 0s - loss: 26.8564\nEpoch 23/50\n - 0s - loss: 26.8058\nEpoch 24/50\n - 0s - loss: 26.8112\nEpoch 25/50\n - 0s - loss: 26.8329\nEpoch 26/50\n - 0s - loss: 26.8088\nEpoch 27/50\n - 0s - loss: 26.8348\nEpoch 28/50\n - 0s - loss: 26.8139\nEpoch 29/50\n - 0s - loss: 26.8039\nEpoch 30/50\n - 0s - loss: 26.8217\nEpoch 31/50\n - 0s - loss: 26.8049\nEpoch 32/50\n - 2s - loss: 26.7892\nEpoch 33/50\n - 1s - loss: 26.7681\nEpoch 34/50\n - 0s - loss: 26.8081\nEpoch 35/50\n - 0s - loss: 26.7809\nEpoch 36/50\n - 0s - loss: 26.7926\nEpoch 37/50\n - 0s - loss: 26.7876\nEpoch 38/50\n - 0s - loss: 26.7743\nEpoch 39/50\n - 0s - loss: 26.7964\nEpoch 40/50\n - 0s - loss: 26.8267\nEpoch 41/50\n - 0s - loss: 26.7978\nEpoch 42/50\n - 0s - loss: 26.7974\nEpoch 43/50\n - 0s - loss: 26.7713\nEpoch 44/50\n - 0s - loss: 26.7933\nEpoch 45/50\n - 0s - loss: 26.7874\nEpoch 46/50\n - 0s - loss: 26.7856\nEpoch 47/50\n - 0s - loss: 26.8007\nEpoch 48/50\n - 0s - loss: 26.7700\nEpoch 49/50\n - 0s - loss: 26.7887\nEpoch 50/50\n - 0s - loss: 26.7697\n309/309 [==============================] - 0s 646us/step\nEpoch 1/50\n"
                },
                {
                    "name": "stderr",
                    "output_type": "stream",
                    "text": "/opt/conda/envs/Python36/lib/python3.6/site-packages/sklearn/preprocessing/data.py:645: DataConversionWarning: Data with input dtype int64, float64 were all converted to float64 by StandardScaler.\n  return self.partial_fit(X, y)\n/opt/conda/envs/Python36/lib/python3.6/site-packages/sklearn/base.py:464: DataConversionWarning: Data with input dtype int64, float64 were all converted to float64 by StandardScaler.\n  return self.fit(X, **fit_params).transform(X)\n/opt/conda/envs/Python36/lib/python3.6/site-packages/ipykernel/__main__.py:8: DataConversionWarning: Data with input dtype int64, float64 were all converted to float64 by StandardScaler.\n"
                },
                {
                    "name": "stdout",
                    "output_type": "stream",
                    "text": " - 0s - loss: 26.7966\nEpoch 2/50\n - 0s - loss: 26.7983\nEpoch 3/50\n - 0s - loss: 26.7520\nEpoch 4/50\n - 0s - loss: 26.7966\nEpoch 5/50\n - 0s - loss: 26.7719\nEpoch 6/50\n - 0s - loss: 26.7507\nEpoch 7/50\n - 0s - loss: 26.8071\nEpoch 8/50\n - 0s - loss: 26.7475\nEpoch 9/50\n - 0s - loss: 26.7182\nEpoch 10/50\n - 0s - loss: 26.7778\nEpoch 11/50\n - 0s - loss: 26.7334\nEpoch 12/50\n - 0s - loss: 26.7406\nEpoch 13/50\n - 0s - loss: 26.7193\nEpoch 14/50\n - 0s - loss: 26.7692\nEpoch 15/50\n - 0s - loss: 26.7509\nEpoch 16/50\n - 0s - loss: 26.8003\nEpoch 17/50\n - 0s - loss: 26.7693\nEpoch 18/50\n - 0s - loss: 26.7283\nEpoch 19/50\n - 0s - loss: 26.7420\nEpoch 20/50\n - 0s - loss: 26.7718\nEpoch 21/50\n - 0s - loss: 26.7520\nEpoch 22/50\n - 0s - loss: 26.7184\nEpoch 23/50\n - 0s - loss: 26.7163\nEpoch 24/50\n - 0s - loss: 26.7286\nEpoch 25/50\n - 0s - loss: 26.7679\nEpoch 26/50\n - 0s - loss: 26.6918\nEpoch 27/50\n - 1s - loss: 26.6856\nEpoch 28/50\n - 0s - loss: 26.6995\nEpoch 29/50\n - 1s - loss: 26.6897\nEpoch 30/50\n - 0s - loss: 26.7171\nEpoch 31/50\n - 0s - loss: 26.7204\nEpoch 32/50\n - 0s - loss: 26.7220\nEpoch 33/50\n - 0s - loss: 26.7044\nEpoch 34/50\n - 0s - loss: 26.6870\nEpoch 35/50\n - 0s - loss: 26.7052\nEpoch 36/50\n - 0s - loss: 26.7103\nEpoch 37/50\n - 0s - loss: 26.7638\nEpoch 38/50\n - 0s - loss: 26.8240\nEpoch 39/50\n - 0s - loss: 26.7500\nEpoch 40/50\n - 0s - loss: 26.7010\nEpoch 41/50\n - 0s - loss: 26.6740\nEpoch 42/50\n - 0s - loss: 26.6875\nEpoch 43/50\n - 1s - loss: 26.6821\nEpoch 44/50\n - 0s - loss: 26.6609\nEpoch 45/50\n - 0s - loss: 26.6808\nEpoch 46/50\n - 0s - loss: 26.6497\nEpoch 47/50\n - 0s - loss: 26.6953\nEpoch 48/50\n - 0s - loss: 26.6958\nEpoch 49/50\n - 0s - loss: 26.6969\nEpoch 50/50\n - 0s - loss: 26.6445\n309/309 [==============================] - 0s 578us/step\nEpoch 1/50\n"
                },
                {
                    "name": "stderr",
                    "output_type": "stream",
                    "text": "/opt/conda/envs/Python36/lib/python3.6/site-packages/sklearn/preprocessing/data.py:645: DataConversionWarning: Data with input dtype int64, float64 were all converted to float64 by StandardScaler.\n  return self.partial_fit(X, y)\n/opt/conda/envs/Python36/lib/python3.6/site-packages/sklearn/base.py:464: DataConversionWarning: Data with input dtype int64, float64 were all converted to float64 by StandardScaler.\n  return self.fit(X, **fit_params).transform(X)\n/opt/conda/envs/Python36/lib/python3.6/site-packages/ipykernel/__main__.py:8: DataConversionWarning: Data with input dtype int64, float64 were all converted to float64 by StandardScaler.\n"
                },
                {
                    "name": "stdout",
                    "output_type": "stream",
                    "text": " - 0s - loss: 26.6878\nEpoch 2/50\n - 0s - loss: 26.7146\nEpoch 3/50\n - 0s - loss: 26.7235\nEpoch 4/50\n - 0s - loss: 26.6635\nEpoch 5/50\n - 0s - loss: 26.6761\nEpoch 6/50\n - 0s - loss: 26.6553\nEpoch 7/50\n - 0s - loss: 26.7270\nEpoch 8/50\n - 0s - loss: 26.6621\nEpoch 9/50\n - 0s - loss: 26.6277\nEpoch 10/50\n - 0s - loss: 26.6034\nEpoch 11/50\n - 0s - loss: 26.7045\nEpoch 12/50\n - 0s - loss: 26.6242\nEpoch 13/50\n - 0s - loss: 26.6058\nEpoch 14/50\n - 0s - loss: 26.6260\nEpoch 15/50\n - 0s - loss: 26.6282\nEpoch 16/50\n - 0s - loss: 26.6781\nEpoch 17/50\n - 0s - loss: 26.6756\nEpoch 18/50\n - 0s - loss: 26.6494\nEpoch 19/50\n - 0s - loss: 26.6425\nEpoch 20/50\n - 0s - loss: 26.5902\nEpoch 21/50\n - 0s - loss: 26.6209\nEpoch 22/50\n - 1s - loss: 26.6040\nEpoch 23/50\n - 0s - loss: 26.6211\nEpoch 24/50\n - 1s - loss: 26.5738\nEpoch 25/50\n - 0s - loss: 26.5860\nEpoch 26/50\n - 0s - loss: 26.6192\nEpoch 27/50\n - 0s - loss: 26.5867\nEpoch 28/50\n - 0s - loss: 26.6158\nEpoch 29/50\n - 0s - loss: 26.6628\nEpoch 30/50\n - 0s - loss: 26.6100\nEpoch 31/50\n - 0s - loss: 26.6467\nEpoch 32/50\n - 0s - loss: 26.5514\nEpoch 33/50\n - 0s - loss: 26.5589\nEpoch 34/50\n - 0s - loss: 26.5967\nEpoch 35/50\n - 0s - loss: 26.5889\nEpoch 36/50\n - 0s - loss: 26.5993\nEpoch 37/50\n - 0s - loss: 26.5473\nEpoch 38/50\n - 0s - loss: 26.5575\nEpoch 39/50\n - 0s - loss: 26.5893\nEpoch 40/50\n - 0s - loss: 26.5391\nEpoch 41/50\n - 0s - loss: 26.6616\nEpoch 42/50\n - 0s - loss: 26.5974\nEpoch 43/50\n - 0s - loss: 26.5635\nEpoch 44/50\n - 0s - loss: 26.5534\nEpoch 45/50\n - 0s - loss: 26.5535\nEpoch 46/50\n - 0s - loss: 26.6193\nEpoch 47/50\n - 0s - loss: 26.5282\nEpoch 48/50\n - 0s - loss: 26.5046\nEpoch 49/50\n - 0s - loss: 26.5606\nEpoch 50/50\n - 0s - loss: 26.5336\n309/309 [==============================] - 1s 2ms/step\nEpoch 1/50\n"
                },
                {
                    "name": "stderr",
                    "output_type": "stream",
                    "text": "/opt/conda/envs/Python36/lib/python3.6/site-packages/sklearn/preprocessing/data.py:645: DataConversionWarning: Data with input dtype int64, float64 were all converted to float64 by StandardScaler.\n  return self.partial_fit(X, y)\n/opt/conda/envs/Python36/lib/python3.6/site-packages/sklearn/base.py:464: DataConversionWarning: Data with input dtype int64, float64 were all converted to float64 by StandardScaler.\n  return self.fit(X, **fit_params).transform(X)\n/opt/conda/envs/Python36/lib/python3.6/site-packages/ipykernel/__main__.py:8: DataConversionWarning: Data with input dtype int64, float64 were all converted to float64 by StandardScaler.\n"
                },
                {
                    "name": "stdout",
                    "output_type": "stream",
                    "text": " - 0s - loss: 26.5079\nEpoch 2/50\n - 0s - loss: 26.6196\nEpoch 3/50\n - 0s - loss: 26.4843\nEpoch 4/50\n - 0s - loss: 26.5058\nEpoch 5/50\n - 0s - loss: 26.5160\nEpoch 6/50\n - 0s - loss: 26.5701\nEpoch 7/50\n - 0s - loss: 26.4979\nEpoch 8/50\n - 0s - loss: 26.4921\nEpoch 9/50\n - 0s - loss: 26.5349\nEpoch 10/50\n - 0s - loss: 26.4758\nEpoch 11/50\n - 0s - loss: 26.4896\nEpoch 12/50\n - 0s - loss: 26.5268\nEpoch 13/50\n - 0s - loss: 26.5382\nEpoch 14/50\n - 0s - loss: 26.5906\nEpoch 15/50\n - 1s - loss: 26.5496\nEpoch 16/50\n - 0s - loss: 26.5254\nEpoch 17/50\n - 0s - loss: 26.4695\nEpoch 18/50\n - 0s - loss: 26.5028\nEpoch 19/50\n - 0s - loss: 26.5004\nEpoch 20/50\n - 0s - loss: 26.5144\nEpoch 21/50\n - 0s - loss: 26.4908\nEpoch 22/50\n - 1s - loss: 26.4960\nEpoch 23/50\n - 0s - loss: 26.5362\nEpoch 24/50\n - 0s - loss: 26.4638\nEpoch 25/50\n - 0s - loss: 26.4881\nEpoch 26/50\n - 0s - loss: 26.5174\nEpoch 27/50\n - 0s - loss: 26.5052\nEpoch 28/50\n - 0s - loss: 26.4574\nEpoch 29/50\n - 0s - loss: 26.4689\nEpoch 30/50\n - 0s - loss: 26.5846\nEpoch 31/50\n - 0s - loss: 26.4212\nEpoch 32/50\n - 0s - loss: 26.5239\nEpoch 33/50\n - 0s - loss: 26.4856\nEpoch 34/50\n - 0s - loss: 26.4998\nEpoch 35/50\n - 0s - loss: 26.4447\nEpoch 36/50\n - 0s - loss: 26.4776\nEpoch 37/50\n - 0s - loss: 26.4085\nEpoch 38/50\n - 0s - loss: 26.4839\nEpoch 39/50\n - 0s - loss: 26.4323\nEpoch 40/50\n - 0s - loss: 26.4416\nEpoch 41/50\n - 0s - loss: 26.5112\nEpoch 42/50\n - 0s - loss: 26.4434\nEpoch 43/50\n - 0s - loss: 26.4897\nEpoch 44/50\n - 0s - loss: 26.4386\nEpoch 45/50\n - 0s - loss: 26.4543\nEpoch 46/50\n - 0s - loss: 26.3893\nEpoch 47/50\n - 0s - loss: 26.4335\nEpoch 48/50\n - 0s - loss: 26.4525\nEpoch 49/50\n - 0s - loss: 26.3871\nEpoch 50/50\n - 0s - loss: 26.4817\n309/309 [==============================] - 0s 796us/step\nEpoch 1/50\n"
                },
                {
                    "name": "stderr",
                    "output_type": "stream",
                    "text": "/opt/conda/envs/Python36/lib/python3.6/site-packages/sklearn/preprocessing/data.py:645: DataConversionWarning: Data with input dtype int64, float64 were all converted to float64 by StandardScaler.\n  return self.partial_fit(X, y)\n/opt/conda/envs/Python36/lib/python3.6/site-packages/sklearn/base.py:464: DataConversionWarning: Data with input dtype int64, float64 were all converted to float64 by StandardScaler.\n  return self.fit(X, **fit_params).transform(X)\n/opt/conda/envs/Python36/lib/python3.6/site-packages/ipykernel/__main__.py:8: DataConversionWarning: Data with input dtype int64, float64 were all converted to float64 by StandardScaler.\n"
                },
                {
                    "name": "stdout",
                    "output_type": "stream",
                    "text": " - 0s - loss: 26.5621\nEpoch 2/50\n - 0s - loss: 26.5006\nEpoch 3/50\n - 0s - loss: 26.3859\nEpoch 4/50\n - 0s - loss: 26.4859\nEpoch 5/50\n - 0s - loss: 26.4238\nEpoch 6/50\n - 0s - loss: 26.4287\nEpoch 7/50\n - 0s - loss: 26.4402\nEpoch 8/50\n - 0s - loss: 26.3724\nEpoch 9/50\n - 0s - loss: 26.3809\nEpoch 10/50\n - 0s - loss: 26.4100\nEpoch 11/50\n - 0s - loss: 26.4169\nEpoch 12/50\n - 0s - loss: 26.3907\nEpoch 13/50\n - 0s - loss: 26.3535\nEpoch 14/50\n - 0s - loss: 26.3864\nEpoch 15/50\n - 0s - loss: 26.3761\nEpoch 16/50\n - 1s - loss: 26.4097\nEpoch 17/50\n - 0s - loss: 26.3531\nEpoch 18/50\n - 0s - loss: 26.3593\nEpoch 19/50\n - 1s - loss: 26.3955\nEpoch 20/50\n - 0s - loss: 26.4025\nEpoch 21/50\n - 0s - loss: 26.4099\nEpoch 22/50\n - 0s - loss: 26.3810\nEpoch 23/50\n - 0s - loss: 26.3776\nEpoch 24/50\n - 0s - loss: 26.3951\nEpoch 25/50\n - 0s - loss: 26.3683\nEpoch 26/50\n - 0s - loss: 26.3593\nEpoch 27/50\n - 0s - loss: 26.3769\nEpoch 28/50\n - 0s - loss: 26.3760\nEpoch 29/50\n - 0s - loss: 26.3502\nEpoch 30/50\n - 0s - loss: 26.4279\nEpoch 31/50\n - 0s - loss: 26.3544\nEpoch 32/50\n - 0s - loss: 26.3652\nEpoch 33/50\n - 0s - loss: 26.3491\nEpoch 34/50\n - 0s - loss: 26.3586\nEpoch 35/50\n - 0s - loss: 26.3856\nEpoch 36/50\n - 0s - loss: 26.3311\nEpoch 37/50\n - 0s - loss: 26.3779\nEpoch 38/50\n - 0s - loss: 26.3373\nEpoch 39/50\n - 0s - loss: 26.3309\nEpoch 40/50\n - 0s - loss: 26.3706\nEpoch 41/50\n - 0s - loss: 26.3375\nEpoch 42/50\n - 0s - loss: 26.3352\nEpoch 43/50\n - 0s - loss: 26.3201\nEpoch 44/50\n - 0s - loss: 26.3999\nEpoch 45/50\n - 0s - loss: 26.3441\nEpoch 46/50\n - 0s - loss: 26.3597\nEpoch 47/50\n - 0s - loss: 26.3387\nEpoch 48/50\n - 0s - loss: 26.3267\nEpoch 49/50\n - 0s - loss: 26.2834\nEpoch 50/50\n - 0s - loss: 26.3455\n309/309 [==============================] - 0s 587us/step\nEpoch 1/50\n"
                },
                {
                    "name": "stderr",
                    "output_type": "stream",
                    "text": "/opt/conda/envs/Python36/lib/python3.6/site-packages/sklearn/preprocessing/data.py:645: DataConversionWarning: Data with input dtype int64, float64 were all converted to float64 by StandardScaler.\n  return self.partial_fit(X, y)\n/opt/conda/envs/Python36/lib/python3.6/site-packages/sklearn/base.py:464: DataConversionWarning: Data with input dtype int64, float64 were all converted to float64 by StandardScaler.\n  return self.fit(X, **fit_params).transform(X)\n/opt/conda/envs/Python36/lib/python3.6/site-packages/ipykernel/__main__.py:8: DataConversionWarning: Data with input dtype int64, float64 were all converted to float64 by StandardScaler.\n"
                },
                {
                    "name": "stdout",
                    "output_type": "stream",
                    "text": " - 0s - loss: 26.3167\nEpoch 2/50\n - 0s - loss: 26.3320\nEpoch 3/50\n - 0s - loss: 26.3152\nEpoch 4/50\n - 0s - loss: 26.3575\nEpoch 5/50\n - 0s - loss: 26.3122\nEpoch 6/50\n - 0s - loss: 26.2988\nEpoch 7/50\n - 0s - loss: 26.3065\nEpoch 8/50\n - 0s - loss: 26.2849\nEpoch 9/50\n - 0s - loss: 26.3619\nEpoch 10/50\n - 0s - loss: 26.2961\nEpoch 11/50\n - 0s - loss: 26.3044\nEpoch 12/50\n - 0s - loss: 26.4808\nEpoch 13/50\n - 1s - loss: 26.3687\nEpoch 14/50\n - 0s - loss: 26.2810\nEpoch 15/50\n - 1s - loss: 26.2925\nEpoch 16/50\n - 0s - loss: 26.2912\nEpoch 17/50\n - 0s - loss: 26.3385\nEpoch 18/50\n - 0s - loss: 26.2887\nEpoch 19/50\n - 0s - loss: 26.3121\nEpoch 20/50\n - 0s - loss: 26.3274\nEpoch 21/50\n - 0s - loss: 26.2985\nEpoch 22/50\n - 0s - loss: 26.3018\nEpoch 23/50\n - 0s - loss: 26.2940\nEpoch 24/50\n - 0s - loss: 26.2610\nEpoch 25/50\n - 0s - loss: 26.2798\nEpoch 26/50\n - 0s - loss: 26.3120\nEpoch 27/50\n - 0s - loss: 26.2836\nEpoch 28/50\n - 1s - loss: 26.3068\nEpoch 29/50\n - 0s - loss: 26.3008\nEpoch 30/50\n - 0s - loss: 26.2521\nEpoch 31/50\n - 0s - loss: 26.2876\nEpoch 32/50\n - 0s - loss: 26.3269\nEpoch 33/50\n - 0s - loss: 26.2891\nEpoch 34/50\n - 0s - loss: 26.2908\nEpoch 35/50\n - 0s - loss: 26.3642\nEpoch 36/50\n - 0s - loss: 26.3130\nEpoch 37/50\n - 0s - loss: 26.2464\nEpoch 38/50\n - 0s - loss: 26.2580\nEpoch 39/50\n - 0s - loss: 26.2886\nEpoch 40/50\n - 0s - loss: 26.2702\nEpoch 41/50\n - 0s - loss: 26.2753\nEpoch 42/50\n - 0s - loss: 26.2694\nEpoch 43/50\n - 0s - loss: 26.2422\nEpoch 44/50\n - 0s - loss: 26.2880\nEpoch 45/50\n - 0s - loss: 26.2484\nEpoch 46/50\n - 0s - loss: 26.3206\nEpoch 47/50\n - 0s - loss: 26.2384\nEpoch 48/50\n - 0s - loss: 26.3249\nEpoch 49/50\n - 0s - loss: 26.3313\nEpoch 50/50\n - 0s - loss: 26.2884\n309/309 [==============================] - 0s 612us/step\nEpoch 1/50\n"
                },
                {
                    "name": "stderr",
                    "output_type": "stream",
                    "text": "/opt/conda/envs/Python36/lib/python3.6/site-packages/sklearn/preprocessing/data.py:645: DataConversionWarning: Data with input dtype int64, float64 were all converted to float64 by StandardScaler.\n  return self.partial_fit(X, y)\n/opt/conda/envs/Python36/lib/python3.6/site-packages/sklearn/base.py:464: DataConversionWarning: Data with input dtype int64, float64 were all converted to float64 by StandardScaler.\n  return self.fit(X, **fit_params).transform(X)\n/opt/conda/envs/Python36/lib/python3.6/site-packages/ipykernel/__main__.py:8: DataConversionWarning: Data with input dtype int64, float64 were all converted to float64 by StandardScaler.\n"
                },
                {
                    "name": "stdout",
                    "output_type": "stream",
                    "text": " - 0s - loss: 26.2620\nEpoch 2/50\n - 0s - loss: 26.2519\nEpoch 3/50\n - 0s - loss: 26.2314\nEpoch 4/50\n - 0s - loss: 26.2856\nEpoch 5/50\n - 0s - loss: 26.3698\nEpoch 6/50\n - 1s - loss: 26.2733\nEpoch 7/50\n - 0s - loss: 26.2352\nEpoch 8/50\n - 1s - loss: 26.2227\nEpoch 9/50\n - 0s - loss: 26.3219\nEpoch 10/50\n - 0s - loss: 26.2547\nEpoch 11/50\n - 0s - loss: 26.2568\nEpoch 12/50\n - 0s - loss: 26.2749\nEpoch 13/50\n - 0s - loss: 26.2601\nEpoch 14/50\n - 0s - loss: 26.2866\nEpoch 15/50\n - 0s - loss: 26.2989\nEpoch 16/50\n - 0s - loss: 26.2318\nEpoch 17/50\n - 0s - loss: 26.3162\nEpoch 18/50\n - 0s - loss: 26.2809\nEpoch 19/50\n - 0s - loss: 26.2852\nEpoch 20/50\n - 0s - loss: 26.3857\nEpoch 21/50\n - 0s - loss: 26.2036\nEpoch 22/50\n - 0s - loss: 26.2133\nEpoch 23/50\n - 0s - loss: 26.2527\nEpoch 24/50\n - 0s - loss: 26.2860\nEpoch 25/50\n - 0s - loss: 26.2155\nEpoch 26/50\n - 0s - loss: 26.2160\nEpoch 27/50\n - 0s - loss: 26.2522\nEpoch 28/50\n - 0s - loss: 26.2465\nEpoch 29/50\n - 0s - loss: 26.1898\nEpoch 30/50\n - 0s - loss: 26.2694\nEpoch 31/50\n - 0s - loss: 26.2131\nEpoch 32/50\n - 0s - loss: 26.2380\nEpoch 33/50\n - 0s - loss: 26.1958\nEpoch 34/50\n - 0s - loss: 26.2791\nEpoch 35/50\n - 1s - loss: 26.2320\nEpoch 36/50\n - 0s - loss: 26.1941\nEpoch 37/50\n - 0s - loss: 26.2318\nEpoch 38/50\n - 0s - loss: 26.2000\nEpoch 39/50\n - 0s - loss: 26.2513\nEpoch 40/50\n - 0s - loss: 26.2052\nEpoch 41/50\n - 0s - loss: 26.1904\nEpoch 42/50\n - 0s - loss: 26.1924\nEpoch 43/50\n - 0s - loss: 26.2422\nEpoch 44/50\n - 0s - loss: 26.1900\nEpoch 45/50\n - 0s - loss: 26.2188\nEpoch 46/50\n - 0s - loss: 26.1789\nEpoch 47/50\n - 0s - loss: 26.1917\nEpoch 48/50\n - 0s - loss: 26.2489\nEpoch 49/50\n - 0s - loss: 26.3063\nEpoch 50/50\n - 1s - loss: 26.1802\n309/309 [==============================] - 0s 701us/step\nEpoch 1/50\n"
                },
                {
                    "name": "stderr",
                    "output_type": "stream",
                    "text": "/opt/conda/envs/Python36/lib/python3.6/site-packages/sklearn/preprocessing/data.py:645: DataConversionWarning: Data with input dtype int64, float64 were all converted to float64 by StandardScaler.\n  return self.partial_fit(X, y)\n/opt/conda/envs/Python36/lib/python3.6/site-packages/sklearn/base.py:464: DataConversionWarning: Data with input dtype int64, float64 were all converted to float64 by StandardScaler.\n  return self.fit(X, **fit_params).transform(X)\n/opt/conda/envs/Python36/lib/python3.6/site-packages/ipykernel/__main__.py:8: DataConversionWarning: Data with input dtype int64, float64 were all converted to float64 by StandardScaler.\n"
                },
                {
                    "name": "stdout",
                    "output_type": "stream",
                    "text": " - 1s - loss: 26.2557\nEpoch 2/50\n - 0s - loss: 26.1991\nEpoch 3/50\n - 0s - loss: 26.1857\nEpoch 4/50\n - 0s - loss: 26.2151\nEpoch 5/50\n - 0s - loss: 26.1689\nEpoch 6/50\n - 0s - loss: 26.1831\nEpoch 7/50\n - 0s - loss: 26.2130\nEpoch 8/50\n - 0s - loss: 26.1551\nEpoch 9/50\n - 0s - loss: 26.1719\nEpoch 10/50\n - 0s - loss: 26.1919\nEpoch 11/50\n - 0s - loss: 26.1671\nEpoch 12/50\n - 0s - loss: 26.1413\nEpoch 13/50\n - 0s - loss: 26.1773\nEpoch 14/50\n - 0s - loss: 26.1516\nEpoch 15/50\n - 0s - loss: 26.1553\nEpoch 16/50\n - 0s - loss: 26.2092\nEpoch 17/50\n - 0s - loss: 26.1717\nEpoch 18/50\n - 0s - loss: 26.1736\nEpoch 19/50\n - 0s - loss: 26.2617\nEpoch 20/50\n - 0s - loss: 26.1988\nEpoch 21/50\n - 0s - loss: 26.1922\nEpoch 22/50\n - 0s - loss: 26.1426\nEpoch 23/50\n - 0s - loss: 26.1297\nEpoch 24/50\n - 0s - loss: 26.1371\nEpoch 25/50\n - 0s - loss: 26.2263\nEpoch 26/50\n - 0s - loss: 26.1377\nEpoch 27/50\n - 0s - loss: 26.1523\nEpoch 28/50\n - 0s - loss: 26.1388\nEpoch 29/50\n - 0s - loss: 26.2247\nEpoch 30/50\n - 0s - loss: 26.1092\nEpoch 31/50\n - 0s - loss: 26.1406\nEpoch 32/50\n - 0s - loss: 26.1207\nEpoch 33/50\n - 0s - loss: 26.1848\nEpoch 34/50\n - 0s - loss: 26.2214\nEpoch 35/50\n - 0s - loss: 26.2132\nEpoch 36/50\n - 0s - loss: 26.1808\nEpoch 37/50\n - 0s - loss: 26.1321\nEpoch 38/50\n - 1s - loss: 26.1361\nEpoch 39/50\n - 0s - loss: 26.1621\nEpoch 40/50\n - 0s - loss: 26.1246\nEpoch 41/50\n - 0s - loss: 26.1456\nEpoch 42/50\n - 0s - loss: 26.1251\nEpoch 43/50\n - 1s - loss: 26.1159\nEpoch 44/50\n - 0s - loss: 26.1119\nEpoch 45/50\n - 1s - loss: 26.1249\nEpoch 46/50\n - 0s - loss: 26.1154\nEpoch 47/50\n - 0s - loss: 26.1735\nEpoch 48/50\n - 0s - loss: 26.1258\nEpoch 49/50\n - 0s - loss: 26.1429\nEpoch 50/50\n - 0s - loss: 26.1204\n309/309 [==============================] - 0s 570us/step\nEpoch 1/50\n - 0s - loss: 26.1093\n"
                },
                {
                    "name": "stderr",
                    "output_type": "stream",
                    "text": "/opt/conda/envs/Python36/lib/python3.6/site-packages/sklearn/preprocessing/data.py:645: DataConversionWarning: Data with input dtype int64, float64 were all converted to float64 by StandardScaler.\n  return self.partial_fit(X, y)\n/opt/conda/envs/Python36/lib/python3.6/site-packages/sklearn/base.py:464: DataConversionWarning: Data with input dtype int64, float64 were all converted to float64 by StandardScaler.\n  return self.fit(X, **fit_params).transform(X)\n/opt/conda/envs/Python36/lib/python3.6/site-packages/ipykernel/__main__.py:8: DataConversionWarning: Data with input dtype int64, float64 were all converted to float64 by StandardScaler.\n"
                },
                {
                    "name": "stdout",
                    "output_type": "stream",
                    "text": "Epoch 2/50\n - 0s - loss: 26.0998\nEpoch 3/50\n - 0s - loss: 26.0919\nEpoch 4/50\n - 0s - loss: 26.1800\nEpoch 5/50\n - 0s - loss: 26.1098\nEpoch 6/50\n - 0s - loss: 26.0897\nEpoch 7/50\n - 0s - loss: 26.1068\nEpoch 8/50\n - 0s - loss: 26.1582\nEpoch 9/50\n - 0s - loss: 26.1024\nEpoch 10/50\n - 0s - loss: 26.1100\nEpoch 11/50\n - 0s - loss: 26.1468\nEpoch 12/50\n - 0s - loss: 26.1115\nEpoch 13/50\n - 0s - loss: 26.1122\nEpoch 14/50\n - 0s - loss: 26.1847\nEpoch 15/50\n - 0s - loss: 26.1001\nEpoch 16/50\n - 0s - loss: 26.0989\nEpoch 17/50\n - 0s - loss: 26.0938\nEpoch 18/50\n - 0s - loss: 26.1758\nEpoch 19/50\n - 0s - loss: 26.1261\nEpoch 20/50\n - 0s - loss: 26.1135\nEpoch 21/50\n - 0s - loss: 26.1843\nEpoch 22/50\n - 0s - loss: 26.0593\nEpoch 23/50\n - 0s - loss: 26.1505\nEpoch 24/50\n - 0s - loss: 26.0804\nEpoch 25/50\n - 0s - loss: 26.1049\nEpoch 26/50\n - 0s - loss: 26.0924\nEpoch 27/50\n - 0s - loss: 26.1173\nEpoch 28/50\n - 0s - loss: 26.1358\nEpoch 29/50\n - 0s - loss: 26.0763\nEpoch 30/50\n - 0s - loss: 26.1035\nEpoch 31/50\n - 0s - loss: 26.0514\nEpoch 32/50\n - 0s - loss: 26.0677\nEpoch 33/50\n - 0s - loss: 26.0872\nEpoch 34/50\n - 0s - loss: 26.1110\nEpoch 35/50\n - 0s - loss: 26.0684\nEpoch 36/50\n - 0s - loss: 26.0784\nEpoch 37/50\n - 0s - loss: 26.0474\nEpoch 38/50\n - 0s - loss: 26.0970\nEpoch 39/50\n - 0s - loss: 26.1096\nEpoch 40/50\n - 1s - loss: 26.0328\nEpoch 41/50\n - 0s - loss: 26.0764\nEpoch 42/50\n - 1s - loss: 26.1242\nEpoch 43/50\n - 0s - loss: 26.0242\nEpoch 44/50\n - 0s - loss: 26.0351\nEpoch 45/50\n - 0s - loss: 26.0483\nEpoch 46/50\n - 0s - loss: 26.1101\nEpoch 47/50\n - 0s - loss: 26.0479\nEpoch 48/50\n - 0s - loss: 26.0924\nEpoch 49/50\n - 0s - loss: 26.0337\nEpoch 50/50\n - 1s - loss: 26.0601\n309/309 [==============================] - 0s 706us/step\nEpoch 1/50\n"
                },
                {
                    "name": "stderr",
                    "output_type": "stream",
                    "text": "/opt/conda/envs/Python36/lib/python3.6/site-packages/sklearn/preprocessing/data.py:645: DataConversionWarning: Data with input dtype int64, float64 were all converted to float64 by StandardScaler.\n  return self.partial_fit(X, y)\n/opt/conda/envs/Python36/lib/python3.6/site-packages/sklearn/base.py:464: DataConversionWarning: Data with input dtype int64, float64 were all converted to float64 by StandardScaler.\n  return self.fit(X, **fit_params).transform(X)\n/opt/conda/envs/Python36/lib/python3.6/site-packages/ipykernel/__main__.py:8: DataConversionWarning: Data with input dtype int64, float64 were all converted to float64 by StandardScaler.\n"
                },
                {
                    "name": "stdout",
                    "output_type": "stream",
                    "text": " - 0s - loss: 26.0542\nEpoch 2/50\n - 0s - loss: 26.0135\nEpoch 3/50\n - 0s - loss: 26.0288\nEpoch 4/50\n - 0s - loss: 26.0378\nEpoch 5/50\n - 0s - loss: 26.0852\nEpoch 6/50\n - 0s - loss: 26.0376\nEpoch 7/50\n - 0s - loss: 26.0124\nEpoch 8/50\n - 0s - loss: 26.0065\nEpoch 9/50\n - 0s - loss: 26.0637\nEpoch 10/50\n - 0s - loss: 26.0588\nEpoch 11/50\n - 0s - loss: 25.9782\nEpoch 12/50\n - 0s - loss: 26.0458\nEpoch 13/50\n - 0s - loss: 26.0342\nEpoch 14/50\n - 0s - loss: 26.0594\nEpoch 15/50\n - 0s - loss: 25.9919\nEpoch 16/50\n - 0s - loss: 26.0069\nEpoch 17/50\n - 0s - loss: 26.0310\nEpoch 18/50\n - 0s - loss: 26.0000\nEpoch 19/50\n - 0s - loss: 25.9957\nEpoch 20/50\n - 0s - loss: 25.9996\nEpoch 21/50\n - 0s - loss: 26.0267\nEpoch 22/50\n - 0s - loss: 26.0319\nEpoch 23/50\n - 0s - loss: 26.0531\nEpoch 24/50\n - 0s - loss: 25.9989\nEpoch 25/50\n - 0s - loss: 26.0159\nEpoch 26/50\n - 0s - loss: 26.0288\nEpoch 27/50\n - 0s - loss: 25.9969\nEpoch 28/50\n - 0s - loss: 25.9811\nEpoch 29/50\n - 0s - loss: 26.0417\nEpoch 30/50\n - 0s - loss: 26.0549\nEpoch 31/50\n - 0s - loss: 25.9751\nEpoch 32/50\n - 1s - loss: 26.0192\nEpoch 33/50\n - 0s - loss: 26.0032\nEpoch 34/50\n - 1s - loss: 26.0666\nEpoch 35/50\n - 0s - loss: 25.9878\nEpoch 36/50\n - 0s - loss: 26.0412\nEpoch 37/50\n - 0s - loss: 26.0010\nEpoch 38/50\n - 0s - loss: 26.0179\nEpoch 39/50\n - 0s - loss: 25.9948\nEpoch 40/50\n - 0s - loss: 26.0330\nEpoch 41/50\n - 0s - loss: 25.9942\nEpoch 42/50\n - 0s - loss: 26.0905\nEpoch 43/50\n - 0s - loss: 25.9985\nEpoch 44/50\n - 0s - loss: 26.0358\nEpoch 45/50\n - 0s - loss: 26.0654\nEpoch 46/50\n - 0s - loss: 26.1119\nEpoch 47/50\n - 0s - loss: 25.9484\nEpoch 48/50\n - 0s - loss: 26.0063\nEpoch 49/50\n - 0s - loss: 25.9566\nEpoch 50/50\n - 0s - loss: 26.0123\n309/309 [==============================] - 0s 642us/step\n[164.9660013439586, 115.32190501882806, 84.2804561479192, 65.45524602106089, 56.091762555069906, 51.984590376079275, 48.32508257523324, 47.02557091574067, 45.875071516314755, 45.008035801760975, 44.12496074195047, 43.323955338363895, 42.8936275988335, 42.44383716274619, 41.999668812674614, 41.47965015794081, 41.04994687447656, 40.70249767982458, 40.39588451076865, 39.90416717529297, 39.698799466623846, 39.45126905719054, 39.4671819310358, 39.032896159150454, 38.974620479596084, 38.68264428543041, 38.527026401754334, 38.530331793726454, 38.37042520269993, 38.23124636801315, 38.14062247538644, 37.94746887799606, 38.03773001019623, 37.84591778505196, 37.80777112720082, 37.67422664358392, 37.712233571172916, 37.5222549994015, 37.59960705408386, 37.38527223901841, 37.36531081091625, 37.45655472764691, 37.4106015202297, 37.369033887548355, 37.3862713255157, 37.40778903899455, 37.43663666857871, 37.37072095901835, 37.38014227364056, 37.223468175597944]\n"
                }
            ],
            "source": "# set up list of mse which will append the results for eah run of the model and evaluation.\nmse=[]\ni=0\nfor i in range (50):\n    X_train, X_test, y_train, y_test = train_test_split(predictors, target, test_size= 0.3, random_state = 0)\n    scale = StandardScaler()\n    X_train_s = scale.fit_transform(X_train)\n    X_test_s = scale.transform(X_test)\n    model.fit( x=X_train_s, y=y_train, epochs=50, verbose=2)\n    results = model.evaluate(X_test_s, y_test, batch_size=8)\n    mse.append(results) \n    i = i + 1\nprint(mse)    "
        },
        {
            "cell_type": "markdown",
            "metadata": {},
            "source": "## Compute the required statistics mean and std deviation of mses of the 50 runs"
        },
        {
            "cell_type": "code",
            "execution_count": 15,
            "metadata": {},
            "outputs": [
                {
                    "name": "stdout",
                    "output_type": "stream",
                    "text": "mean_mse: 45.66195987281676\nstd deviation:  21.475768344988044\n"
                }
            ],
            "source": "# Apply statistics to the mse list collected using numpy.\nimport numpy as np\nmean_mse = np.mean(mse)\nstd_mse = np.std(mse)\nprint('mean_mse:', mean_mse)\nprint('std deviation: ' , std_mse)"
        },
        {
            "cell_type": "markdown",
            "metadata": {},
            "source": "## crosscheck we have 50 items or runs for the mse"
        },
        {
            "cell_type": "code",
            "execution_count": 16,
            "metadata": {},
            "outputs": [
                {
                    "name": "stdout",
                    "output_type": "stream",
                    "text": "50\n"
                }
            ],
            "source": "#crosscheck that we have 50 items in the mse list\nprint(len(mse))"
        },
        {
            "cell_type": "markdown",
            "metadata": {},
            "source": "## For Part C:  We repeat Part B above for epochs=100 and see the effects on mean and standard deviation. "
        },
        {
            "cell_type": "code",
            "execution_count": 17,
            "metadata": {},
            "outputs": [
                {
                    "name": "stderr",
                    "output_type": "stream",
                    "text": "/opt/conda/envs/Python36/lib/python3.6/site-packages/sklearn/preprocessing/data.py:645: DataConversionWarning: Data with input dtype int64, float64 were all converted to float64 by StandardScaler.\n  return self.partial_fit(X, y)\n/opt/conda/envs/Python36/lib/python3.6/site-packages/sklearn/base.py:464: DataConversionWarning: Data with input dtype int64, float64 were all converted to float64 by StandardScaler.\n  return self.fit(X, **fit_params).transform(X)\n/opt/conda/envs/Python36/lib/python3.6/site-packages/ipykernel/__main__.py:8: DataConversionWarning: Data with input dtype int64, float64 were all converted to float64 by StandardScaler.\n"
                },
                {
                    "name": "stdout",
                    "output_type": "stream",
                    "text": "309/309 [==============================] - 0s 564us/step\n"
                },
                {
                    "name": "stderr",
                    "output_type": "stream",
                    "text": "/opt/conda/envs/Python36/lib/python3.6/site-packages/sklearn/preprocessing/data.py:645: DataConversionWarning: Data with input dtype int64, float64 were all converted to float64 by StandardScaler.\n  return self.partial_fit(X, y)\n/opt/conda/envs/Python36/lib/python3.6/site-packages/sklearn/base.py:464: DataConversionWarning: Data with input dtype int64, float64 were all converted to float64 by StandardScaler.\n  return self.fit(X, **fit_params).transform(X)\n/opt/conda/envs/Python36/lib/python3.6/site-packages/ipykernel/__main__.py:8: DataConversionWarning: Data with input dtype int64, float64 were all converted to float64 by StandardScaler.\n"
                },
                {
                    "name": "stdout",
                    "output_type": "stream",
                    "text": "309/309 [==============================] - 0s 648us/step\n"
                },
                {
                    "name": "stderr",
                    "output_type": "stream",
                    "text": "/opt/conda/envs/Python36/lib/python3.6/site-packages/sklearn/preprocessing/data.py:645: DataConversionWarning: Data with input dtype int64, float64 were all converted to float64 by StandardScaler.\n  return self.partial_fit(X, y)\n/opt/conda/envs/Python36/lib/python3.6/site-packages/sklearn/base.py:464: DataConversionWarning: Data with input dtype int64, float64 were all converted to float64 by StandardScaler.\n  return self.fit(X, **fit_params).transform(X)\n/opt/conda/envs/Python36/lib/python3.6/site-packages/ipykernel/__main__.py:8: DataConversionWarning: Data with input dtype int64, float64 were all converted to float64 by StandardScaler.\n"
                },
                {
                    "name": "stdout",
                    "output_type": "stream",
                    "text": "309/309 [==============================] - 0s 572us/step\n"
                },
                {
                    "name": "stderr",
                    "output_type": "stream",
                    "text": "/opt/conda/envs/Python36/lib/python3.6/site-packages/sklearn/preprocessing/data.py:645: DataConversionWarning: Data with input dtype int64, float64 were all converted to float64 by StandardScaler.\n  return self.partial_fit(X, y)\n/opt/conda/envs/Python36/lib/python3.6/site-packages/sklearn/base.py:464: DataConversionWarning: Data with input dtype int64, float64 were all converted to float64 by StandardScaler.\n  return self.fit(X, **fit_params).transform(X)\n/opt/conda/envs/Python36/lib/python3.6/site-packages/ipykernel/__main__.py:8: DataConversionWarning: Data with input dtype int64, float64 were all converted to float64 by StandardScaler.\n"
                },
                {
                    "name": "stdout",
                    "output_type": "stream",
                    "text": "309/309 [==============================] - 0s 651us/step\n"
                },
                {
                    "name": "stderr",
                    "output_type": "stream",
                    "text": "/opt/conda/envs/Python36/lib/python3.6/site-packages/sklearn/preprocessing/data.py:645: DataConversionWarning: Data with input dtype int64, float64 were all converted to float64 by StandardScaler.\n  return self.partial_fit(X, y)\n/opt/conda/envs/Python36/lib/python3.6/site-packages/sklearn/base.py:464: DataConversionWarning: Data with input dtype int64, float64 were all converted to float64 by StandardScaler.\n  return self.fit(X, **fit_params).transform(X)\n/opt/conda/envs/Python36/lib/python3.6/site-packages/ipykernel/__main__.py:8: DataConversionWarning: Data with input dtype int64, float64 were all converted to float64 by StandardScaler.\n"
                },
                {
                    "name": "stdout",
                    "output_type": "stream",
                    "text": "309/309 [==============================] - 0s 525us/step\n"
                },
                {
                    "name": "stderr",
                    "output_type": "stream",
                    "text": "/opt/conda/envs/Python36/lib/python3.6/site-packages/sklearn/preprocessing/data.py:645: DataConversionWarning: Data with input dtype int64, float64 were all converted to float64 by StandardScaler.\n  return self.partial_fit(X, y)\n/opt/conda/envs/Python36/lib/python3.6/site-packages/sklearn/base.py:464: DataConversionWarning: Data with input dtype int64, float64 were all converted to float64 by StandardScaler.\n  return self.fit(X, **fit_params).transform(X)\n/opt/conda/envs/Python36/lib/python3.6/site-packages/ipykernel/__main__.py:8: DataConversionWarning: Data with input dtype int64, float64 were all converted to float64 by StandardScaler.\n"
                },
                {
                    "name": "stdout",
                    "output_type": "stream",
                    "text": "309/309 [==============================] - 0s 724us/step\n"
                },
                {
                    "name": "stderr",
                    "output_type": "stream",
                    "text": "/opt/conda/envs/Python36/lib/python3.6/site-packages/sklearn/preprocessing/data.py:645: DataConversionWarning: Data with input dtype int64, float64 were all converted to float64 by StandardScaler.\n  return self.partial_fit(X, y)\n/opt/conda/envs/Python36/lib/python3.6/site-packages/sklearn/base.py:464: DataConversionWarning: Data with input dtype int64, float64 were all converted to float64 by StandardScaler.\n  return self.fit(X, **fit_params).transform(X)\n/opt/conda/envs/Python36/lib/python3.6/site-packages/ipykernel/__main__.py:8: DataConversionWarning: Data with input dtype int64, float64 were all converted to float64 by StandardScaler.\n"
                },
                {
                    "name": "stdout",
                    "output_type": "stream",
                    "text": "309/309 [==============================] - 0s 593us/step\n"
                },
                {
                    "name": "stderr",
                    "output_type": "stream",
                    "text": "/opt/conda/envs/Python36/lib/python3.6/site-packages/sklearn/preprocessing/data.py:645: DataConversionWarning: Data with input dtype int64, float64 were all converted to float64 by StandardScaler.\n  return self.partial_fit(X, y)\n/opt/conda/envs/Python36/lib/python3.6/site-packages/sklearn/base.py:464: DataConversionWarning: Data with input dtype int64, float64 were all converted to float64 by StandardScaler.\n  return self.fit(X, **fit_params).transform(X)\n/opt/conda/envs/Python36/lib/python3.6/site-packages/ipykernel/__main__.py:8: DataConversionWarning: Data with input dtype int64, float64 were all converted to float64 by StandardScaler.\n"
                },
                {
                    "name": "stdout",
                    "output_type": "stream",
                    "text": "309/309 [==============================] - 1s 2ms/step\n"
                },
                {
                    "name": "stderr",
                    "output_type": "stream",
                    "text": "/opt/conda/envs/Python36/lib/python3.6/site-packages/sklearn/preprocessing/data.py:645: DataConversionWarning: Data with input dtype int64, float64 were all converted to float64 by StandardScaler.\n  return self.partial_fit(X, y)\n/opt/conda/envs/Python36/lib/python3.6/site-packages/sklearn/base.py:464: DataConversionWarning: Data with input dtype int64, float64 were all converted to float64 by StandardScaler.\n  return self.fit(X, **fit_params).transform(X)\n/opt/conda/envs/Python36/lib/python3.6/site-packages/ipykernel/__main__.py:8: DataConversionWarning: Data with input dtype int64, float64 were all converted to float64 by StandardScaler.\n"
                },
                {
                    "name": "stdout",
                    "output_type": "stream",
                    "text": "309/309 [==============================] - 0s 563us/step\n"
                },
                {
                    "name": "stderr",
                    "output_type": "stream",
                    "text": "/opt/conda/envs/Python36/lib/python3.6/site-packages/sklearn/preprocessing/data.py:645: DataConversionWarning: Data with input dtype int64, float64 were all converted to float64 by StandardScaler.\n  return self.partial_fit(X, y)\n/opt/conda/envs/Python36/lib/python3.6/site-packages/sklearn/base.py:464: DataConversionWarning: Data with input dtype int64, float64 were all converted to float64 by StandardScaler.\n  return self.fit(X, **fit_params).transform(X)\n/opt/conda/envs/Python36/lib/python3.6/site-packages/ipykernel/__main__.py:8: DataConversionWarning: Data with input dtype int64, float64 were all converted to float64 by StandardScaler.\n"
                },
                {
                    "name": "stdout",
                    "output_type": "stream",
                    "text": "309/309 [==============================] - 0s 782us/step\n"
                },
                {
                    "name": "stderr",
                    "output_type": "stream",
                    "text": "/opt/conda/envs/Python36/lib/python3.6/site-packages/sklearn/preprocessing/data.py:645: DataConversionWarning: Data with input dtype int64, float64 were all converted to float64 by StandardScaler.\n  return self.partial_fit(X, y)\n/opt/conda/envs/Python36/lib/python3.6/site-packages/sklearn/base.py:464: DataConversionWarning: Data with input dtype int64, float64 were all converted to float64 by StandardScaler.\n  return self.fit(X, **fit_params).transform(X)\n/opt/conda/envs/Python36/lib/python3.6/site-packages/ipykernel/__main__.py:8: DataConversionWarning: Data with input dtype int64, float64 were all converted to float64 by StandardScaler.\n"
                },
                {
                    "name": "stdout",
                    "output_type": "stream",
                    "text": "309/309 [==============================] - 0s 657us/step\n"
                },
                {
                    "name": "stderr",
                    "output_type": "stream",
                    "text": "/opt/conda/envs/Python36/lib/python3.6/site-packages/sklearn/preprocessing/data.py:645: DataConversionWarning: Data with input dtype int64, float64 were all converted to float64 by StandardScaler.\n  return self.partial_fit(X, y)\n/opt/conda/envs/Python36/lib/python3.6/site-packages/sklearn/base.py:464: DataConversionWarning: Data with input dtype int64, float64 were all converted to float64 by StandardScaler.\n  return self.fit(X, **fit_params).transform(X)\n/opt/conda/envs/Python36/lib/python3.6/site-packages/ipykernel/__main__.py:8: DataConversionWarning: Data with input dtype int64, float64 were all converted to float64 by StandardScaler.\n"
                },
                {
                    "name": "stdout",
                    "output_type": "stream",
                    "text": "309/309 [==============================] - 0s 647us/step\n"
                },
                {
                    "name": "stderr",
                    "output_type": "stream",
                    "text": "/opt/conda/envs/Python36/lib/python3.6/site-packages/sklearn/preprocessing/data.py:645: DataConversionWarning: Data with input dtype int64, float64 were all converted to float64 by StandardScaler.\n  return self.partial_fit(X, y)\n/opt/conda/envs/Python36/lib/python3.6/site-packages/sklearn/base.py:464: DataConversionWarning: Data with input dtype int64, float64 were all converted to float64 by StandardScaler.\n  return self.fit(X, **fit_params).transform(X)\n/opt/conda/envs/Python36/lib/python3.6/site-packages/ipykernel/__main__.py:8: DataConversionWarning: Data with input dtype int64, float64 were all converted to float64 by StandardScaler.\n"
                },
                {
                    "name": "stdout",
                    "output_type": "stream",
                    "text": "309/309 [==============================] - 0s 781us/step\n"
                },
                {
                    "name": "stderr",
                    "output_type": "stream",
                    "text": "/opt/conda/envs/Python36/lib/python3.6/site-packages/sklearn/preprocessing/data.py:645: DataConversionWarning: Data with input dtype int64, float64 were all converted to float64 by StandardScaler.\n  return self.partial_fit(X, y)\n/opt/conda/envs/Python36/lib/python3.6/site-packages/sklearn/base.py:464: DataConversionWarning: Data with input dtype int64, float64 were all converted to float64 by StandardScaler.\n  return self.fit(X, **fit_params).transform(X)\n/opt/conda/envs/Python36/lib/python3.6/site-packages/ipykernel/__main__.py:8: DataConversionWarning: Data with input dtype int64, float64 were all converted to float64 by StandardScaler.\n"
                },
                {
                    "name": "stdout",
                    "output_type": "stream",
                    "text": "309/309 [==============================] - 1s 4ms/step\n"
                },
                {
                    "name": "stderr",
                    "output_type": "stream",
                    "text": "/opt/conda/envs/Python36/lib/python3.6/site-packages/sklearn/preprocessing/data.py:645: DataConversionWarning: Data with input dtype int64, float64 were all converted to float64 by StandardScaler.\n  return self.partial_fit(X, y)\n/opt/conda/envs/Python36/lib/python3.6/site-packages/sklearn/base.py:464: DataConversionWarning: Data with input dtype int64, float64 were all converted to float64 by StandardScaler.\n  return self.fit(X, **fit_params).transform(X)\n/opt/conda/envs/Python36/lib/python3.6/site-packages/ipykernel/__main__.py:8: DataConversionWarning: Data with input dtype int64, float64 were all converted to float64 by StandardScaler.\n"
                },
                {
                    "name": "stdout",
                    "output_type": "stream",
                    "text": "309/309 [==============================] - 0s 639us/step\n"
                },
                {
                    "name": "stderr",
                    "output_type": "stream",
                    "text": "/opt/conda/envs/Python36/lib/python3.6/site-packages/sklearn/preprocessing/data.py:645: DataConversionWarning: Data with input dtype int64, float64 were all converted to float64 by StandardScaler.\n  return self.partial_fit(X, y)\n/opt/conda/envs/Python36/lib/python3.6/site-packages/sklearn/base.py:464: DataConversionWarning: Data with input dtype int64, float64 were all converted to float64 by StandardScaler.\n  return self.fit(X, **fit_params).transform(X)\n/opt/conda/envs/Python36/lib/python3.6/site-packages/ipykernel/__main__.py:8: DataConversionWarning: Data with input dtype int64, float64 were all converted to float64 by StandardScaler.\n"
                },
                {
                    "name": "stdout",
                    "output_type": "stream",
                    "text": "309/309 [==============================] - 0s 595us/step\n"
                },
                {
                    "name": "stderr",
                    "output_type": "stream",
                    "text": "/opt/conda/envs/Python36/lib/python3.6/site-packages/sklearn/preprocessing/data.py:645: DataConversionWarning: Data with input dtype int64, float64 were all converted to float64 by StandardScaler.\n  return self.partial_fit(X, y)\n/opt/conda/envs/Python36/lib/python3.6/site-packages/sklearn/base.py:464: DataConversionWarning: Data with input dtype int64, float64 were all converted to float64 by StandardScaler.\n  return self.fit(X, **fit_params).transform(X)\n/opt/conda/envs/Python36/lib/python3.6/site-packages/ipykernel/__main__.py:8: DataConversionWarning: Data with input dtype int64, float64 were all converted to float64 by StandardScaler.\n"
                },
                {
                    "name": "stdout",
                    "output_type": "stream",
                    "text": "309/309 [==============================] - 0s 640us/step\n"
                },
                {
                    "name": "stderr",
                    "output_type": "stream",
                    "text": "/opt/conda/envs/Python36/lib/python3.6/site-packages/sklearn/preprocessing/data.py:645: DataConversionWarning: Data with input dtype int64, float64 were all converted to float64 by StandardScaler.\n  return self.partial_fit(X, y)\n/opt/conda/envs/Python36/lib/python3.6/site-packages/sklearn/base.py:464: DataConversionWarning: Data with input dtype int64, float64 were all converted to float64 by StandardScaler.\n  return self.fit(X, **fit_params).transform(X)\n/opt/conda/envs/Python36/lib/python3.6/site-packages/ipykernel/__main__.py:8: DataConversionWarning: Data with input dtype int64, float64 were all converted to float64 by StandardScaler.\n"
                },
                {
                    "name": "stdout",
                    "output_type": "stream",
                    "text": "309/309 [==============================] - 0s 648us/step\n"
                },
                {
                    "name": "stderr",
                    "output_type": "stream",
                    "text": "/opt/conda/envs/Python36/lib/python3.6/site-packages/sklearn/preprocessing/data.py:645: DataConversionWarning: Data with input dtype int64, float64 were all converted to float64 by StandardScaler.\n  return self.partial_fit(X, y)\n/opt/conda/envs/Python36/lib/python3.6/site-packages/sklearn/base.py:464: DataConversionWarning: Data with input dtype int64, float64 were all converted to float64 by StandardScaler.\n  return self.fit(X, **fit_params).transform(X)\n/opt/conda/envs/Python36/lib/python3.6/site-packages/ipykernel/__main__.py:8: DataConversionWarning: Data with input dtype int64, float64 were all converted to float64 by StandardScaler.\n"
                },
                {
                    "name": "stdout",
                    "output_type": "stream",
                    "text": "309/309 [==============================] - 0s 584us/step\n"
                },
                {
                    "name": "stderr",
                    "output_type": "stream",
                    "text": "/opt/conda/envs/Python36/lib/python3.6/site-packages/sklearn/preprocessing/data.py:645: DataConversionWarning: Data with input dtype int64, float64 were all converted to float64 by StandardScaler.\n  return self.partial_fit(X, y)\n/opt/conda/envs/Python36/lib/python3.6/site-packages/sklearn/base.py:464: DataConversionWarning: Data with input dtype int64, float64 were all converted to float64 by StandardScaler.\n  return self.fit(X, **fit_params).transform(X)\n/opt/conda/envs/Python36/lib/python3.6/site-packages/ipykernel/__main__.py:8: DataConversionWarning: Data with input dtype int64, float64 were all converted to float64 by StandardScaler.\n"
                },
                {
                    "name": "stdout",
                    "output_type": "stream",
                    "text": "309/309 [==============================] - 0s 690us/step\n"
                },
                {
                    "name": "stderr",
                    "output_type": "stream",
                    "text": "/opt/conda/envs/Python36/lib/python3.6/site-packages/sklearn/preprocessing/data.py:645: DataConversionWarning: Data with input dtype int64, float64 were all converted to float64 by StandardScaler.\n  return self.partial_fit(X, y)\n/opt/conda/envs/Python36/lib/python3.6/site-packages/sklearn/base.py:464: DataConversionWarning: Data with input dtype int64, float64 were all converted to float64 by StandardScaler.\n  return self.fit(X, **fit_params).transform(X)\n/opt/conda/envs/Python36/lib/python3.6/site-packages/ipykernel/__main__.py:8: DataConversionWarning: Data with input dtype int64, float64 were all converted to float64 by StandardScaler.\n"
                },
                {
                    "name": "stdout",
                    "output_type": "stream",
                    "text": "309/309 [==============================] - 0s 648us/step\n"
                },
                {
                    "name": "stderr",
                    "output_type": "stream",
                    "text": "/opt/conda/envs/Python36/lib/python3.6/site-packages/sklearn/preprocessing/data.py:645: DataConversionWarning: Data with input dtype int64, float64 were all converted to float64 by StandardScaler.\n  return self.partial_fit(X, y)\n/opt/conda/envs/Python36/lib/python3.6/site-packages/sklearn/base.py:464: DataConversionWarning: Data with input dtype int64, float64 were all converted to float64 by StandardScaler.\n  return self.fit(X, **fit_params).transform(X)\n/opt/conda/envs/Python36/lib/python3.6/site-packages/ipykernel/__main__.py:8: DataConversionWarning: Data with input dtype int64, float64 were all converted to float64 by StandardScaler.\n"
                },
                {
                    "name": "stdout",
                    "output_type": "stream",
                    "text": "309/309 [==============================] - 0s 497us/step\n"
                },
                {
                    "name": "stderr",
                    "output_type": "stream",
                    "text": "/opt/conda/envs/Python36/lib/python3.6/site-packages/sklearn/preprocessing/data.py:645: DataConversionWarning: Data with input dtype int64, float64 were all converted to float64 by StandardScaler.\n  return self.partial_fit(X, y)\n/opt/conda/envs/Python36/lib/python3.6/site-packages/sklearn/base.py:464: DataConversionWarning: Data with input dtype int64, float64 were all converted to float64 by StandardScaler.\n  return self.fit(X, **fit_params).transform(X)\n/opt/conda/envs/Python36/lib/python3.6/site-packages/ipykernel/__main__.py:8: DataConversionWarning: Data with input dtype int64, float64 were all converted to float64 by StandardScaler.\n"
                },
                {
                    "name": "stdout",
                    "output_type": "stream",
                    "text": "309/309 [==============================] - 0s 624us/step\n"
                },
                {
                    "name": "stderr",
                    "output_type": "stream",
                    "text": "/opt/conda/envs/Python36/lib/python3.6/site-packages/sklearn/preprocessing/data.py:645: DataConversionWarning: Data with input dtype int64, float64 were all converted to float64 by StandardScaler.\n  return self.partial_fit(X, y)\n/opt/conda/envs/Python36/lib/python3.6/site-packages/sklearn/base.py:464: DataConversionWarning: Data with input dtype int64, float64 were all converted to float64 by StandardScaler.\n  return self.fit(X, **fit_params).transform(X)\n/opt/conda/envs/Python36/lib/python3.6/site-packages/ipykernel/__main__.py:8: DataConversionWarning: Data with input dtype int64, float64 were all converted to float64 by StandardScaler.\n"
                },
                {
                    "name": "stdout",
                    "output_type": "stream",
                    "text": "309/309 [==============================] - 0s 649us/step\n"
                },
                {
                    "name": "stderr",
                    "output_type": "stream",
                    "text": "/opt/conda/envs/Python36/lib/python3.6/site-packages/sklearn/preprocessing/data.py:645: DataConversionWarning: Data with input dtype int64, float64 were all converted to float64 by StandardScaler.\n  return self.partial_fit(X, y)\n/opt/conda/envs/Python36/lib/python3.6/site-packages/sklearn/base.py:464: DataConversionWarning: Data with input dtype int64, float64 were all converted to float64 by StandardScaler.\n  return self.fit(X, **fit_params).transform(X)\n/opt/conda/envs/Python36/lib/python3.6/site-packages/ipykernel/__main__.py:8: DataConversionWarning: Data with input dtype int64, float64 were all converted to float64 by StandardScaler.\n"
                },
                {
                    "name": "stdout",
                    "output_type": "stream",
                    "text": "309/309 [==============================] - 0s 657us/step\n"
                },
                {
                    "name": "stderr",
                    "output_type": "stream",
                    "text": "/opt/conda/envs/Python36/lib/python3.6/site-packages/sklearn/preprocessing/data.py:645: DataConversionWarning: Data with input dtype int64, float64 were all converted to float64 by StandardScaler.\n  return self.partial_fit(X, y)\n/opt/conda/envs/Python36/lib/python3.6/site-packages/sklearn/base.py:464: DataConversionWarning: Data with input dtype int64, float64 were all converted to float64 by StandardScaler.\n  return self.fit(X, **fit_params).transform(X)\n/opt/conda/envs/Python36/lib/python3.6/site-packages/ipykernel/__main__.py:8: DataConversionWarning: Data with input dtype int64, float64 were all converted to float64 by StandardScaler.\n"
                },
                {
                    "name": "stdout",
                    "output_type": "stream",
                    "text": "309/309 [==============================] - 0s 594us/step\n"
                },
                {
                    "name": "stderr",
                    "output_type": "stream",
                    "text": "/opt/conda/envs/Python36/lib/python3.6/site-packages/sklearn/preprocessing/data.py:645: DataConversionWarning: Data with input dtype int64, float64 were all converted to float64 by StandardScaler.\n  return self.partial_fit(X, y)\n/opt/conda/envs/Python36/lib/python3.6/site-packages/sklearn/base.py:464: DataConversionWarning: Data with input dtype int64, float64 were all converted to float64 by StandardScaler.\n  return self.fit(X, **fit_params).transform(X)\n/opt/conda/envs/Python36/lib/python3.6/site-packages/ipykernel/__main__.py:8: DataConversionWarning: Data with input dtype int64, float64 were all converted to float64 by StandardScaler.\n"
                },
                {
                    "name": "stdout",
                    "output_type": "stream",
                    "text": "309/309 [==============================] - 0s 699us/step\n"
                },
                {
                    "name": "stderr",
                    "output_type": "stream",
                    "text": "/opt/conda/envs/Python36/lib/python3.6/site-packages/sklearn/preprocessing/data.py:645: DataConversionWarning: Data with input dtype int64, float64 were all converted to float64 by StandardScaler.\n  return self.partial_fit(X, y)\n/opt/conda/envs/Python36/lib/python3.6/site-packages/sklearn/base.py:464: DataConversionWarning: Data with input dtype int64, float64 were all converted to float64 by StandardScaler.\n  return self.fit(X, **fit_params).transform(X)\n/opt/conda/envs/Python36/lib/python3.6/site-packages/ipykernel/__main__.py:8: DataConversionWarning: Data with input dtype int64, float64 were all converted to float64 by StandardScaler.\n"
                },
                {
                    "name": "stdout",
                    "output_type": "stream",
                    "text": "309/309 [==============================] - 0s 609us/step\n"
                },
                {
                    "name": "stderr",
                    "output_type": "stream",
                    "text": "/opt/conda/envs/Python36/lib/python3.6/site-packages/sklearn/preprocessing/data.py:645: DataConversionWarning: Data with input dtype int64, float64 were all converted to float64 by StandardScaler.\n  return self.partial_fit(X, y)\n/opt/conda/envs/Python36/lib/python3.6/site-packages/sklearn/base.py:464: DataConversionWarning: Data with input dtype int64, float64 were all converted to float64 by StandardScaler.\n  return self.fit(X, **fit_params).transform(X)\n/opt/conda/envs/Python36/lib/python3.6/site-packages/ipykernel/__main__.py:8: DataConversionWarning: Data with input dtype int64, float64 were all converted to float64 by StandardScaler.\n"
                },
                {
                    "name": "stdout",
                    "output_type": "stream",
                    "text": "309/309 [==============================] - 0s 638us/step\n"
                },
                {
                    "name": "stderr",
                    "output_type": "stream",
                    "text": "/opt/conda/envs/Python36/lib/python3.6/site-packages/sklearn/preprocessing/data.py:645: DataConversionWarning: Data with input dtype int64, float64 were all converted to float64 by StandardScaler.\n  return self.partial_fit(X, y)\n/opt/conda/envs/Python36/lib/python3.6/site-packages/sklearn/base.py:464: DataConversionWarning: Data with input dtype int64, float64 were all converted to float64 by StandardScaler.\n  return self.fit(X, **fit_params).transform(X)\n/opt/conda/envs/Python36/lib/python3.6/site-packages/ipykernel/__main__.py:8: DataConversionWarning: Data with input dtype int64, float64 were all converted to float64 by StandardScaler.\n"
                },
                {
                    "name": "stdout",
                    "output_type": "stream",
                    "text": "309/309 [==============================] - 0s 640us/step\n"
                },
                {
                    "name": "stderr",
                    "output_type": "stream",
                    "text": "/opt/conda/envs/Python36/lib/python3.6/site-packages/sklearn/preprocessing/data.py:645: DataConversionWarning: Data with input dtype int64, float64 were all converted to float64 by StandardScaler.\n  return self.partial_fit(X, y)\n/opt/conda/envs/Python36/lib/python3.6/site-packages/sklearn/base.py:464: DataConversionWarning: Data with input dtype int64, float64 were all converted to float64 by StandardScaler.\n  return self.fit(X, **fit_params).transform(X)\n/opt/conda/envs/Python36/lib/python3.6/site-packages/ipykernel/__main__.py:8: DataConversionWarning: Data with input dtype int64, float64 were all converted to float64 by StandardScaler.\n"
                },
                {
                    "name": "stdout",
                    "output_type": "stream",
                    "text": "309/309 [==============================] - 0s 648us/step\n"
                },
                {
                    "name": "stderr",
                    "output_type": "stream",
                    "text": "/opt/conda/envs/Python36/lib/python3.6/site-packages/sklearn/preprocessing/data.py:645: DataConversionWarning: Data with input dtype int64, float64 were all converted to float64 by StandardScaler.\n  return self.partial_fit(X, y)\n/opt/conda/envs/Python36/lib/python3.6/site-packages/sklearn/base.py:464: DataConversionWarning: Data with input dtype int64, float64 were all converted to float64 by StandardScaler.\n  return self.fit(X, **fit_params).transform(X)\n/opt/conda/envs/Python36/lib/python3.6/site-packages/ipykernel/__main__.py:8: DataConversionWarning: Data with input dtype int64, float64 were all converted to float64 by StandardScaler.\n"
                },
                {
                    "name": "stdout",
                    "output_type": "stream",
                    "text": "309/309 [==============================] - 0s 547us/step\n"
                },
                {
                    "name": "stderr",
                    "output_type": "stream",
                    "text": "/opt/conda/envs/Python36/lib/python3.6/site-packages/sklearn/preprocessing/data.py:645: DataConversionWarning: Data with input dtype int64, float64 were all converted to float64 by StandardScaler.\n  return self.partial_fit(X, y)\n/opt/conda/envs/Python36/lib/python3.6/site-packages/sklearn/base.py:464: DataConversionWarning: Data with input dtype int64, float64 were all converted to float64 by StandardScaler.\n  return self.fit(X, **fit_params).transform(X)\n/opt/conda/envs/Python36/lib/python3.6/site-packages/ipykernel/__main__.py:8: DataConversionWarning: Data with input dtype int64, float64 were all converted to float64 by StandardScaler.\n"
                },
                {
                    "name": "stdout",
                    "output_type": "stream",
                    "text": "309/309 [==============================] - 0s 736us/step\n"
                },
                {
                    "name": "stderr",
                    "output_type": "stream",
                    "text": "/opt/conda/envs/Python36/lib/python3.6/site-packages/sklearn/preprocessing/data.py:645: DataConversionWarning: Data with input dtype int64, float64 were all converted to float64 by StandardScaler.\n  return self.partial_fit(X, y)\n/opt/conda/envs/Python36/lib/python3.6/site-packages/sklearn/base.py:464: DataConversionWarning: Data with input dtype int64, float64 were all converted to float64 by StandardScaler.\n  return self.fit(X, **fit_params).transform(X)\n/opt/conda/envs/Python36/lib/python3.6/site-packages/ipykernel/__main__.py:8: DataConversionWarning: Data with input dtype int64, float64 were all converted to float64 by StandardScaler.\n"
                },
                {
                    "name": "stdout",
                    "output_type": "stream",
                    "text": "309/309 [==============================] - 0s 666us/step\n"
                },
                {
                    "name": "stderr",
                    "output_type": "stream",
                    "text": "/opt/conda/envs/Python36/lib/python3.6/site-packages/sklearn/preprocessing/data.py:645: DataConversionWarning: Data with input dtype int64, float64 were all converted to float64 by StandardScaler.\n  return self.partial_fit(X, y)\n/opt/conda/envs/Python36/lib/python3.6/site-packages/sklearn/base.py:464: DataConversionWarning: Data with input dtype int64, float64 were all converted to float64 by StandardScaler.\n  return self.fit(X, **fit_params).transform(X)\n/opt/conda/envs/Python36/lib/python3.6/site-packages/ipykernel/__main__.py:8: DataConversionWarning: Data with input dtype int64, float64 were all converted to float64 by StandardScaler.\n"
                },
                {
                    "name": "stdout",
                    "output_type": "stream",
                    "text": "309/309 [==============================] - 0s 640us/step\n"
                },
                {
                    "name": "stderr",
                    "output_type": "stream",
                    "text": "/opt/conda/envs/Python36/lib/python3.6/site-packages/sklearn/preprocessing/data.py:645: DataConversionWarning: Data with input dtype int64, float64 were all converted to float64 by StandardScaler.\n  return self.partial_fit(X, y)\n/opt/conda/envs/Python36/lib/python3.6/site-packages/sklearn/base.py:464: DataConversionWarning: Data with input dtype int64, float64 were all converted to float64 by StandardScaler.\n  return self.fit(X, **fit_params).transform(X)\n/opt/conda/envs/Python36/lib/python3.6/site-packages/ipykernel/__main__.py:8: DataConversionWarning: Data with input dtype int64, float64 were all converted to float64 by StandardScaler.\n"
                },
                {
                    "name": "stdout",
                    "output_type": "stream",
                    "text": "309/309 [==============================] - 0s 643us/step\n"
                },
                {
                    "name": "stderr",
                    "output_type": "stream",
                    "text": "/opt/conda/envs/Python36/lib/python3.6/site-packages/sklearn/preprocessing/data.py:645: DataConversionWarning: Data with input dtype int64, float64 were all converted to float64 by StandardScaler.\n  return self.partial_fit(X, y)\n/opt/conda/envs/Python36/lib/python3.6/site-packages/sklearn/base.py:464: DataConversionWarning: Data with input dtype int64, float64 were all converted to float64 by StandardScaler.\n  return self.fit(X, **fit_params).transform(X)\n/opt/conda/envs/Python36/lib/python3.6/site-packages/ipykernel/__main__.py:8: DataConversionWarning: Data with input dtype int64, float64 were all converted to float64 by StandardScaler.\n"
                },
                {
                    "name": "stdout",
                    "output_type": "stream",
                    "text": "309/309 [==============================] - 0s 597us/step\n"
                },
                {
                    "name": "stderr",
                    "output_type": "stream",
                    "text": "/opt/conda/envs/Python36/lib/python3.6/site-packages/sklearn/preprocessing/data.py:645: DataConversionWarning: Data with input dtype int64, float64 were all converted to float64 by StandardScaler.\n  return self.partial_fit(X, y)\n/opt/conda/envs/Python36/lib/python3.6/site-packages/sklearn/base.py:464: DataConversionWarning: Data with input dtype int64, float64 were all converted to float64 by StandardScaler.\n  return self.fit(X, **fit_params).transform(X)\n/opt/conda/envs/Python36/lib/python3.6/site-packages/ipykernel/__main__.py:8: DataConversionWarning: Data with input dtype int64, float64 were all converted to float64 by StandardScaler.\n"
                },
                {
                    "name": "stdout",
                    "output_type": "stream",
                    "text": "309/309 [==============================] - 0s 653us/step\n"
                },
                {
                    "name": "stderr",
                    "output_type": "stream",
                    "text": "/opt/conda/envs/Python36/lib/python3.6/site-packages/sklearn/preprocessing/data.py:645: DataConversionWarning: Data with input dtype int64, float64 were all converted to float64 by StandardScaler.\n  return self.partial_fit(X, y)\n/opt/conda/envs/Python36/lib/python3.6/site-packages/sklearn/base.py:464: DataConversionWarning: Data with input dtype int64, float64 were all converted to float64 by StandardScaler.\n  return self.fit(X, **fit_params).transform(X)\n/opt/conda/envs/Python36/lib/python3.6/site-packages/ipykernel/__main__.py:8: DataConversionWarning: Data with input dtype int64, float64 were all converted to float64 by StandardScaler.\n"
                },
                {
                    "name": "stdout",
                    "output_type": "stream",
                    "text": "309/309 [==============================] - 0s 618us/step\n"
                },
                {
                    "name": "stderr",
                    "output_type": "stream",
                    "text": "/opt/conda/envs/Python36/lib/python3.6/site-packages/sklearn/preprocessing/data.py:645: DataConversionWarning: Data with input dtype int64, float64 were all converted to float64 by StandardScaler.\n  return self.partial_fit(X, y)\n/opt/conda/envs/Python36/lib/python3.6/site-packages/sklearn/base.py:464: DataConversionWarning: Data with input dtype int64, float64 were all converted to float64 by StandardScaler.\n  return self.fit(X, **fit_params).transform(X)\n/opt/conda/envs/Python36/lib/python3.6/site-packages/ipykernel/__main__.py:8: DataConversionWarning: Data with input dtype int64, float64 were all converted to float64 by StandardScaler.\n"
                },
                {
                    "name": "stdout",
                    "output_type": "stream",
                    "text": "309/309 [==============================] - 0s 640us/step\n"
                },
                {
                    "name": "stderr",
                    "output_type": "stream",
                    "text": "/opt/conda/envs/Python36/lib/python3.6/site-packages/sklearn/preprocessing/data.py:645: DataConversionWarning: Data with input dtype int64, float64 were all converted to float64 by StandardScaler.\n  return self.partial_fit(X, y)\n/opt/conda/envs/Python36/lib/python3.6/site-packages/sklearn/base.py:464: DataConversionWarning: Data with input dtype int64, float64 were all converted to float64 by StandardScaler.\n  return self.fit(X, **fit_params).transform(X)\n/opt/conda/envs/Python36/lib/python3.6/site-packages/ipykernel/__main__.py:8: DataConversionWarning: Data with input dtype int64, float64 were all converted to float64 by StandardScaler.\n"
                },
                {
                    "name": "stdout",
                    "output_type": "stream",
                    "text": "309/309 [==============================] - 0s 582us/step\n"
                },
                {
                    "name": "stderr",
                    "output_type": "stream",
                    "text": "/opt/conda/envs/Python36/lib/python3.6/site-packages/sklearn/preprocessing/data.py:645: DataConversionWarning: Data with input dtype int64, float64 were all converted to float64 by StandardScaler.\n  return self.partial_fit(X, y)\n/opt/conda/envs/Python36/lib/python3.6/site-packages/sklearn/base.py:464: DataConversionWarning: Data with input dtype int64, float64 were all converted to float64 by StandardScaler.\n  return self.fit(X, **fit_params).transform(X)\n/opt/conda/envs/Python36/lib/python3.6/site-packages/ipykernel/__main__.py:8: DataConversionWarning: Data with input dtype int64, float64 were all converted to float64 by StandardScaler.\n"
                },
                {
                    "name": "stdout",
                    "output_type": "stream",
                    "text": "309/309 [==============================] - 0s 661us/step\n"
                },
                {
                    "name": "stderr",
                    "output_type": "stream",
                    "text": "/opt/conda/envs/Python36/lib/python3.6/site-packages/sklearn/preprocessing/data.py:645: DataConversionWarning: Data with input dtype int64, float64 were all converted to float64 by StandardScaler.\n  return self.partial_fit(X, y)\n/opt/conda/envs/Python36/lib/python3.6/site-packages/sklearn/base.py:464: DataConversionWarning: Data with input dtype int64, float64 were all converted to float64 by StandardScaler.\n  return self.fit(X, **fit_params).transform(X)\n/opt/conda/envs/Python36/lib/python3.6/site-packages/ipykernel/__main__.py:8: DataConversionWarning: Data with input dtype int64, float64 were all converted to float64 by StandardScaler.\n"
                },
                {
                    "name": "stdout",
                    "output_type": "stream",
                    "text": "309/309 [==============================] - 0s 577us/step\n"
                },
                {
                    "name": "stderr",
                    "output_type": "stream",
                    "text": "/opt/conda/envs/Python36/lib/python3.6/site-packages/sklearn/preprocessing/data.py:645: DataConversionWarning: Data with input dtype int64, float64 were all converted to float64 by StandardScaler.\n  return self.partial_fit(X, y)\n/opt/conda/envs/Python36/lib/python3.6/site-packages/sklearn/base.py:464: DataConversionWarning: Data with input dtype int64, float64 were all converted to float64 by StandardScaler.\n  return self.fit(X, **fit_params).transform(X)\n/opt/conda/envs/Python36/lib/python3.6/site-packages/ipykernel/__main__.py:8: DataConversionWarning: Data with input dtype int64, float64 were all converted to float64 by StandardScaler.\n"
                },
                {
                    "name": "stdout",
                    "output_type": "stream",
                    "text": "309/309 [==============================] - 0s 590us/step\n"
                },
                {
                    "name": "stderr",
                    "output_type": "stream",
                    "text": "/opt/conda/envs/Python36/lib/python3.6/site-packages/sklearn/preprocessing/data.py:645: DataConversionWarning: Data with input dtype int64, float64 were all converted to float64 by StandardScaler.\n  return self.partial_fit(X, y)\n/opt/conda/envs/Python36/lib/python3.6/site-packages/sklearn/base.py:464: DataConversionWarning: Data with input dtype int64, float64 were all converted to float64 by StandardScaler.\n  return self.fit(X, **fit_params).transform(X)\n/opt/conda/envs/Python36/lib/python3.6/site-packages/ipykernel/__main__.py:8: DataConversionWarning: Data with input dtype int64, float64 were all converted to float64 by StandardScaler.\n"
                },
                {
                    "name": "stdout",
                    "output_type": "stream",
                    "text": "309/309 [==============================] - 1s 3ms/step\n"
                },
                {
                    "name": "stderr",
                    "output_type": "stream",
                    "text": "/opt/conda/envs/Python36/lib/python3.6/site-packages/sklearn/preprocessing/data.py:645: DataConversionWarning: Data with input dtype int64, float64 were all converted to float64 by StandardScaler.\n  return self.partial_fit(X, y)\n/opt/conda/envs/Python36/lib/python3.6/site-packages/sklearn/base.py:464: DataConversionWarning: Data with input dtype int64, float64 were all converted to float64 by StandardScaler.\n  return self.fit(X, **fit_params).transform(X)\n/opt/conda/envs/Python36/lib/python3.6/site-packages/ipykernel/__main__.py:8: DataConversionWarning: Data with input dtype int64, float64 were all converted to float64 by StandardScaler.\n"
                },
                {
                    "name": "stdout",
                    "output_type": "stream",
                    "text": "309/309 [==============================] - 0s 639us/step\n"
                },
                {
                    "name": "stderr",
                    "output_type": "stream",
                    "text": "/opt/conda/envs/Python36/lib/python3.6/site-packages/sklearn/preprocessing/data.py:645: DataConversionWarning: Data with input dtype int64, float64 were all converted to float64 by StandardScaler.\n  return self.partial_fit(X, y)\n/opt/conda/envs/Python36/lib/python3.6/site-packages/sklearn/base.py:464: DataConversionWarning: Data with input dtype int64, float64 were all converted to float64 by StandardScaler.\n  return self.fit(X, **fit_params).transform(X)\n/opt/conda/envs/Python36/lib/python3.6/site-packages/ipykernel/__main__.py:8: DataConversionWarning: Data with input dtype int64, float64 were all converted to float64 by StandardScaler.\n"
                },
                {
                    "name": "stdout",
                    "output_type": "stream",
                    "text": "309/309 [==============================] - 0s 588us/step\n"
                },
                {
                    "name": "stderr",
                    "output_type": "stream",
                    "text": "/opt/conda/envs/Python36/lib/python3.6/site-packages/sklearn/preprocessing/data.py:645: DataConversionWarning: Data with input dtype int64, float64 were all converted to float64 by StandardScaler.\n  return self.partial_fit(X, y)\n/opt/conda/envs/Python36/lib/python3.6/site-packages/sklearn/base.py:464: DataConversionWarning: Data with input dtype int64, float64 were all converted to float64 by StandardScaler.\n  return self.fit(X, **fit_params).transform(X)\n/opt/conda/envs/Python36/lib/python3.6/site-packages/ipykernel/__main__.py:8: DataConversionWarning: Data with input dtype int64, float64 were all converted to float64 by StandardScaler.\n"
                },
                {
                    "name": "stdout",
                    "output_type": "stream",
                    "text": "309/309 [==============================] - 0s 667us/step\n"
                },
                {
                    "name": "stderr",
                    "output_type": "stream",
                    "text": "/opt/conda/envs/Python36/lib/python3.6/site-packages/sklearn/preprocessing/data.py:645: DataConversionWarning: Data with input dtype int64, float64 were all converted to float64 by StandardScaler.\n  return self.partial_fit(X, y)\n/opt/conda/envs/Python36/lib/python3.6/site-packages/sklearn/base.py:464: DataConversionWarning: Data with input dtype int64, float64 were all converted to float64 by StandardScaler.\n  return self.fit(X, **fit_params).transform(X)\n/opt/conda/envs/Python36/lib/python3.6/site-packages/ipykernel/__main__.py:8: DataConversionWarning: Data with input dtype int64, float64 were all converted to float64 by StandardScaler.\n"
                },
                {
                    "name": "stdout",
                    "output_type": "stream",
                    "text": "309/309 [==============================] - 0s 632us/step\n"
                },
                {
                    "name": "stderr",
                    "output_type": "stream",
                    "text": "/opt/conda/envs/Python36/lib/python3.6/site-packages/sklearn/preprocessing/data.py:645: DataConversionWarning: Data with input dtype int64, float64 were all converted to float64 by StandardScaler.\n  return self.partial_fit(X, y)\n/opt/conda/envs/Python36/lib/python3.6/site-packages/sklearn/base.py:464: DataConversionWarning: Data with input dtype int64, float64 were all converted to float64 by StandardScaler.\n  return self.fit(X, **fit_params).transform(X)\n/opt/conda/envs/Python36/lib/python3.6/site-packages/ipykernel/__main__.py:8: DataConversionWarning: Data with input dtype int64, float64 were all converted to float64 by StandardScaler.\n"
                },
                {
                    "name": "stdout",
                    "output_type": "stream",
                    "text": "309/309 [==============================] - 0s 632us/step\n[37.12610995345131, 36.92051421477185, 36.87060029606989, 36.599463021485164, 36.390522305633645, 36.35888245962199, 36.14183976503637, 35.92385005642295, 35.80554187490716, 35.94445229193925, 36.126399722299915, 36.22586053397663, 36.5432181867581, 36.72215076557641, 36.806350430238595, 36.670809588386014, 36.64090134950903, 36.558419718325716, 36.66679050235687, 36.75472711976678, 36.76039858080423, 36.74791418155806, 36.82435583836824, 36.91362459991356, 36.81842708896279, 36.9326004596204, 36.892431333227066, 36.81010695645724, 36.78645719756586, 36.754322391497666, 36.77071638631975, 36.6947091852577, 36.53944442650261, 36.25598948210188, 36.25934165041038, 36.201943764794606, 36.13289150373836, 36.26971416411662, 36.276569403490974, 36.268445413089495, 36.200310845976894, 36.0578406682678, 35.98747767599655, 36.122117527094474, 36.05958104673713, 35.950155085344534, 36.032210451885334, 36.01729509668443, 36.09138030758953, 36.04236489823721]\n"
                }
            ],
            "source": "# set up list of mse which will append the results for eah run of the model and evaluation.\nmse=[]\ni=0\nfor i in range (50):\n    X_train, X_test, y_train, y_test = train_test_split(predictors, target, test_size= 0.3, random_state = 0)\n    scale = StandardScaler()\n    X_train_s = scale.fit_transform(X_train)\n    X_test_s = scale.transform(X_test)\n    model.fit( x=X_train_s, y=y_train, epochs=100, verbose=0)\n    results = model.evaluate(X_test_s, y_test, batch_size=8)\n    mse.append(results) \n    i = i + 1\nprint(mse)  "
        },
        {
            "cell_type": "code",
            "execution_count": 18,
            "metadata": {},
            "outputs": [
                {
                    "name": "stdout",
                    "output_type": "stream",
                    "text": "mean_mse: 36.445370835362894\nstd deviation:  0.34846984168018824\n"
                }
            ],
            "source": "# Apply statistics to the mse list collected using numpy.\nimport numpy as np\nmean_mse = np.mean(mse)\nstd_mse = np.std(mse)\nprint('mean_mse:', mean_mse)\nprint('std deviation: ' , std_mse)"
        },
        {
            "cell_type": "markdown",
            "metadata": {},
            "source": "## For Part D, we build model with 3 hidden layers and 10 nodes in each with ReLU activation function. Then repeat Part B."
        },
        {
            "cell_type": "markdown",
            "metadata": {},
            "source": "## First we build and compile the new model"
        },
        {
            "cell_type": "code",
            "execution_count": 19,
            "metadata": {},
            "outputs": [],
            "source": "# call model model_2\n\nmodel_2 = Sequential()\nmodel_2.add(Dense(10, activation='relu',input_shape=(n_cols, ),))\nmodel_2.add(Dense(10, activation = 'relu'))\nmodel_2.add(Dense(10, activation = 'relu'))\nmodel_2.add(Dense(1))"
        },
        {
            "cell_type": "code",
            "execution_count": 20,
            "metadata": {},
            "outputs": [],
            "source": "# Compile the model_2\nmodel_2.compile(optimizer='adam',loss='mean_squared_error')"
        },
        {
            "cell_type": "markdown",
            "metadata": {},
            "source": "## Then we train and evaluate the model 50 times "
        },
        {
            "cell_type": "code",
            "execution_count": 21,
            "metadata": {},
            "outputs": [
                {
                    "name": "stderr",
                    "output_type": "stream",
                    "text": "/opt/conda/envs/Python36/lib/python3.6/site-packages/sklearn/preprocessing/data.py:645: DataConversionWarning: Data with input dtype int64, float64 were all converted to float64 by StandardScaler.\n  return self.partial_fit(X, y)\n/opt/conda/envs/Python36/lib/python3.6/site-packages/sklearn/base.py:464: DataConversionWarning: Data with input dtype int64, float64 were all converted to float64 by StandardScaler.\n  return self.fit(X, **fit_params).transform(X)\n/opt/conda/envs/Python36/lib/python3.6/site-packages/ipykernel/__main__.py:8: DataConversionWarning: Data with input dtype int64, float64 were all converted to float64 by StandardScaler.\n"
                },
                {
                    "name": "stdout",
                    "output_type": "stream",
                    "text": "309/309 [==============================] - 1s 2ms/step\n"
                },
                {
                    "name": "stderr",
                    "output_type": "stream",
                    "text": "/opt/conda/envs/Python36/lib/python3.6/site-packages/sklearn/preprocessing/data.py:645: DataConversionWarning: Data with input dtype int64, float64 were all converted to float64 by StandardScaler.\n  return self.partial_fit(X, y)\n/opt/conda/envs/Python36/lib/python3.6/site-packages/sklearn/base.py:464: DataConversionWarning: Data with input dtype int64, float64 were all converted to float64 by StandardScaler.\n  return self.fit(X, **fit_params).transform(X)\n/opt/conda/envs/Python36/lib/python3.6/site-packages/ipykernel/__main__.py:8: DataConversionWarning: Data with input dtype int64, float64 were all converted to float64 by StandardScaler.\n"
                },
                {
                    "name": "stdout",
                    "output_type": "stream",
                    "text": "309/309 [==============================] - 1s 2ms/step\n"
                },
                {
                    "name": "stderr",
                    "output_type": "stream",
                    "text": "/opt/conda/envs/Python36/lib/python3.6/site-packages/sklearn/preprocessing/data.py:645: DataConversionWarning: Data with input dtype int64, float64 were all converted to float64 by StandardScaler.\n  return self.partial_fit(X, y)\n/opt/conda/envs/Python36/lib/python3.6/site-packages/sklearn/base.py:464: DataConversionWarning: Data with input dtype int64, float64 were all converted to float64 by StandardScaler.\n  return self.fit(X, **fit_params).transform(X)\n/opt/conda/envs/Python36/lib/python3.6/site-packages/ipykernel/__main__.py:8: DataConversionWarning: Data with input dtype int64, float64 were all converted to float64 by StandardScaler.\n"
                },
                {
                    "name": "stdout",
                    "output_type": "stream",
                    "text": "309/309 [==============================] - 1s 2ms/step\n"
                },
                {
                    "name": "stderr",
                    "output_type": "stream",
                    "text": "/opt/conda/envs/Python36/lib/python3.6/site-packages/sklearn/preprocessing/data.py:645: DataConversionWarning: Data with input dtype int64, float64 were all converted to float64 by StandardScaler.\n  return self.partial_fit(X, y)\n/opt/conda/envs/Python36/lib/python3.6/site-packages/sklearn/base.py:464: DataConversionWarning: Data with input dtype int64, float64 were all converted to float64 by StandardScaler.\n  return self.fit(X, **fit_params).transform(X)\n/opt/conda/envs/Python36/lib/python3.6/site-packages/ipykernel/__main__.py:8: DataConversionWarning: Data with input dtype int64, float64 were all converted to float64 by StandardScaler.\n"
                },
                {
                    "name": "stdout",
                    "output_type": "stream",
                    "text": "309/309 [==============================] - 1s 2ms/step\n"
                },
                {
                    "name": "stderr",
                    "output_type": "stream",
                    "text": "/opt/conda/envs/Python36/lib/python3.6/site-packages/sklearn/preprocessing/data.py:645: DataConversionWarning: Data with input dtype int64, float64 were all converted to float64 by StandardScaler.\n  return self.partial_fit(X, y)\n/opt/conda/envs/Python36/lib/python3.6/site-packages/sklearn/base.py:464: DataConversionWarning: Data with input dtype int64, float64 were all converted to float64 by StandardScaler.\n  return self.fit(X, **fit_params).transform(X)\n/opt/conda/envs/Python36/lib/python3.6/site-packages/ipykernel/__main__.py:8: DataConversionWarning: Data with input dtype int64, float64 were all converted to float64 by StandardScaler.\n"
                },
                {
                    "name": "stdout",
                    "output_type": "stream",
                    "text": "309/309 [==============================] - 1s 2ms/step\n"
                },
                {
                    "name": "stderr",
                    "output_type": "stream",
                    "text": "/opt/conda/envs/Python36/lib/python3.6/site-packages/sklearn/preprocessing/data.py:645: DataConversionWarning: Data with input dtype int64, float64 were all converted to float64 by StandardScaler.\n  return self.partial_fit(X, y)\n/opt/conda/envs/Python36/lib/python3.6/site-packages/sklearn/base.py:464: DataConversionWarning: Data with input dtype int64, float64 were all converted to float64 by StandardScaler.\n  return self.fit(X, **fit_params).transform(X)\n/opt/conda/envs/Python36/lib/python3.6/site-packages/ipykernel/__main__.py:8: DataConversionWarning: Data with input dtype int64, float64 were all converted to float64 by StandardScaler.\n"
                },
                {
                    "name": "stdout",
                    "output_type": "stream",
                    "text": "309/309 [==============================] - 1s 2ms/step\n"
                },
                {
                    "name": "stderr",
                    "output_type": "stream",
                    "text": "/opt/conda/envs/Python36/lib/python3.6/site-packages/sklearn/preprocessing/data.py:645: DataConversionWarning: Data with input dtype int64, float64 were all converted to float64 by StandardScaler.\n  return self.partial_fit(X, y)\n/opt/conda/envs/Python36/lib/python3.6/site-packages/sklearn/base.py:464: DataConversionWarning: Data with input dtype int64, float64 were all converted to float64 by StandardScaler.\n  return self.fit(X, **fit_params).transform(X)\n/opt/conda/envs/Python36/lib/python3.6/site-packages/ipykernel/__main__.py:8: DataConversionWarning: Data with input dtype int64, float64 were all converted to float64 by StandardScaler.\n"
                },
                {
                    "name": "stdout",
                    "output_type": "stream",
                    "text": "309/309 [==============================] - 1s 2ms/step\n"
                },
                {
                    "name": "stderr",
                    "output_type": "stream",
                    "text": "/opt/conda/envs/Python36/lib/python3.6/site-packages/sklearn/preprocessing/data.py:645: DataConversionWarning: Data with input dtype int64, float64 were all converted to float64 by StandardScaler.\n  return self.partial_fit(X, y)\n/opt/conda/envs/Python36/lib/python3.6/site-packages/sklearn/base.py:464: DataConversionWarning: Data with input dtype int64, float64 were all converted to float64 by StandardScaler.\n  return self.fit(X, **fit_params).transform(X)\n/opt/conda/envs/Python36/lib/python3.6/site-packages/ipykernel/__main__.py:8: DataConversionWarning: Data with input dtype int64, float64 were all converted to float64 by StandardScaler.\n"
                },
                {
                    "name": "stdout",
                    "output_type": "stream",
                    "text": "309/309 [==============================] - 1s 2ms/step\n"
                },
                {
                    "name": "stderr",
                    "output_type": "stream",
                    "text": "/opt/conda/envs/Python36/lib/python3.6/site-packages/sklearn/preprocessing/data.py:645: DataConversionWarning: Data with input dtype int64, float64 were all converted to float64 by StandardScaler.\n  return self.partial_fit(X, y)\n/opt/conda/envs/Python36/lib/python3.6/site-packages/sklearn/base.py:464: DataConversionWarning: Data with input dtype int64, float64 were all converted to float64 by StandardScaler.\n  return self.fit(X, **fit_params).transform(X)\n/opt/conda/envs/Python36/lib/python3.6/site-packages/ipykernel/__main__.py:8: DataConversionWarning: Data with input dtype int64, float64 were all converted to float64 by StandardScaler.\n"
                },
                {
                    "name": "stdout",
                    "output_type": "stream",
                    "text": "309/309 [==============================] - 1s 2ms/step\n"
                },
                {
                    "name": "stderr",
                    "output_type": "stream",
                    "text": "/opt/conda/envs/Python36/lib/python3.6/site-packages/sklearn/preprocessing/data.py:645: DataConversionWarning: Data with input dtype int64, float64 were all converted to float64 by StandardScaler.\n  return self.partial_fit(X, y)\n/opt/conda/envs/Python36/lib/python3.6/site-packages/sklearn/base.py:464: DataConversionWarning: Data with input dtype int64, float64 were all converted to float64 by StandardScaler.\n  return self.fit(X, **fit_params).transform(X)\n/opt/conda/envs/Python36/lib/python3.6/site-packages/ipykernel/__main__.py:8: DataConversionWarning: Data with input dtype int64, float64 were all converted to float64 by StandardScaler.\n"
                },
                {
                    "name": "stdout",
                    "output_type": "stream",
                    "text": "309/309 [==============================] - 1s 2ms/step\n"
                },
                {
                    "name": "stderr",
                    "output_type": "stream",
                    "text": "/opt/conda/envs/Python36/lib/python3.6/site-packages/sklearn/preprocessing/data.py:645: DataConversionWarning: Data with input dtype int64, float64 were all converted to float64 by StandardScaler.\n  return self.partial_fit(X, y)\n/opt/conda/envs/Python36/lib/python3.6/site-packages/sklearn/base.py:464: DataConversionWarning: Data with input dtype int64, float64 were all converted to float64 by StandardScaler.\n  return self.fit(X, **fit_params).transform(X)\n/opt/conda/envs/Python36/lib/python3.6/site-packages/ipykernel/__main__.py:8: DataConversionWarning: Data with input dtype int64, float64 were all converted to float64 by StandardScaler.\n"
                },
                {
                    "name": "stdout",
                    "output_type": "stream",
                    "text": "309/309 [==============================] - 1s 2ms/step\n"
                },
                {
                    "name": "stderr",
                    "output_type": "stream",
                    "text": "/opt/conda/envs/Python36/lib/python3.6/site-packages/sklearn/preprocessing/data.py:645: DataConversionWarning: Data with input dtype int64, float64 were all converted to float64 by StandardScaler.\n  return self.partial_fit(X, y)\n/opt/conda/envs/Python36/lib/python3.6/site-packages/sklearn/base.py:464: DataConversionWarning: Data with input dtype int64, float64 were all converted to float64 by StandardScaler.\n  return self.fit(X, **fit_params).transform(X)\n/opt/conda/envs/Python36/lib/python3.6/site-packages/ipykernel/__main__.py:8: DataConversionWarning: Data with input dtype int64, float64 were all converted to float64 by StandardScaler.\n"
                },
                {
                    "name": "stdout",
                    "output_type": "stream",
                    "text": "309/309 [==============================] - 1s 2ms/step\n"
                },
                {
                    "name": "stderr",
                    "output_type": "stream",
                    "text": "/opt/conda/envs/Python36/lib/python3.6/site-packages/sklearn/preprocessing/data.py:645: DataConversionWarning: Data with input dtype int64, float64 were all converted to float64 by StandardScaler.\n  return self.partial_fit(X, y)\n/opt/conda/envs/Python36/lib/python3.6/site-packages/sklearn/base.py:464: DataConversionWarning: Data with input dtype int64, float64 were all converted to float64 by StandardScaler.\n  return self.fit(X, **fit_params).transform(X)\n/opt/conda/envs/Python36/lib/python3.6/site-packages/ipykernel/__main__.py:8: DataConversionWarning: Data with input dtype int64, float64 were all converted to float64 by StandardScaler.\n"
                },
                {
                    "name": "stdout",
                    "output_type": "stream",
                    "text": "309/309 [==============================] - 1s 2ms/step\n"
                },
                {
                    "name": "stderr",
                    "output_type": "stream",
                    "text": "/opt/conda/envs/Python36/lib/python3.6/site-packages/sklearn/preprocessing/data.py:645: DataConversionWarning: Data with input dtype int64, float64 were all converted to float64 by StandardScaler.\n  return self.partial_fit(X, y)\n/opt/conda/envs/Python36/lib/python3.6/site-packages/sklearn/base.py:464: DataConversionWarning: Data with input dtype int64, float64 were all converted to float64 by StandardScaler.\n  return self.fit(X, **fit_params).transform(X)\n/opt/conda/envs/Python36/lib/python3.6/site-packages/ipykernel/__main__.py:8: DataConversionWarning: Data with input dtype int64, float64 were all converted to float64 by StandardScaler.\n"
                },
                {
                    "name": "stdout",
                    "output_type": "stream",
                    "text": "309/309 [==============================] - 0s 2ms/step\n"
                },
                {
                    "name": "stderr",
                    "output_type": "stream",
                    "text": "/opt/conda/envs/Python36/lib/python3.6/site-packages/sklearn/preprocessing/data.py:645: DataConversionWarning: Data with input dtype int64, float64 were all converted to float64 by StandardScaler.\n  return self.partial_fit(X, y)\n/opt/conda/envs/Python36/lib/python3.6/site-packages/sklearn/base.py:464: DataConversionWarning: Data with input dtype int64, float64 were all converted to float64 by StandardScaler.\n  return self.fit(X, **fit_params).transform(X)\n/opt/conda/envs/Python36/lib/python3.6/site-packages/ipykernel/__main__.py:8: DataConversionWarning: Data with input dtype int64, float64 were all converted to float64 by StandardScaler.\n"
                },
                {
                    "name": "stdout",
                    "output_type": "stream",
                    "text": "309/309 [==============================] - 1s 2ms/step\n"
                },
                {
                    "name": "stderr",
                    "output_type": "stream",
                    "text": "/opt/conda/envs/Python36/lib/python3.6/site-packages/sklearn/preprocessing/data.py:645: DataConversionWarning: Data with input dtype int64, float64 were all converted to float64 by StandardScaler.\n  return self.partial_fit(X, y)\n/opt/conda/envs/Python36/lib/python3.6/site-packages/sklearn/base.py:464: DataConversionWarning: Data with input dtype int64, float64 were all converted to float64 by StandardScaler.\n  return self.fit(X, **fit_params).transform(X)\n/opt/conda/envs/Python36/lib/python3.6/site-packages/ipykernel/__main__.py:8: DataConversionWarning: Data with input dtype int64, float64 were all converted to float64 by StandardScaler.\n"
                },
                {
                    "name": "stdout",
                    "output_type": "stream",
                    "text": "309/309 [==============================] - 1s 2ms/step\n"
                },
                {
                    "name": "stderr",
                    "output_type": "stream",
                    "text": "/opt/conda/envs/Python36/lib/python3.6/site-packages/sklearn/preprocessing/data.py:645: DataConversionWarning: Data with input dtype int64, float64 were all converted to float64 by StandardScaler.\n  return self.partial_fit(X, y)\n/opt/conda/envs/Python36/lib/python3.6/site-packages/sklearn/base.py:464: DataConversionWarning: Data with input dtype int64, float64 were all converted to float64 by StandardScaler.\n  return self.fit(X, **fit_params).transform(X)\n/opt/conda/envs/Python36/lib/python3.6/site-packages/ipykernel/__main__.py:8: DataConversionWarning: Data with input dtype int64, float64 were all converted to float64 by StandardScaler.\n"
                },
                {
                    "name": "stdout",
                    "output_type": "stream",
                    "text": "309/309 [==============================] - 1s 2ms/step\n"
                },
                {
                    "name": "stderr",
                    "output_type": "stream",
                    "text": "/opt/conda/envs/Python36/lib/python3.6/site-packages/sklearn/preprocessing/data.py:645: DataConversionWarning: Data with input dtype int64, float64 were all converted to float64 by StandardScaler.\n  return self.partial_fit(X, y)\n/opt/conda/envs/Python36/lib/python3.6/site-packages/sklearn/base.py:464: DataConversionWarning: Data with input dtype int64, float64 were all converted to float64 by StandardScaler.\n  return self.fit(X, **fit_params).transform(X)\n/opt/conda/envs/Python36/lib/python3.6/site-packages/ipykernel/__main__.py:8: DataConversionWarning: Data with input dtype int64, float64 were all converted to float64 by StandardScaler.\n"
                },
                {
                    "name": "stdout",
                    "output_type": "stream",
                    "text": "309/309 [==============================] - 1s 2ms/step\n"
                },
                {
                    "name": "stderr",
                    "output_type": "stream",
                    "text": "/opt/conda/envs/Python36/lib/python3.6/site-packages/sklearn/preprocessing/data.py:645: DataConversionWarning: Data with input dtype int64, float64 were all converted to float64 by StandardScaler.\n  return self.partial_fit(X, y)\n/opt/conda/envs/Python36/lib/python3.6/site-packages/sklearn/base.py:464: DataConversionWarning: Data with input dtype int64, float64 were all converted to float64 by StandardScaler.\n  return self.fit(X, **fit_params).transform(X)\n/opt/conda/envs/Python36/lib/python3.6/site-packages/ipykernel/__main__.py:8: DataConversionWarning: Data with input dtype int64, float64 were all converted to float64 by StandardScaler.\n"
                },
                {
                    "name": "stdout",
                    "output_type": "stream",
                    "text": "309/309 [==============================] - 1s 2ms/step\n"
                },
                {
                    "name": "stderr",
                    "output_type": "stream",
                    "text": "/opt/conda/envs/Python36/lib/python3.6/site-packages/sklearn/preprocessing/data.py:645: DataConversionWarning: Data with input dtype int64, float64 were all converted to float64 by StandardScaler.\n  return self.partial_fit(X, y)\n/opt/conda/envs/Python36/lib/python3.6/site-packages/sklearn/base.py:464: DataConversionWarning: Data with input dtype int64, float64 were all converted to float64 by StandardScaler.\n  return self.fit(X, **fit_params).transform(X)\n/opt/conda/envs/Python36/lib/python3.6/site-packages/ipykernel/__main__.py:8: DataConversionWarning: Data with input dtype int64, float64 were all converted to float64 by StandardScaler.\n"
                },
                {
                    "name": "stdout",
                    "output_type": "stream",
                    "text": "309/309 [==============================] - 1s 2ms/step\n"
                },
                {
                    "name": "stderr",
                    "output_type": "stream",
                    "text": "/opt/conda/envs/Python36/lib/python3.6/site-packages/sklearn/preprocessing/data.py:645: DataConversionWarning: Data with input dtype int64, float64 were all converted to float64 by StandardScaler.\n  return self.partial_fit(X, y)\n/opt/conda/envs/Python36/lib/python3.6/site-packages/sklearn/base.py:464: DataConversionWarning: Data with input dtype int64, float64 were all converted to float64 by StandardScaler.\n  return self.fit(X, **fit_params).transform(X)\n/opt/conda/envs/Python36/lib/python3.6/site-packages/ipykernel/__main__.py:8: DataConversionWarning: Data with input dtype int64, float64 were all converted to float64 by StandardScaler.\n"
                },
                {
                    "name": "stdout",
                    "output_type": "stream",
                    "text": "309/309 [==============================] - 1s 2ms/step\n"
                },
                {
                    "name": "stderr",
                    "output_type": "stream",
                    "text": "/opt/conda/envs/Python36/lib/python3.6/site-packages/sklearn/preprocessing/data.py:645: DataConversionWarning: Data with input dtype int64, float64 were all converted to float64 by StandardScaler.\n  return self.partial_fit(X, y)\n/opt/conda/envs/Python36/lib/python3.6/site-packages/sklearn/base.py:464: DataConversionWarning: Data with input dtype int64, float64 were all converted to float64 by StandardScaler.\n  return self.fit(X, **fit_params).transform(X)\n/opt/conda/envs/Python36/lib/python3.6/site-packages/ipykernel/__main__.py:8: DataConversionWarning: Data with input dtype int64, float64 were all converted to float64 by StandardScaler.\n"
                },
                {
                    "name": "stdout",
                    "output_type": "stream",
                    "text": "309/309 [==============================] - 1s 2ms/step\n"
                },
                {
                    "name": "stderr",
                    "output_type": "stream",
                    "text": "/opt/conda/envs/Python36/lib/python3.6/site-packages/sklearn/preprocessing/data.py:645: DataConversionWarning: Data with input dtype int64, float64 were all converted to float64 by StandardScaler.\n  return self.partial_fit(X, y)\n/opt/conda/envs/Python36/lib/python3.6/site-packages/sklearn/base.py:464: DataConversionWarning: Data with input dtype int64, float64 were all converted to float64 by StandardScaler.\n  return self.fit(X, **fit_params).transform(X)\n/opt/conda/envs/Python36/lib/python3.6/site-packages/ipykernel/__main__.py:8: DataConversionWarning: Data with input dtype int64, float64 were all converted to float64 by StandardScaler.\n"
                },
                {
                    "name": "stdout",
                    "output_type": "stream",
                    "text": "309/309 [==============================] - 1s 2ms/step\n"
                },
                {
                    "name": "stderr",
                    "output_type": "stream",
                    "text": "/opt/conda/envs/Python36/lib/python3.6/site-packages/sklearn/preprocessing/data.py:645: DataConversionWarning: Data with input dtype int64, float64 were all converted to float64 by StandardScaler.\n  return self.partial_fit(X, y)\n/opt/conda/envs/Python36/lib/python3.6/site-packages/sklearn/base.py:464: DataConversionWarning: Data with input dtype int64, float64 were all converted to float64 by StandardScaler.\n  return self.fit(X, **fit_params).transform(X)\n/opt/conda/envs/Python36/lib/python3.6/site-packages/ipykernel/__main__.py:8: DataConversionWarning: Data with input dtype int64, float64 were all converted to float64 by StandardScaler.\n"
                },
                {
                    "name": "stdout",
                    "output_type": "stream",
                    "text": "309/309 [==============================] - 1s 2ms/step\n"
                },
                {
                    "name": "stderr",
                    "output_type": "stream",
                    "text": "/opt/conda/envs/Python36/lib/python3.6/site-packages/sklearn/preprocessing/data.py:645: DataConversionWarning: Data with input dtype int64, float64 were all converted to float64 by StandardScaler.\n  return self.partial_fit(X, y)\n/opt/conda/envs/Python36/lib/python3.6/site-packages/sklearn/base.py:464: DataConversionWarning: Data with input dtype int64, float64 were all converted to float64 by StandardScaler.\n  return self.fit(X, **fit_params).transform(X)\n/opt/conda/envs/Python36/lib/python3.6/site-packages/ipykernel/__main__.py:8: DataConversionWarning: Data with input dtype int64, float64 were all converted to float64 by StandardScaler.\n"
                },
                {
                    "name": "stdout",
                    "output_type": "stream",
                    "text": "309/309 [==============================] - 1s 2ms/step\n"
                },
                {
                    "name": "stderr",
                    "output_type": "stream",
                    "text": "/opt/conda/envs/Python36/lib/python3.6/site-packages/sklearn/preprocessing/data.py:645: DataConversionWarning: Data with input dtype int64, float64 were all converted to float64 by StandardScaler.\n  return self.partial_fit(X, y)\n/opt/conda/envs/Python36/lib/python3.6/site-packages/sklearn/base.py:464: DataConversionWarning: Data with input dtype int64, float64 were all converted to float64 by StandardScaler.\n  return self.fit(X, **fit_params).transform(X)\n/opt/conda/envs/Python36/lib/python3.6/site-packages/ipykernel/__main__.py:8: DataConversionWarning: Data with input dtype int64, float64 were all converted to float64 by StandardScaler.\n"
                },
                {
                    "name": "stdout",
                    "output_type": "stream",
                    "text": "309/309 [==============================] - 0s 2ms/step\n"
                },
                {
                    "name": "stderr",
                    "output_type": "stream",
                    "text": "/opt/conda/envs/Python36/lib/python3.6/site-packages/sklearn/preprocessing/data.py:645: DataConversionWarning: Data with input dtype int64, float64 were all converted to float64 by StandardScaler.\n  return self.partial_fit(X, y)\n/opt/conda/envs/Python36/lib/python3.6/site-packages/sklearn/base.py:464: DataConversionWarning: Data with input dtype int64, float64 were all converted to float64 by StandardScaler.\n  return self.fit(X, **fit_params).transform(X)\n/opt/conda/envs/Python36/lib/python3.6/site-packages/ipykernel/__main__.py:8: DataConversionWarning: Data with input dtype int64, float64 were all converted to float64 by StandardScaler.\n"
                },
                {
                    "name": "stdout",
                    "output_type": "stream",
                    "text": "309/309 [==============================] - 1s 2ms/step\n"
                },
                {
                    "name": "stderr",
                    "output_type": "stream",
                    "text": "/opt/conda/envs/Python36/lib/python3.6/site-packages/sklearn/preprocessing/data.py:645: DataConversionWarning: Data with input dtype int64, float64 were all converted to float64 by StandardScaler.\n  return self.partial_fit(X, y)\n/opt/conda/envs/Python36/lib/python3.6/site-packages/sklearn/base.py:464: DataConversionWarning: Data with input dtype int64, float64 were all converted to float64 by StandardScaler.\n  return self.fit(X, **fit_params).transform(X)\n/opt/conda/envs/Python36/lib/python3.6/site-packages/ipykernel/__main__.py:8: DataConversionWarning: Data with input dtype int64, float64 were all converted to float64 by StandardScaler.\n"
                },
                {
                    "name": "stdout",
                    "output_type": "stream",
                    "text": "309/309 [==============================] - 1s 2ms/step\n"
                },
                {
                    "name": "stderr",
                    "output_type": "stream",
                    "text": "/opt/conda/envs/Python36/lib/python3.6/site-packages/sklearn/preprocessing/data.py:645: DataConversionWarning: Data with input dtype int64, float64 were all converted to float64 by StandardScaler.\n  return self.partial_fit(X, y)\n/opt/conda/envs/Python36/lib/python3.6/site-packages/sklearn/base.py:464: DataConversionWarning: Data with input dtype int64, float64 were all converted to float64 by StandardScaler.\n  return self.fit(X, **fit_params).transform(X)\n/opt/conda/envs/Python36/lib/python3.6/site-packages/ipykernel/__main__.py:8: DataConversionWarning: Data with input dtype int64, float64 were all converted to float64 by StandardScaler.\n"
                },
                {
                    "name": "stdout",
                    "output_type": "stream",
                    "text": "309/309 [==============================] - 1s 2ms/step\n"
                },
                {
                    "name": "stderr",
                    "output_type": "stream",
                    "text": "/opt/conda/envs/Python36/lib/python3.6/site-packages/sklearn/preprocessing/data.py:645: DataConversionWarning: Data with input dtype int64, float64 were all converted to float64 by StandardScaler.\n  return self.partial_fit(X, y)\n/opt/conda/envs/Python36/lib/python3.6/site-packages/sklearn/base.py:464: DataConversionWarning: Data with input dtype int64, float64 were all converted to float64 by StandardScaler.\n  return self.fit(X, **fit_params).transform(X)\n/opt/conda/envs/Python36/lib/python3.6/site-packages/ipykernel/__main__.py:8: DataConversionWarning: Data with input dtype int64, float64 were all converted to float64 by StandardScaler.\n"
                },
                {
                    "name": "stdout",
                    "output_type": "stream",
                    "text": "309/309 [==============================] - 1s 2ms/step\n"
                },
                {
                    "name": "stderr",
                    "output_type": "stream",
                    "text": "/opt/conda/envs/Python36/lib/python3.6/site-packages/sklearn/preprocessing/data.py:645: DataConversionWarning: Data with input dtype int64, float64 were all converted to float64 by StandardScaler.\n  return self.partial_fit(X, y)\n/opt/conda/envs/Python36/lib/python3.6/site-packages/sklearn/base.py:464: DataConversionWarning: Data with input dtype int64, float64 were all converted to float64 by StandardScaler.\n  return self.fit(X, **fit_params).transform(X)\n/opt/conda/envs/Python36/lib/python3.6/site-packages/ipykernel/__main__.py:8: DataConversionWarning: Data with input dtype int64, float64 were all converted to float64 by StandardScaler.\n"
                },
                {
                    "name": "stdout",
                    "output_type": "stream",
                    "text": "309/309 [==============================] - 1s 4ms/step\n"
                },
                {
                    "name": "stderr",
                    "output_type": "stream",
                    "text": "/opt/conda/envs/Python36/lib/python3.6/site-packages/sklearn/preprocessing/data.py:645: DataConversionWarning: Data with input dtype int64, float64 were all converted to float64 by StandardScaler.\n  return self.partial_fit(X, y)\n/opt/conda/envs/Python36/lib/python3.6/site-packages/sklearn/base.py:464: DataConversionWarning: Data with input dtype int64, float64 were all converted to float64 by StandardScaler.\n  return self.fit(X, **fit_params).transform(X)\n/opt/conda/envs/Python36/lib/python3.6/site-packages/ipykernel/__main__.py:8: DataConversionWarning: Data with input dtype int64, float64 were all converted to float64 by StandardScaler.\n"
                },
                {
                    "name": "stdout",
                    "output_type": "stream",
                    "text": "309/309 [==============================] - 1s 3ms/step\n"
                },
                {
                    "name": "stderr",
                    "output_type": "stream",
                    "text": "/opt/conda/envs/Python36/lib/python3.6/site-packages/sklearn/preprocessing/data.py:645: DataConversionWarning: Data with input dtype int64, float64 were all converted to float64 by StandardScaler.\n  return self.partial_fit(X, y)\n/opt/conda/envs/Python36/lib/python3.6/site-packages/sklearn/base.py:464: DataConversionWarning: Data with input dtype int64, float64 were all converted to float64 by StandardScaler.\n  return self.fit(X, **fit_params).transform(X)\n/opt/conda/envs/Python36/lib/python3.6/site-packages/ipykernel/__main__.py:8: DataConversionWarning: Data with input dtype int64, float64 were all converted to float64 by StandardScaler.\n"
                },
                {
                    "name": "stdout",
                    "output_type": "stream",
                    "text": "309/309 [==============================] - 1s 2ms/step\n"
                },
                {
                    "name": "stderr",
                    "output_type": "stream",
                    "text": "/opt/conda/envs/Python36/lib/python3.6/site-packages/sklearn/preprocessing/data.py:645: DataConversionWarning: Data with input dtype int64, float64 were all converted to float64 by StandardScaler.\n  return self.partial_fit(X, y)\n/opt/conda/envs/Python36/lib/python3.6/site-packages/sklearn/base.py:464: DataConversionWarning: Data with input dtype int64, float64 were all converted to float64 by StandardScaler.\n  return self.fit(X, **fit_params).transform(X)\n/opt/conda/envs/Python36/lib/python3.6/site-packages/ipykernel/__main__.py:8: DataConversionWarning: Data with input dtype int64, float64 were all converted to float64 by StandardScaler.\n"
                },
                {
                    "name": "stdout",
                    "output_type": "stream",
                    "text": "309/309 [==============================] - 1s 2ms/step\n"
                },
                {
                    "name": "stderr",
                    "output_type": "stream",
                    "text": "/opt/conda/envs/Python36/lib/python3.6/site-packages/sklearn/preprocessing/data.py:645: DataConversionWarning: Data with input dtype int64, float64 were all converted to float64 by StandardScaler.\n  return self.partial_fit(X, y)\n/opt/conda/envs/Python36/lib/python3.6/site-packages/sklearn/base.py:464: DataConversionWarning: Data with input dtype int64, float64 were all converted to float64 by StandardScaler.\n  return self.fit(X, **fit_params).transform(X)\n/opt/conda/envs/Python36/lib/python3.6/site-packages/ipykernel/__main__.py:8: DataConversionWarning: Data with input dtype int64, float64 were all converted to float64 by StandardScaler.\n"
                },
                {
                    "name": "stdout",
                    "output_type": "stream",
                    "text": "309/309 [==============================] - 0s 2ms/step\n"
                },
                {
                    "name": "stderr",
                    "output_type": "stream",
                    "text": "/opt/conda/envs/Python36/lib/python3.6/site-packages/sklearn/preprocessing/data.py:645: DataConversionWarning: Data with input dtype int64, float64 were all converted to float64 by StandardScaler.\n  return self.partial_fit(X, y)\n/opt/conda/envs/Python36/lib/python3.6/site-packages/sklearn/base.py:464: DataConversionWarning: Data with input dtype int64, float64 were all converted to float64 by StandardScaler.\n  return self.fit(X, **fit_params).transform(X)\n/opt/conda/envs/Python36/lib/python3.6/site-packages/ipykernel/__main__.py:8: DataConversionWarning: Data with input dtype int64, float64 were all converted to float64 by StandardScaler.\n"
                },
                {
                    "name": "stdout",
                    "output_type": "stream",
                    "text": "309/309 [==============================] - 1s 2ms/step\n"
                },
                {
                    "name": "stderr",
                    "output_type": "stream",
                    "text": "/opt/conda/envs/Python36/lib/python3.6/site-packages/sklearn/preprocessing/data.py:645: DataConversionWarning: Data with input dtype int64, float64 were all converted to float64 by StandardScaler.\n  return self.partial_fit(X, y)\n/opt/conda/envs/Python36/lib/python3.6/site-packages/sklearn/base.py:464: DataConversionWarning: Data with input dtype int64, float64 were all converted to float64 by StandardScaler.\n  return self.fit(X, **fit_params).transform(X)\n/opt/conda/envs/Python36/lib/python3.6/site-packages/ipykernel/__main__.py:8: DataConversionWarning: Data with input dtype int64, float64 were all converted to float64 by StandardScaler.\n"
                },
                {
                    "name": "stdout",
                    "output_type": "stream",
                    "text": "309/309 [==============================] - 1s 2ms/step\n"
                },
                {
                    "name": "stderr",
                    "output_type": "stream",
                    "text": "/opt/conda/envs/Python36/lib/python3.6/site-packages/sklearn/preprocessing/data.py:645: DataConversionWarning: Data with input dtype int64, float64 were all converted to float64 by StandardScaler.\n  return self.partial_fit(X, y)\n/opt/conda/envs/Python36/lib/python3.6/site-packages/sklearn/base.py:464: DataConversionWarning: Data with input dtype int64, float64 were all converted to float64 by StandardScaler.\n  return self.fit(X, **fit_params).transform(X)\n/opt/conda/envs/Python36/lib/python3.6/site-packages/ipykernel/__main__.py:8: DataConversionWarning: Data with input dtype int64, float64 were all converted to float64 by StandardScaler.\n"
                },
                {
                    "name": "stdout",
                    "output_type": "stream",
                    "text": "309/309 [==============================] - 1s 2ms/step\n"
                },
                {
                    "name": "stderr",
                    "output_type": "stream",
                    "text": "/opt/conda/envs/Python36/lib/python3.6/site-packages/sklearn/preprocessing/data.py:645: DataConversionWarning: Data with input dtype int64, float64 were all converted to float64 by StandardScaler.\n  return self.partial_fit(X, y)\n/opt/conda/envs/Python36/lib/python3.6/site-packages/sklearn/base.py:464: DataConversionWarning: Data with input dtype int64, float64 were all converted to float64 by StandardScaler.\n  return self.fit(X, **fit_params).transform(X)\n/opt/conda/envs/Python36/lib/python3.6/site-packages/ipykernel/__main__.py:8: DataConversionWarning: Data with input dtype int64, float64 were all converted to float64 by StandardScaler.\n"
                },
                {
                    "name": "stdout",
                    "output_type": "stream",
                    "text": "309/309 [==============================] - 1s 2ms/step\n"
                },
                {
                    "name": "stderr",
                    "output_type": "stream",
                    "text": "/opt/conda/envs/Python36/lib/python3.6/site-packages/sklearn/preprocessing/data.py:645: DataConversionWarning: Data with input dtype int64, float64 were all converted to float64 by StandardScaler.\n  return self.partial_fit(X, y)\n/opt/conda/envs/Python36/lib/python3.6/site-packages/sklearn/base.py:464: DataConversionWarning: Data with input dtype int64, float64 were all converted to float64 by StandardScaler.\n  return self.fit(X, **fit_params).transform(X)\n/opt/conda/envs/Python36/lib/python3.6/site-packages/ipykernel/__main__.py:8: DataConversionWarning: Data with input dtype int64, float64 were all converted to float64 by StandardScaler.\n"
                },
                {
                    "name": "stdout",
                    "output_type": "stream",
                    "text": "309/309 [==============================] - 1s 2ms/step\n"
                },
                {
                    "name": "stderr",
                    "output_type": "stream",
                    "text": "/opt/conda/envs/Python36/lib/python3.6/site-packages/sklearn/preprocessing/data.py:645: DataConversionWarning: Data with input dtype int64, float64 were all converted to float64 by StandardScaler.\n  return self.partial_fit(X, y)\n/opt/conda/envs/Python36/lib/python3.6/site-packages/sklearn/base.py:464: DataConversionWarning: Data with input dtype int64, float64 were all converted to float64 by StandardScaler.\n  return self.fit(X, **fit_params).transform(X)\n/opt/conda/envs/Python36/lib/python3.6/site-packages/ipykernel/__main__.py:8: DataConversionWarning: Data with input dtype int64, float64 were all converted to float64 by StandardScaler.\n"
                },
                {
                    "name": "stdout",
                    "output_type": "stream",
                    "text": "309/309 [==============================] - 1s 2ms/step\n"
                },
                {
                    "name": "stderr",
                    "output_type": "stream",
                    "text": "/opt/conda/envs/Python36/lib/python3.6/site-packages/sklearn/preprocessing/data.py:645: DataConversionWarning: Data with input dtype int64, float64 were all converted to float64 by StandardScaler.\n  return self.partial_fit(X, y)\n/opt/conda/envs/Python36/lib/python3.6/site-packages/sklearn/base.py:464: DataConversionWarning: Data with input dtype int64, float64 were all converted to float64 by StandardScaler.\n  return self.fit(X, **fit_params).transform(X)\n/opt/conda/envs/Python36/lib/python3.6/site-packages/ipykernel/__main__.py:8: DataConversionWarning: Data with input dtype int64, float64 were all converted to float64 by StandardScaler.\n"
                },
                {
                    "name": "stdout",
                    "output_type": "stream",
                    "text": "309/309 [==============================] - 1s 2ms/step\n"
                },
                {
                    "name": "stderr",
                    "output_type": "stream",
                    "text": "/opt/conda/envs/Python36/lib/python3.6/site-packages/sklearn/preprocessing/data.py:645: DataConversionWarning: Data with input dtype int64, float64 were all converted to float64 by StandardScaler.\n  return self.partial_fit(X, y)\n/opt/conda/envs/Python36/lib/python3.6/site-packages/sklearn/base.py:464: DataConversionWarning: Data with input dtype int64, float64 were all converted to float64 by StandardScaler.\n  return self.fit(X, **fit_params).transform(X)\n/opt/conda/envs/Python36/lib/python3.6/site-packages/ipykernel/__main__.py:8: DataConversionWarning: Data with input dtype int64, float64 were all converted to float64 by StandardScaler.\n"
                },
                {
                    "name": "stdout",
                    "output_type": "stream",
                    "text": "309/309 [==============================] - 1s 4ms/step\n"
                },
                {
                    "name": "stderr",
                    "output_type": "stream",
                    "text": "/opt/conda/envs/Python36/lib/python3.6/site-packages/sklearn/preprocessing/data.py:645: DataConversionWarning: Data with input dtype int64, float64 were all converted to float64 by StandardScaler.\n  return self.partial_fit(X, y)\n/opt/conda/envs/Python36/lib/python3.6/site-packages/sklearn/base.py:464: DataConversionWarning: Data with input dtype int64, float64 were all converted to float64 by StandardScaler.\n  return self.fit(X, **fit_params).transform(X)\n/opt/conda/envs/Python36/lib/python3.6/site-packages/ipykernel/__main__.py:8: DataConversionWarning: Data with input dtype int64, float64 were all converted to float64 by StandardScaler.\n"
                },
                {
                    "name": "stdout",
                    "output_type": "stream",
                    "text": "309/309 [==============================] - 1s 2ms/step\n"
                },
                {
                    "name": "stderr",
                    "output_type": "stream",
                    "text": "/opt/conda/envs/Python36/lib/python3.6/site-packages/sklearn/preprocessing/data.py:645: DataConversionWarning: Data with input dtype int64, float64 were all converted to float64 by StandardScaler.\n  return self.partial_fit(X, y)\n/opt/conda/envs/Python36/lib/python3.6/site-packages/sklearn/base.py:464: DataConversionWarning: Data with input dtype int64, float64 were all converted to float64 by StandardScaler.\n  return self.fit(X, **fit_params).transform(X)\n/opt/conda/envs/Python36/lib/python3.6/site-packages/ipykernel/__main__.py:8: DataConversionWarning: Data with input dtype int64, float64 were all converted to float64 by StandardScaler.\n"
                },
                {
                    "name": "stdout",
                    "output_type": "stream",
                    "text": "309/309 [==============================] - 1s 2ms/step\n"
                },
                {
                    "name": "stderr",
                    "output_type": "stream",
                    "text": "/opt/conda/envs/Python36/lib/python3.6/site-packages/sklearn/preprocessing/data.py:645: DataConversionWarning: Data with input dtype int64, float64 were all converted to float64 by StandardScaler.\n  return self.partial_fit(X, y)\n/opt/conda/envs/Python36/lib/python3.6/site-packages/sklearn/base.py:464: DataConversionWarning: Data with input dtype int64, float64 were all converted to float64 by StandardScaler.\n  return self.fit(X, **fit_params).transform(X)\n/opt/conda/envs/Python36/lib/python3.6/site-packages/ipykernel/__main__.py:8: DataConversionWarning: Data with input dtype int64, float64 were all converted to float64 by StandardScaler.\n"
                },
                {
                    "name": "stdout",
                    "output_type": "stream",
                    "text": "309/309 [==============================] - 1s 2ms/step\n"
                },
                {
                    "name": "stderr",
                    "output_type": "stream",
                    "text": "/opt/conda/envs/Python36/lib/python3.6/site-packages/sklearn/preprocessing/data.py:645: DataConversionWarning: Data with input dtype int64, float64 were all converted to float64 by StandardScaler.\n  return self.partial_fit(X, y)\n/opt/conda/envs/Python36/lib/python3.6/site-packages/sklearn/base.py:464: DataConversionWarning: Data with input dtype int64, float64 were all converted to float64 by StandardScaler.\n  return self.fit(X, **fit_params).transform(X)\n/opt/conda/envs/Python36/lib/python3.6/site-packages/ipykernel/__main__.py:8: DataConversionWarning: Data with input dtype int64, float64 were all converted to float64 by StandardScaler.\n"
                },
                {
                    "name": "stdout",
                    "output_type": "stream",
                    "text": "309/309 [==============================] - 1s 2ms/step\n"
                },
                {
                    "name": "stderr",
                    "output_type": "stream",
                    "text": "/opt/conda/envs/Python36/lib/python3.6/site-packages/sklearn/preprocessing/data.py:645: DataConversionWarning: Data with input dtype int64, float64 were all converted to float64 by StandardScaler.\n  return self.partial_fit(X, y)\n/opt/conda/envs/Python36/lib/python3.6/site-packages/sklearn/base.py:464: DataConversionWarning: Data with input dtype int64, float64 were all converted to float64 by StandardScaler.\n  return self.fit(X, **fit_params).transform(X)\n/opt/conda/envs/Python36/lib/python3.6/site-packages/ipykernel/__main__.py:8: DataConversionWarning: Data with input dtype int64, float64 were all converted to float64 by StandardScaler.\n"
                },
                {
                    "name": "stdout",
                    "output_type": "stream",
                    "text": "309/309 [==============================] - 1s 2ms/step\n"
                },
                {
                    "name": "stderr",
                    "output_type": "stream",
                    "text": "/opt/conda/envs/Python36/lib/python3.6/site-packages/sklearn/preprocessing/data.py:645: DataConversionWarning: Data with input dtype int64, float64 were all converted to float64 by StandardScaler.\n  return self.partial_fit(X, y)\n/opt/conda/envs/Python36/lib/python3.6/site-packages/sklearn/base.py:464: DataConversionWarning: Data with input dtype int64, float64 were all converted to float64 by StandardScaler.\n  return self.fit(X, **fit_params).transform(X)\n/opt/conda/envs/Python36/lib/python3.6/site-packages/ipykernel/__main__.py:8: DataConversionWarning: Data with input dtype int64, float64 were all converted to float64 by StandardScaler.\n"
                },
                {
                    "name": "stdout",
                    "output_type": "stream",
                    "text": "309/309 [==============================] - 1s 4ms/step\n"
                },
                {
                    "name": "stderr",
                    "output_type": "stream",
                    "text": "/opt/conda/envs/Python36/lib/python3.6/site-packages/sklearn/preprocessing/data.py:645: DataConversionWarning: Data with input dtype int64, float64 were all converted to float64 by StandardScaler.\n  return self.partial_fit(X, y)\n/opt/conda/envs/Python36/lib/python3.6/site-packages/sklearn/base.py:464: DataConversionWarning: Data with input dtype int64, float64 were all converted to float64 by StandardScaler.\n  return self.fit(X, **fit_params).transform(X)\n/opt/conda/envs/Python36/lib/python3.6/site-packages/ipykernel/__main__.py:8: DataConversionWarning: Data with input dtype int64, float64 were all converted to float64 by StandardScaler.\n"
                },
                {
                    "name": "stdout",
                    "output_type": "stream",
                    "text": "309/309 [==============================] - 1s 2ms/step\n[98.93755624518039, 79.07447293969805, 69.35580891235746, 62.54917275635556, 49.39861422294938, 44.73446187386621, 41.22010787173768, 39.10336493828536, 38.11248894725417, 38.01690346677712, 36.82365864380278, 36.62117775975693, 36.10509323070736, 36.09413746954168, 35.373118382055786, 35.171450979115505, 34.77271548829804, 34.53988470305902, 34.22679342498285, 34.17303774812075, 34.69885825802207, 34.901800029100336, 34.546180731270304, 34.57121097231374, 34.34870177025162, 34.248196009293345, 34.523362533174286, 34.96614545062908, 34.550080993800485, 34.92532965280477, 34.378677090394845, 34.484303783058735, 33.98619257670776, 35.138142743156955, 35.59140970791814, 35.035594329093264, 35.19949488346631, 35.238995428610004, 34.894962230546575, 35.9162133997698, 35.91329236941044, 35.93157961762067, 35.60713074816855, 35.408782147280995, 35.6231430263581, 35.98423744559674, 35.542155805914916, 36.48672751392747, 35.80899017296949, 36.25186781281406]\n"
                }
            ],
            "source": "# Train and evaluate model_2 for epochs = 50 and with standardized train and test datasets 50 times. \nmse=[]\ni=0\nfor i in range (50):\n    X_train, X_test, y_train, y_test = train_test_split(predictors, target, test_size= 0.3, random_state = 0)\n    scale = StandardScaler()\n    X_train_s = scale.fit_transform(X_train)\n    X_test_s = scale.transform(X_test)\n    model_2.fit( x=X_train_s, y=y_train, epochs=50, verbose=0)\n    results = model_2.evaluate(X_test_s, y_test, batch_size=8)\n    mse.append(results) \n    i = i + 1\nprint(mse)  \n"
        },
        {
            "cell_type": "markdown",
            "metadata": {},
            "source": "## We compute the mean and standard deviation of the 50 mses"
        },
        {
            "cell_type": "code",
            "execution_count": 22,
            "metadata": {},
            "outputs": [
                {
                    "name": "stdout",
                    "output_type": "stream",
                    "text": "mean_mse: 39.38211558474691\nstd deviation:  12.173264325016339\n"
                }
            ],
            "source": "# Apply statistics to the mse list collected using numpy.\nimport numpy as np\nmean_mse = np.mean(mse)\nstd_mse = np.std(mse)\nprint('mean_mse:', mean_mse)\nprint('std deviation: ' , std_mse)"
        },
        {
            "cell_type": "markdown",
            "metadata": {},
            "source": "## Commentary on the mean and standard deviation results of Part A, B, C and D:\n## Part A being the base case, Part B using standardised data for training and test data shows that this improves the mean of mse (lowers it) quite a bit (20%). However the spread (std deviation) is twice that of the base case. So this shows accuracy is better but the precision is sacrificed. Part C using twice the number of epochs (training periods) improves the precision significantly as well as improving the accuracy by 20% over part B. Applying a more layered model in Part D performs the same as Part C in terms of accuracy (mean of mses). However with less precision as Part C. Seems there is scope to optimize these 'parameters' : epochs, model structure and data engineering for the sweet spot of accuracy and precision and computational times. Summarising the numbers:\n### Mean of mses : Part A 54.178, Part B 45.67, Part C 36.445, Part D 39.382\n### Std Deviation of mses: Part A 10.002, Part B 21.476, Part C 0.348 Part D 12.17\n### This suggests trainingepochs have a dominant effect on optimal accuracy and precision of the model.\n"
        },
        {
            "cell_type": "code",
            "execution_count": null,
            "metadata": {},
            "outputs": [],
            "source": ""
        }
    ],
    "metadata": {
        "kernelspec": {
            "display_name": "Python 3.6",
            "language": "python",
            "name": "python3"
        },
        "language_info": {
            "codemirror_mode": {
                "name": "ipython",
                "version": 3
            },
            "file_extension": ".py",
            "mimetype": "text/x-python",
            "name": "python",
            "nbconvert_exporter": "python",
            "pygments_lexer": "ipython3",
            "version": "3.6.9"
        }
    },
    "nbformat": 4,
    "nbformat_minor": 1
}